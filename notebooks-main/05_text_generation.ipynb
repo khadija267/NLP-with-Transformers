{
  "cells": [
    {
      "cell_type": "code",
      "execution_count": 1,
      "metadata": {
        "id": "71UE9SAqWQvj",
        "outputId": "ff54d283-1da6-413c-9828-92f2daa56b7d",
        "colab": {
          "base_uri": "https://localhost:8080/"
        }
      },
      "outputs": [
        {
          "output_type": "stream",
          "name": "stdout",
          "text": [
            "Cloning into 'notebooks'...\n",
            "remote: Enumerating objects: 515, done.\u001b[K\n",
            "remote: Counting objects: 100% (162/162), done.\u001b[K\n",
            "remote: Compressing objects: 100% (39/39), done.\u001b[K\n",
            "remote: Total 515 (delta 139), reused 127 (delta 123), pack-reused 353\u001b[K\n",
            "Receiving objects: 100% (515/515), 28.61 MiB | 11.31 MiB/s, done.\n",
            "Resolving deltas: 100% (246/246), done.\n",
            "/content/notebooks\n",
            "⏳ Installing base requirements ...\n",
            "✅ Base requirements installed!\n",
            "⏳ Installing Git LFS ...\n",
            "✅ Git LFS installed!\n"
          ]
        }
      ],
      "source": [
        "# Uncomment and run this cell if you're on Colab or Kaggle\n",
        "!git clone https://github.com/nlp-with-transformers/notebooks.git\n",
        "%cd notebooks\n",
        "from install import *\n",
        "install_requirements()"
      ]
    },
    {
      "cell_type": "code",
      "execution_count": 2,
      "metadata": {
        "id": "YXKPkk-jWQvp",
        "outputId": "3da1cc31-9a40-4a74-8fd7-a54dd88f1de1",
        "colab": {
          "base_uri": "https://localhost:8080/"
        }
      },
      "outputs": [
        {
          "output_type": "stream",
          "name": "stdout",
          "text": [
            "Using transformers v4.11.3\n",
            "Using datasets v1.16.1\n"
          ]
        }
      ],
      "source": [
        "# hide\n",
        "from utils import *\n",
        "setup_chapter()"
      ]
    },
    {
      "cell_type": "markdown",
      "metadata": {
        "id": "tXNtjB_YWQvq"
      },
      "source": [
        "# Text Generation"
      ]
    },
    {
      "cell_type": "markdown",
      "metadata": {
        "id": "y-44ZTYrWQvs"
      },
      "source": [
        "<img alt=\"LM Meta Learning\" width=\"800\" caption=\"During pretraining, language models are exposed to sequences of tasks that can be adapted during inference (courtesy of Tom B. Brown)\" src=\"https://github.com/nlp-with-transformers/notebooks/blob/main/images/chapter05_lm-meta-learning.png?raw=1\" id=\"lm-meta-learning\"/>"
      ]
    },
    {
      "cell_type": "markdown",
      "metadata": {
        "id": "qmTV_1GUWQvu"
      },
      "source": [
        "<img alt=\"Meena\" width=\"300\" caption=\"Meena on the left telling a corny joke to a human on the right (courtesy of Daniel Adiwardana and Thang Luong)\" src=\"https://github.com/nlp-with-transformers/notebooks/blob/main/images/chapter05_meena.png?raw=1\" id=\"meena\"/>"
      ]
    },
    {
      "cell_type": "markdown",
      "metadata": {
        "id": "GzSiGGwCWQvu"
      },
      "source": [
        "## The Challenge with Generating Coherent Text"
      ]
    },
    {
      "cell_type": "markdown",
      "metadata": {
        "id": "ZNI_RBDQWQvv"
      },
      "source": [
        "<img alt=\"Text generation\" width=\"700\" caption=\"Generating text from an input sequence by adding a new word to the input at each step\" src=\"https://github.com/nlp-with-transformers/notebooks/blob/main/images/chapter05_text-generation.png?raw=1\" id=\"text-generation\"/> "
      ]
    },
    {
      "cell_type": "markdown",
      "metadata": {
        "id": "B95pTV5gWQvw"
      },
      "source": [
        "## Greedy Search Decoding"
      ]
    },
    {
      "cell_type": "code",
      "execution_count": 3,
      "metadata": {
        "id": "aMSrD5G_WQvx",
        "outputId": "85ef0274-af07-420b-93f8-20c58f2622b4",
        "colab": {
          "base_uri": "https://localhost:8080/",
          "height": 177,
          "referenced_widgets": [
            "ec0f9b9ce54d478ea11930c060879259",
            "692896d606974105a21c603f14a75952",
            "da5563b8dd994c968bd6ebc1351223cd",
            "c6bccc75f39d4a38aa5bbcad9e17ed60",
            "a61f1d759d8b461c823aa374e2a333a1",
            "59f2081d91524a149a52fb720d9e33ce",
            "4812c7d38a754832a751190ae0ce9dd9",
            "9014a1183f1742658e754ba37288c0ad",
            "3892452568cc4abd82c4a5a8cf908f10",
            "20b52a35c8174d5f97efe28ef2f82107",
            "2572c1e6dfc04ef2b13b4497b07f87a4",
            "1ba2f340bc1243628bd0b772414db33d",
            "51fa41e746594570a50d2c54cc08f0bd",
            "9dce45198c9f40e3b4c11d4eaf4a83b2",
            "621ee89871fd4afeb97b7efbe6a8a093",
            "d430a1d09ee8482ea6e12910088a9399",
            "c9f5297766614ad087526a9cc315d5a6",
            "6046aea91cf44b13b773ebd55e6a2570",
            "94d06556dcc844899eb02ebc192480da",
            "889f8d11b7534bba8fee95aad0d037b4",
            "c7d2419dc09e4ef2af5145714fb05d0a",
            "339382e7a66b4b46919a486a01814cbf",
            "6cbb3eb2940d4f19905cced6b8a9438f",
            "9749c59e68934eb4a6dccc630e91ea3f",
            "f7703addda794378acaeed4217695c24",
            "a78e043f9a6443d996d82767e62a6dc4",
            "bea1c734624141179d95d3c8726e7019",
            "bf507fec59d2422cbedfa111851f1e04",
            "f2f0ca47dee94a6893a1d1b7f187aaca",
            "df06fae481384547979ecfcf65701f52",
            "6070ec00a8654fc9a5d0926b5f50d257",
            "9e484f8a2a75421ab250e399606180fa",
            "13b9cc7a6a544c648d530bc4bc0d2d2e",
            "ddb4e3c62bfb475faa7cac06be39801a",
            "a46424ca040d42679aac04a130c681b2",
            "3342695805fd4f458c09d296cf5c181f",
            "4a13157c98284a2e990602ea8fd7a252",
            "6e3570f333cb4d9ea6daf46539dba013",
            "ac8bd31592ef4ae68d331663d4e7d75e",
            "64445749e17043c08331a053cfd3e6dd",
            "3df62a4407de4689b53a927902b3ec65",
            "2a1256df39d242b18ae7b4d461cded16",
            "5827845ed64c462db2c645a378e2454b",
            "46e4da87ce7b432cb620b7200e18fa3a",
            "a9c4c2a7b2284353b19f1638a4a53621",
            "21e2d4d4463b4f9d9b9cb189adc890da",
            "3bba29ff6651433dad4ef4119580f84d",
            "59aaa40a1d514f718375961b3107b932",
            "b8d02107816c4ec58b2caa6e82eb3708",
            "ae8332f354d3432792bb0756f5ff2f6d",
            "872a20ff81304faa9df5ea440cbda9c8",
            "e95c4e76398a4b0897ce69856a9be511",
            "9a585d50ce704a789a140c58de8379f1",
            "3e8e4ad7656541c2bb1f30b1b1e70cb3",
            "ae571b29d1444dcb9925b30f6a2d8736"
          ]
        }
      },
      "outputs": [
        {
          "output_type": "display_data",
          "data": {
            "text/plain": [
              "Downloading:   0%|          | 0.00/689 [00:00<?, ?B/s]"
            ],
            "application/vnd.jupyter.widget-view+json": {
              "version_major": 2,
              "version_minor": 0,
              "model_id": "ec0f9b9ce54d478ea11930c060879259"
            }
          },
          "metadata": {}
        },
        {
          "output_type": "display_data",
          "data": {
            "text/plain": [
              "Downloading:   0%|          | 0.00/0.99M [00:00<?, ?B/s]"
            ],
            "application/vnd.jupyter.widget-view+json": {
              "version_major": 2,
              "version_minor": 0,
              "model_id": "1ba2f340bc1243628bd0b772414db33d"
            }
          },
          "metadata": {}
        },
        {
          "output_type": "display_data",
          "data": {
            "text/plain": [
              "Downloading:   0%|          | 0.00/446k [00:00<?, ?B/s]"
            ],
            "application/vnd.jupyter.widget-view+json": {
              "version_major": 2,
              "version_minor": 0,
              "model_id": "6cbb3eb2940d4f19905cced6b8a9438f"
            }
          },
          "metadata": {}
        },
        {
          "output_type": "display_data",
          "data": {
            "text/plain": [
              "Downloading:   0%|          | 0.00/1.29M [00:00<?, ?B/s]"
            ],
            "application/vnd.jupyter.widget-view+json": {
              "version_major": 2,
              "version_minor": 0,
              "model_id": "ddb4e3c62bfb475faa7cac06be39801a"
            }
          },
          "metadata": {}
        },
        {
          "output_type": "display_data",
          "data": {
            "text/plain": [
              "Downloading:   0%|          | 0.00/5.99G [00:00<?, ?B/s]"
            ],
            "application/vnd.jupyter.widget-view+json": {
              "version_major": 2,
              "version_minor": 0,
              "model_id": "a9c4c2a7b2284353b19f1638a4a53621"
            }
          },
          "metadata": {}
        }
      ],
      "source": [
        "# hide_output\n",
        "import torch\n",
        "from transformers import AutoTokenizer, AutoModelForCausalLM\n",
        "\n",
        "device = \"cuda\" if torch.cuda.is_available() else \"cpu\"\n",
        "model_name = \"gpt2-xl\"\n",
        "tokenizer = AutoTokenizer.from_pretrained(model_name)\n",
        "model = AutoModelForCausalLM.from_pretrained(model_name).to(device)"
      ]
    },
    {
      "cell_type": "code",
      "execution_count": 4,
      "metadata": {
        "id": "6l_MRMnYWQwO",
        "outputId": "f936bf4a-4247-4460-b03b-b36b9b2f8654",
        "colab": {
          "base_uri": "https://localhost:8080/",
          "height": 518
        }
      },
      "outputs": [
        {
          "output_type": "execute_result",
          "data": {
            "text/plain": [
              "                                               Input           Choice 1  \\\n",
              "0                               Transformers are the       most (8.53%)   \n",
              "1                          Transformers are the most   popular (16.78%)   \n",
              "2                  Transformers are the most popular       toy (10.63%)   \n",
              "3              Transformers are the most popular toy      line (34.38%)   \n",
              "4         Transformers are the most popular toy line        in (46.28%)   \n",
              "5      Transformers are the most popular toy line in       the (65.99%)   \n",
              "6  Transformers are the most popular toy line in the     world (69.26%)   \n",
              "7  Transformers are the most popular toy line in ...         , (39.73%)   \n",
              "\n",
              "            Choice 2               Choice 3               Choice 4  \\\n",
              "0       only (4.96%)           best (4.65%)   Transformers (4.37%)   \n",
              "1   powerful (5.37%)         common (4.96%)         famous (3.72%)   \n",
              "2       toys (7.23%)   Transformers (6.60%)             of (5.46%)   \n",
              "3        in (18.20%)            of (11.71%)          brand (6.10%)   \n",
              "4        of (15.09%)              , (4.94%)             on (4.40%)   \n",
              "5   history (12.42%)        America (6.91%)          Japan (2.44%)   \n",
              "6     United (4.55%)        history (4.29%)             US (4.23%)   \n",
              "7         . (30.64%)            and (9.87%)           with (2.32%)   \n",
              "\n",
              "              Choice 5  \n",
              "0     ultimate (2.16%)  \n",
              "1   successful (3.20%)  \n",
              "2          and (3.76%)  \n",
              "3         line (2.69%)  \n",
              "4         ever (2.72%)  \n",
              "5        North (1.40%)  \n",
              "6            U (2.30%)  \n",
              "7        today (1.74%)  "
            ],
            "text/html": [
              "\n",
              "  <div id=\"df-6f59718c-5474-415e-ba42-1b46d0a4332d\">\n",
              "    <div class=\"colab-df-container\">\n",
              "      <div>\n",
              "<style scoped>\n",
              "    .dataframe tbody tr th:only-of-type {\n",
              "        vertical-align: middle;\n",
              "    }\n",
              "\n",
              "    .dataframe tbody tr th {\n",
              "        vertical-align: top;\n",
              "    }\n",
              "\n",
              "    .dataframe thead th {\n",
              "        text-align: right;\n",
              "    }\n",
              "</style>\n",
              "<table border=\"1\" class=\"dataframe\">\n",
              "  <thead>\n",
              "    <tr style=\"text-align: right;\">\n",
              "      <th></th>\n",
              "      <th>Input</th>\n",
              "      <th>Choice 1</th>\n",
              "      <th>Choice 2</th>\n",
              "      <th>Choice 3</th>\n",
              "      <th>Choice 4</th>\n",
              "      <th>Choice 5</th>\n",
              "    </tr>\n",
              "  </thead>\n",
              "  <tbody>\n",
              "    <tr>\n",
              "      <th>0</th>\n",
              "      <td>Transformers are the</td>\n",
              "      <td>most (8.53%)</td>\n",
              "      <td>only (4.96%)</td>\n",
              "      <td>best (4.65%)</td>\n",
              "      <td>Transformers (4.37%)</td>\n",
              "      <td>ultimate (2.16%)</td>\n",
              "    </tr>\n",
              "    <tr>\n",
              "      <th>1</th>\n",
              "      <td>Transformers are the most</td>\n",
              "      <td>popular (16.78%)</td>\n",
              "      <td>powerful (5.37%)</td>\n",
              "      <td>common (4.96%)</td>\n",
              "      <td>famous (3.72%)</td>\n",
              "      <td>successful (3.20%)</td>\n",
              "    </tr>\n",
              "    <tr>\n",
              "      <th>2</th>\n",
              "      <td>Transformers are the most popular</td>\n",
              "      <td>toy (10.63%)</td>\n",
              "      <td>toys (7.23%)</td>\n",
              "      <td>Transformers (6.60%)</td>\n",
              "      <td>of (5.46%)</td>\n",
              "      <td>and (3.76%)</td>\n",
              "    </tr>\n",
              "    <tr>\n",
              "      <th>3</th>\n",
              "      <td>Transformers are the most popular toy</td>\n",
              "      <td>line (34.38%)</td>\n",
              "      <td>in (18.20%)</td>\n",
              "      <td>of (11.71%)</td>\n",
              "      <td>brand (6.10%)</td>\n",
              "      <td>line (2.69%)</td>\n",
              "    </tr>\n",
              "    <tr>\n",
              "      <th>4</th>\n",
              "      <td>Transformers are the most popular toy line</td>\n",
              "      <td>in (46.28%)</td>\n",
              "      <td>of (15.09%)</td>\n",
              "      <td>, (4.94%)</td>\n",
              "      <td>on (4.40%)</td>\n",
              "      <td>ever (2.72%)</td>\n",
              "    </tr>\n",
              "    <tr>\n",
              "      <th>5</th>\n",
              "      <td>Transformers are the most popular toy line in</td>\n",
              "      <td>the (65.99%)</td>\n",
              "      <td>history (12.42%)</td>\n",
              "      <td>America (6.91%)</td>\n",
              "      <td>Japan (2.44%)</td>\n",
              "      <td>North (1.40%)</td>\n",
              "    </tr>\n",
              "    <tr>\n",
              "      <th>6</th>\n",
              "      <td>Transformers are the most popular toy line in the</td>\n",
              "      <td>world (69.26%)</td>\n",
              "      <td>United (4.55%)</td>\n",
              "      <td>history (4.29%)</td>\n",
              "      <td>US (4.23%)</td>\n",
              "      <td>U (2.30%)</td>\n",
              "    </tr>\n",
              "    <tr>\n",
              "      <th>7</th>\n",
              "      <td>Transformers are the most popular toy line in ...</td>\n",
              "      <td>, (39.73%)</td>\n",
              "      <td>. (30.64%)</td>\n",
              "      <td>and (9.87%)</td>\n",
              "      <td>with (2.32%)</td>\n",
              "      <td>today (1.74%)</td>\n",
              "    </tr>\n",
              "  </tbody>\n",
              "</table>\n",
              "</div>\n",
              "      <button class=\"colab-df-convert\" onclick=\"convertToInteractive('df-6f59718c-5474-415e-ba42-1b46d0a4332d')\"\n",
              "              title=\"Convert this dataframe to an interactive table.\"\n",
              "              style=\"display:none;\">\n",
              "        \n",
              "  <svg xmlns=\"http://www.w3.org/2000/svg\" height=\"24px\"viewBox=\"0 0 24 24\"\n",
              "       width=\"24px\">\n",
              "    <path d=\"M0 0h24v24H0V0z\" fill=\"none\"/>\n",
              "    <path d=\"M18.56 5.44l.94 2.06.94-2.06 2.06-.94-2.06-.94-.94-2.06-.94 2.06-2.06.94zm-11 1L8.5 8.5l.94-2.06 2.06-.94-2.06-.94L8.5 2.5l-.94 2.06-2.06.94zm10 10l.94 2.06.94-2.06 2.06-.94-2.06-.94-.94-2.06-.94 2.06-2.06.94z\"/><path d=\"M17.41 7.96l-1.37-1.37c-.4-.4-.92-.59-1.43-.59-.52 0-1.04.2-1.43.59L10.3 9.45l-7.72 7.72c-.78.78-.78 2.05 0 2.83L4 21.41c.39.39.9.59 1.41.59.51 0 1.02-.2 1.41-.59l7.78-7.78 2.81-2.81c.8-.78.8-2.07 0-2.86zM5.41 20L4 18.59l7.72-7.72 1.47 1.35L5.41 20z\"/>\n",
              "  </svg>\n",
              "      </button>\n",
              "      \n",
              "  <style>\n",
              "    .colab-df-container {\n",
              "      display:flex;\n",
              "      flex-wrap:wrap;\n",
              "      gap: 12px;\n",
              "    }\n",
              "\n",
              "    .colab-df-convert {\n",
              "      background-color: #E8F0FE;\n",
              "      border: none;\n",
              "      border-radius: 50%;\n",
              "      cursor: pointer;\n",
              "      display: none;\n",
              "      fill: #1967D2;\n",
              "      height: 32px;\n",
              "      padding: 0 0 0 0;\n",
              "      width: 32px;\n",
              "    }\n",
              "\n",
              "    .colab-df-convert:hover {\n",
              "      background-color: #E2EBFA;\n",
              "      box-shadow: 0px 1px 2px rgba(60, 64, 67, 0.3), 0px 1px 3px 1px rgba(60, 64, 67, 0.15);\n",
              "      fill: #174EA6;\n",
              "    }\n",
              "\n",
              "    [theme=dark] .colab-df-convert {\n",
              "      background-color: #3B4455;\n",
              "      fill: #D2E3FC;\n",
              "    }\n",
              "\n",
              "    [theme=dark] .colab-df-convert:hover {\n",
              "      background-color: #434B5C;\n",
              "      box-shadow: 0px 1px 3px 1px rgba(0, 0, 0, 0.15);\n",
              "      filter: drop-shadow(0px 1px 2px rgba(0, 0, 0, 0.3));\n",
              "      fill: #FFFFFF;\n",
              "    }\n",
              "  </style>\n",
              "\n",
              "      <script>\n",
              "        const buttonEl =\n",
              "          document.querySelector('#df-6f59718c-5474-415e-ba42-1b46d0a4332d button.colab-df-convert');\n",
              "        buttonEl.style.display =\n",
              "          google.colab.kernel.accessAllowed ? 'block' : 'none';\n",
              "\n",
              "        async function convertToInteractive(key) {\n",
              "          const element = document.querySelector('#df-6f59718c-5474-415e-ba42-1b46d0a4332d');\n",
              "          const dataTable =\n",
              "            await google.colab.kernel.invokeFunction('convertToInteractive',\n",
              "                                                     [key], {});\n",
              "          if (!dataTable) return;\n",
              "\n",
              "          const docLinkHtml = 'Like what you see? Visit the ' +\n",
              "            '<a target=\"_blank\" href=https://colab.research.google.com/notebooks/data_table.ipynb>data table notebook</a>'\n",
              "            + ' to learn more about interactive tables.';\n",
              "          element.innerHTML = '';\n",
              "          dataTable['output_type'] = 'display_data';\n",
              "          await google.colab.output.renderOutput(dataTable, element);\n",
              "          const docLink = document.createElement('div');\n",
              "          docLink.innerHTML = docLinkHtml;\n",
              "          element.appendChild(docLink);\n",
              "        }\n",
              "      </script>\n",
              "    </div>\n",
              "  </div>\n",
              "  "
            ]
          },
          "metadata": {},
          "execution_count": 4
        }
      ],
      "source": [
        "# hide_output\n",
        "import pandas as pd\n",
        "\n",
        "input_txt = \"Transformers are the\"\n",
        "input_ids = tokenizer(input_txt, return_tensors=\"pt\")[\"input_ids\"].to(device)\n",
        "iterations = []\n",
        "n_steps = 8\n",
        "choices_per_step = 5\n",
        "\n",
        "with torch.no_grad():\n",
        "    for _ in range(n_steps):\n",
        "        iteration = dict()\n",
        "        iteration[\"Input\"] = tokenizer.decode(input_ids[0])\n",
        "        output = model(input_ids=input_ids)\n",
        "        # Select logits of the first batch and the last token and apply softmax\n",
        "        next_token_logits = output.logits[0, -1, :]\n",
        "        next_token_probs = torch.softmax(next_token_logits, dim=-1)\n",
        "        sorted_ids = torch.argsort(next_token_probs, dim=-1, descending=True)\n",
        "        # Store tokens with highest probabilities\n",
        "        for choice_idx in range(choices_per_step):\n",
        "            token_id = sorted_ids[choice_idx]\n",
        "            token_prob = next_token_probs[token_id].cpu().numpy()\n",
        "            token_choice = (\n",
        "                f\"{tokenizer.decode(token_id)} ({100 * token_prob:.2f}%)\"\n",
        "            )\n",
        "            iteration[f\"Choice {choice_idx+1}\"] = token_choice\n",
        "        # Append predicted next token to input\n",
        "        input_ids = torch.cat([input_ids, sorted_ids[None, 0, None]], dim=-1)\n",
        "        iterations.append(iteration)\n",
        "        \n",
        "pd.DataFrame(iterations)"
      ]
    },
    {
      "cell_type": "code",
      "execution_count": 5,
      "metadata": {
        "id": "qD5qzOI6WQwR",
        "outputId": "3a8473ef-27d5-46a7-88e0-25f6457cebc3",
        "colab": {
          "base_uri": "https://localhost:8080/"
        }
      },
      "outputs": [
        {
          "output_type": "stream",
          "name": "stdout",
          "text": [
            "Transformers are the most popular toy line in the world,\n"
          ]
        }
      ],
      "source": [
        "input_ids = tokenizer(input_txt, return_tensors=\"pt\")[\"input_ids\"].to(device)\n",
        "output = model.generate(input_ids, max_new_tokens=n_steps, do_sample=False)\n",
        "print(tokenizer.decode(output[0]))"
      ]
    },
    {
      "cell_type": "code",
      "execution_count": 6,
      "metadata": {
        "id": "zO_e28KhWQwR",
        "outputId": "0f01594b-897d-411f-b274-85332a4b4eac",
        "colab": {
          "base_uri": "https://localhost:8080/"
        }
      },
      "outputs": [
        {
          "output_type": "stream",
          "name": "stdout",
          "text": [
            "In a shocking finding, scientist discovered a herd of unicorns living in a\n",
            "remote, previously unexplored valley, in the Andes Mountains. Even more\n",
            "surprising to the researchers was the fact that the unicorns spoke perfect\n",
            "English.\n",
            "\n",
            "\n",
            "The researchers, from the University of California, Davis, and the University of\n",
            "Colorado, Boulder, were conducting a study on the Andean cloud forest, which is\n",
            "home to the rare species of cloud forest trees.\n",
            "\n",
            "\n",
            "The researchers were surprised to find that the unicorns were able to\n",
            "communicate with each other, and even with humans.\n",
            "\n",
            "\n",
            "The researchers were surprised to find that the unicorns were able\n"
          ]
        }
      ],
      "source": [
        "max_length = 128\n",
        "input_txt = \"\"\"In a shocking finding, scientist discovered \\\n",
        "a herd of unicorns living in a remote, previously unexplored \\\n",
        "valley, in the Andes Mountains. Even more surprising to the \\\n",
        "researchers was the fact that the unicorns spoke perfect English.\\n\\n\n",
        "\"\"\"\n",
        "input_ids = tokenizer(input_txt, return_tensors=\"pt\")[\"input_ids\"].to(device)\n",
        "output_greedy = model.generate(input_ids, max_length=max_length, \n",
        "                               do_sample=False)\n",
        "print(tokenizer.decode(output_greedy[0]))"
      ]
    },
    {
      "cell_type": "markdown",
      "metadata": {
        "id": "CDfvPEdnWQwS"
      },
      "source": [
        "## Beam Search Decoding"
      ]
    },
    {
      "cell_type": "markdown",
      "metadata": {
        "id": "XmDQxHtMWQwT"
      },
      "source": [
        "<img alt=\"Beam search\" width=\"700\" caption=\"Beam search with two beams—the most probable sequences at each timestep are highlighted in blue\" src=\"https://github.com/nlp-with-transformers/notebooks/blob/main/images/chapter05_beam-search.png?raw=1\" id=\"beam-search\"/> "
      ]
    },
    {
      "cell_type": "code",
      "execution_count": 7,
      "metadata": {
        "id": "YNLAZeRWWQwU",
        "outputId": "765926ae-5053-40df-8f80-14fe4975fc69",
        "colab": {
          "base_uri": "https://localhost:8080/"
        }
      },
      "outputs": [
        {
          "output_type": "execute_result",
          "data": {
            "text/plain": [
              "5.562684646268003e-309"
            ]
          },
          "metadata": {},
          "execution_count": 7
        }
      ],
      "source": [
        "0.5 ** 1024"
      ]
    },
    {
      "cell_type": "code",
      "execution_count": 8,
      "metadata": {
        "id": "voSaJA-DWQwV",
        "outputId": "444c8282-d453-41c8-dcc6-ff50ee1da308",
        "colab": {
          "base_uri": "https://localhost:8080/"
        }
      },
      "outputs": [
        {
          "output_type": "execute_result",
          "data": {
            "text/plain": [
              "-709.7827128933695"
            ]
          },
          "metadata": {},
          "execution_count": 8
        }
      ],
      "source": [
        "import numpy as np\n",
        "\n",
        "sum([np.log(0.5)] * 1024)"
      ]
    },
    {
      "cell_type": "code",
      "execution_count": 9,
      "metadata": {
        "id": "mgUfBh7oWQwV"
      },
      "outputs": [],
      "source": [
        "import torch.nn.functional as F\n",
        "\n",
        "def log_probs_from_logits(logits, labels):\n",
        "    logp = F.log_softmax(logits, dim=-1)\n",
        "    logp_label = torch.gather(logp, 2, labels.unsqueeze(2)).squeeze(-1)\n",
        "    return logp_label"
      ]
    },
    {
      "cell_type": "code",
      "execution_count": 10,
      "metadata": {
        "id": "q77ga3saWQwW"
      },
      "outputs": [],
      "source": [
        "def sequence_logprob(model, labels, input_len=0):\n",
        "    with torch.no_grad():\n",
        "        output = model(labels)\n",
        "        log_probs = log_probs_from_logits(\n",
        "            output.logits[:, :-1, :], labels[:, 1:])\n",
        "        seq_log_prob = torch.sum(log_probs[:, input_len:])\n",
        "    return seq_log_prob.cpu().numpy()"
      ]
    },
    {
      "cell_type": "code",
      "execution_count": 11,
      "metadata": {
        "id": "zR7HTN01WQwX",
        "outputId": "2ae9990d-e15d-4230-baf9-cb081ee213d5",
        "colab": {
          "base_uri": "https://localhost:8080/"
        }
      },
      "outputs": [
        {
          "output_type": "stream",
          "name": "stdout",
          "text": [
            "In a shocking finding, scientist discovered a herd of unicorns living in a\n",
            "remote, previously unexplored valley, in the Andes Mountains. Even more\n",
            "surprising to the researchers was the fact that the unicorns spoke perfect\n",
            "English.\n",
            "\n",
            "\n",
            "The researchers, from the University of California, Davis, and the University of\n",
            "Colorado, Boulder, were conducting a study on the Andean cloud forest, which is\n",
            "home to the rare species of cloud forest trees.\n",
            "\n",
            "\n",
            "The researchers were surprised to find that the unicorns were able to\n",
            "communicate with each other, and even with humans.\n",
            "\n",
            "\n",
            "The researchers were surprised to find that the unicorns were able\n",
            "\n",
            "log-prob: -87.43\n"
          ]
        }
      ],
      "source": [
        "logp = sequence_logprob(model, output_greedy, input_len=len(input_ids[0]))\n",
        "print(tokenizer.decode(output_greedy[0]))\n",
        "print(f\"\\nlog-prob: {logp:.2f}\")"
      ]
    },
    {
      "cell_type": "code",
      "execution_count": 12,
      "metadata": {
        "id": "Q6NuN_icWQwX",
        "outputId": "306d84f8-a382-4068-95c4-2f72b50c8b04",
        "colab": {
          "base_uri": "https://localhost:8080/"
        }
      },
      "outputs": [
        {
          "output_type": "stream",
          "name": "stdout",
          "text": [
            "In a shocking finding, scientist discovered a herd of unicorns living in a\n",
            "remote, previously unexplored valley, in the Andes Mountains. Even more\n",
            "surprising to the researchers was the fact that the unicorns spoke perfect\n",
            "English.\n",
            "\n",
            "\n",
            "The discovery of the unicorns was made by a team of scientists from the\n",
            "University of California, Santa Cruz, and the National Geographic Society.\n",
            "\n",
            "\n",
            "The scientists were conducting a study of the Andes Mountains when they\n",
            "discovered a herd of unicorns living in a remote, previously unexplored valley,\n",
            "in the Andes Mountains. Even more surprising to the researchers was the fact\n",
            "that the unicorns spoke perfect English\n",
            "\n",
            "log-prob: -55.23\n"
          ]
        }
      ],
      "source": [
        "output_beam = model.generate(input_ids, max_length=max_length, num_beams=5, \n",
        "                             do_sample=False)\n",
        "logp = sequence_logprob(model, output_beam, input_len=len(input_ids[0]))\n",
        "print(tokenizer.decode(output_beam[0]))\n",
        "print(f\"\\nlog-prob: {logp:.2f}\")"
      ]
    },
    {
      "cell_type": "code",
      "execution_count": 13,
      "metadata": {
        "id": "tpyieTcHWQwY",
        "outputId": "175c7758-a53f-4650-8436-12f58cec2891",
        "colab": {
          "base_uri": "https://localhost:8080/"
        }
      },
      "outputs": [
        {
          "output_type": "stream",
          "name": "stdout",
          "text": [
            "In a shocking finding, scientist discovered a herd of unicorns living in a\n",
            "remote, previously unexplored valley, in the Andes Mountains. Even more\n",
            "surprising to the researchers was the fact that the unicorns spoke perfect\n",
            "English.\n",
            "\n",
            "\n",
            "The discovery was made by a team of scientists from the University of\n",
            "California, Santa Cruz, and the National Geographic Society.\n",
            "\n",
            "According to a press release, the scientists were conducting a survey of the\n",
            "area when they came across the herd. They were surprised to find that they were\n",
            "able to converse with the animals in English, even though they had never seen a\n",
            "unicorn in person before. The researchers were\n",
            "\n",
            "log-prob: -93.12\n"
          ]
        }
      ],
      "source": [
        "output_beam = model.generate(input_ids, max_length=max_length, num_beams=5, \n",
        "                             do_sample=False, no_repeat_ngram_size=2)\n",
        "logp = sequence_logprob(model, output_beam, input_len=len(input_ids[0]))\n",
        "print(tokenizer.decode(output_beam[0]))\n",
        "print(f\"\\nlog-prob: {logp:.2f}\")"
      ]
    },
    {
      "cell_type": "markdown",
      "metadata": {
        "id": "kT7mdh_CWQwZ"
      },
      "source": [
        "## Sampling Methods"
      ]
    },
    {
      "cell_type": "code",
      "execution_count": 14,
      "metadata": {
        "id": "1rBW4ppEWQwZ",
        "outputId": "065b7131-2015-40ab-b6f8-043d16d71a05",
        "colab": {
          "base_uri": "https://localhost:8080/",
          "height": 382
        }
      },
      "outputs": [
        {
          "output_type": "display_data",
          "data": {
            "text/plain": [
              "<Figure size 600x400 with 1 Axes>"
            ],
            "image/svg+xml": "<?xml version=\"1.0\" encoding=\"utf-8\" standalone=\"no\"?>\n<!DOCTYPE svg PUBLIC \"-//W3C//DTD SVG 1.1//EN\"\n  \"http://www.w3.org/Graphics/SVG/1.1/DTD/svg11.dtd\">\n<svg xmlns:xlink=\"http://www.w3.org/1999/xlink\" width=\"406.523986pt\" height=\"270.3875pt\" viewBox=\"0 0 406.523986 270.3875\" xmlns=\"http://www.w3.org/2000/svg\" version=\"1.1\">\n <metadata>\n  <rdf:RDF xmlns:dc=\"http://purl.org/dc/elements/1.1/\" xmlns:cc=\"http://creativecommons.org/ns#\" xmlns:rdf=\"http://www.w3.org/1999/02/22-rdf-syntax-ns#\">\n   <cc:Work>\n    <dc:type rdf:resource=\"http://purl.org/dc/dcmitype/StillImage\"/>\n    <dc:date>2023-04-25T21:44:24.922438</dc:date>\n    <dc:format>image/svg+xml</dc:format>\n    <dc:creator>\n     <cc:Agent>\n      <dc:title>Matplotlib v3.7.1, https://matplotlib.org/</dc:title>\n     </cc:Agent>\n    </dc:creator>\n   </cc:Work>\n  </rdf:RDF>\n </metadata>\n <defs>\n  <style type=\"text/css\">*{stroke-linejoin: round; stroke-linecap: butt}</style>\n </defs>\n <g id=\"figure_1\">\n  <g id=\"patch_1\">\n   <path d=\"M 0 270.3875 \nL 406.523986 270.3875 \nL 406.523986 0 \nL 0 0 \nz\n\" style=\"fill: #ffffff\"/>\n  </g>\n  <g id=\"axes_1\">\n   <g id=\"patch_2\">\n    <path d=\"M 64.1675 228.96 \nL 398.9675 228.96 \nL 398.9675 7.2 \nL 64.1675 7.2 \nz\n\" style=\"fill: #ffffff\"/>\n   </g>\n   <g id=\"matplotlib.axis_1\">\n    <g id=\"xtick_1\">\n     <g id=\"line2d_1\">\n      <defs>\n       <path id=\"md31d72a916\" d=\"M 0 0 \nL 0 3.5 \n\" style=\"stroke: #000000; stroke-width: 0.8\"/>\n      </defs>\n      <g>\n       <use xlink:href=\"#md31d72a916\" x=\"79.385682\" y=\"228.96\" style=\"stroke: #000000; stroke-width: 0.8\"/>\n      </g>\n     </g>\n     <g id=\"text_1\">\n      <!-- 0 -->\n      <g transform=\"translate(75.568182 245.078125) scale(0.12 -0.12)\">\n       <defs>\n        <path id=\"DejaVuSans-30\" d=\"M 2034 4250 \nQ 1547 4250 1301 3770 \nQ 1056 3291 1056 2328 \nQ 1056 1369 1301 889 \nQ 1547 409 2034 409 \nQ 2525 409 2770 889 \nQ 3016 1369 3016 2328 \nQ 3016 3291 2770 3770 \nQ 2525 4250 2034 4250 \nz\nM 2034 4750 \nQ 2819 4750 3233 4129 \nQ 3647 3509 3647 2328 \nQ 3647 1150 3233 529 \nQ 2819 -91 2034 -91 \nQ 1250 -91 836 529 \nQ 422 1150 422 2328 \nQ 422 3509 836 4129 \nQ 1250 4750 2034 4750 \nz\n\" transform=\"scale(0.015625)\"/>\n       </defs>\n       <use xlink:href=\"#DejaVuSans-30\"/>\n      </g>\n     </g>\n    </g>\n    <g id=\"xtick_2\">\n     <g id=\"line2d_2\">\n      <g>\n       <use xlink:href=\"#md31d72a916\" x=\"140.319343\" y=\"228.96\" style=\"stroke: #000000; stroke-width: 0.8\"/>\n      </g>\n     </g>\n     <g id=\"text_2\">\n      <!-- 200 -->\n      <g transform=\"translate(128.866843 245.078125) scale(0.12 -0.12)\">\n       <defs>\n        <path id=\"DejaVuSans-32\" d=\"M 1228 531 \nL 3431 531 \nL 3431 0 \nL 469 0 \nL 469 531 \nQ 828 903 1448 1529 \nQ 2069 2156 2228 2338 \nQ 2531 2678 2651 2914 \nQ 2772 3150 2772 3378 \nQ 2772 3750 2511 3984 \nQ 2250 4219 1831 4219 \nQ 1534 4219 1204 4116 \nQ 875 4013 500 3803 \nL 500 4441 \nQ 881 4594 1212 4672 \nQ 1544 4750 1819 4750 \nQ 2544 4750 2975 4387 \nQ 3406 4025 3406 3419 \nQ 3406 3131 3298 2873 \nQ 3191 2616 2906 2266 \nQ 2828 2175 2409 1742 \nQ 1991 1309 1228 531 \nz\n\" transform=\"scale(0.015625)\"/>\n       </defs>\n       <use xlink:href=\"#DejaVuSans-32\"/>\n       <use xlink:href=\"#DejaVuSans-30\" x=\"63.623047\"/>\n       <use xlink:href=\"#DejaVuSans-30\" x=\"127.246094\"/>\n      </g>\n     </g>\n    </g>\n    <g id=\"xtick_3\">\n     <g id=\"line2d_3\">\n      <g>\n       <use xlink:href=\"#md31d72a916\" x=\"201.253004\" y=\"228.96\" style=\"stroke: #000000; stroke-width: 0.8\"/>\n      </g>\n     </g>\n     <g id=\"text_3\">\n      <!-- 400 -->\n      <g transform=\"translate(189.800504 245.078125) scale(0.12 -0.12)\">\n       <defs>\n        <path id=\"DejaVuSans-34\" d=\"M 2419 4116 \nL 825 1625 \nL 2419 1625 \nL 2419 4116 \nz\nM 2253 4666 \nL 3047 4666 \nL 3047 1625 \nL 3713 1625 \nL 3713 1100 \nL 3047 1100 \nL 3047 0 \nL 2419 0 \nL 2419 1100 \nL 313 1100 \nL 313 1709 \nL 2253 4666 \nz\n\" transform=\"scale(0.015625)\"/>\n       </defs>\n       <use xlink:href=\"#DejaVuSans-34\"/>\n       <use xlink:href=\"#DejaVuSans-30\" x=\"63.623047\"/>\n       <use xlink:href=\"#DejaVuSans-30\" x=\"127.246094\"/>\n      </g>\n     </g>\n    </g>\n    <g id=\"xtick_4\">\n     <g id=\"line2d_4\">\n      <g>\n       <use xlink:href=\"#md31d72a916\" x=\"262.186665\" y=\"228.96\" style=\"stroke: #000000; stroke-width: 0.8\"/>\n      </g>\n     </g>\n     <g id=\"text_4\">\n      <!-- 600 -->\n      <g transform=\"translate(250.734165 245.078125) scale(0.12 -0.12)\">\n       <defs>\n        <path id=\"DejaVuSans-36\" d=\"M 2113 2584 \nQ 1688 2584 1439 2293 \nQ 1191 2003 1191 1497 \nQ 1191 994 1439 701 \nQ 1688 409 2113 409 \nQ 2538 409 2786 701 \nQ 3034 994 3034 1497 \nQ 3034 2003 2786 2293 \nQ 2538 2584 2113 2584 \nz\nM 3366 4563 \nL 3366 3988 \nQ 3128 4100 2886 4159 \nQ 2644 4219 2406 4219 \nQ 1781 4219 1451 3797 \nQ 1122 3375 1075 2522 \nQ 1259 2794 1537 2939 \nQ 1816 3084 2150 3084 \nQ 2853 3084 3261 2657 \nQ 3669 2231 3669 1497 \nQ 3669 778 3244 343 \nQ 2819 -91 2113 -91 \nQ 1303 -91 875 529 \nQ 447 1150 447 2328 \nQ 447 3434 972 4092 \nQ 1497 4750 2381 4750 \nQ 2619 4750 2861 4703 \nQ 3103 4656 3366 4563 \nz\n\" transform=\"scale(0.015625)\"/>\n       </defs>\n       <use xlink:href=\"#DejaVuSans-36\"/>\n       <use xlink:href=\"#DejaVuSans-30\" x=\"63.623047\"/>\n       <use xlink:href=\"#DejaVuSans-30\" x=\"127.246094\"/>\n      </g>\n     </g>\n    </g>\n    <g id=\"xtick_5\">\n     <g id=\"line2d_5\">\n      <g>\n       <use xlink:href=\"#md31d72a916\" x=\"323.120326\" y=\"228.96\" style=\"stroke: #000000; stroke-width: 0.8\"/>\n      </g>\n     </g>\n     <g id=\"text_5\">\n      <!-- 800 -->\n      <g transform=\"translate(311.667826 245.078125) scale(0.12 -0.12)\">\n       <defs>\n        <path id=\"DejaVuSans-38\" d=\"M 2034 2216 \nQ 1584 2216 1326 1975 \nQ 1069 1734 1069 1313 \nQ 1069 891 1326 650 \nQ 1584 409 2034 409 \nQ 2484 409 2743 651 \nQ 3003 894 3003 1313 \nQ 3003 1734 2745 1975 \nQ 2488 2216 2034 2216 \nz\nM 1403 2484 \nQ 997 2584 770 2862 \nQ 544 3141 544 3541 \nQ 544 4100 942 4425 \nQ 1341 4750 2034 4750 \nQ 2731 4750 3128 4425 \nQ 3525 4100 3525 3541 \nQ 3525 3141 3298 2862 \nQ 3072 2584 2669 2484 \nQ 3125 2378 3379 2068 \nQ 3634 1759 3634 1313 \nQ 3634 634 3220 271 \nQ 2806 -91 2034 -91 \nQ 1263 -91 848 271 \nQ 434 634 434 1313 \nQ 434 1759 690 2068 \nQ 947 2378 1403 2484 \nz\nM 1172 3481 \nQ 1172 3119 1398 2916 \nQ 1625 2713 2034 2713 \nQ 2441 2713 2670 2916 \nQ 2900 3119 2900 3481 \nQ 2900 3844 2670 4047 \nQ 2441 4250 2034 4250 \nQ 1625 4250 1398 4047 \nQ 1172 3844 1172 3481 \nz\n\" transform=\"scale(0.015625)\"/>\n       </defs>\n       <use xlink:href=\"#DejaVuSans-38\"/>\n       <use xlink:href=\"#DejaVuSans-30\" x=\"63.623047\"/>\n       <use xlink:href=\"#DejaVuSans-30\" x=\"127.246094\"/>\n      </g>\n     </g>\n    </g>\n    <g id=\"xtick_6\">\n     <g id=\"line2d_6\">\n      <g>\n       <use xlink:href=\"#md31d72a916\" x=\"384.053986\" y=\"228.96\" style=\"stroke: #000000; stroke-width: 0.8\"/>\n      </g>\n     </g>\n     <g id=\"text_6\">\n      <!-- 1000 -->\n      <g transform=\"translate(368.783986 245.078125) scale(0.12 -0.12)\">\n       <defs>\n        <path id=\"DejaVuSans-31\" d=\"M 794 531 \nL 1825 531 \nL 1825 4091 \nL 703 3866 \nL 703 4441 \nL 1819 4666 \nL 2450 4666 \nL 2450 531 \nL 3481 531 \nL 3481 0 \nL 794 0 \nL 794 531 \nz\n\" transform=\"scale(0.015625)\"/>\n       </defs>\n       <use xlink:href=\"#DejaVuSans-31\"/>\n       <use xlink:href=\"#DejaVuSans-30\" x=\"63.623047\"/>\n       <use xlink:href=\"#DejaVuSans-30\" x=\"127.246094\"/>\n       <use xlink:href=\"#DejaVuSans-30\" x=\"190.869141\"/>\n      </g>\n     </g>\n    </g>\n    <g id=\"text_7\">\n     <!-- Sorted token probabilities -->\n     <g transform=\"translate(154.235 260.691875) scale(0.12 -0.12)\">\n      <defs>\n       <path id=\"DejaVuSans-53\" d=\"M 3425 4513 \nL 3425 3897 \nQ 3066 4069 2747 4153 \nQ 2428 4238 2131 4238 \nQ 1616 4238 1336 4038 \nQ 1056 3838 1056 3469 \nQ 1056 3159 1242 3001 \nQ 1428 2844 1947 2747 \nL 2328 2669 \nQ 3034 2534 3370 2195 \nQ 3706 1856 3706 1288 \nQ 3706 609 3251 259 \nQ 2797 -91 1919 -91 \nQ 1588 -91 1214 -16 \nQ 841 59 441 206 \nL 441 856 \nQ 825 641 1194 531 \nQ 1563 422 1919 422 \nQ 2459 422 2753 634 \nQ 3047 847 3047 1241 \nQ 3047 1584 2836 1778 \nQ 2625 1972 2144 2069 \nL 1759 2144 \nQ 1053 2284 737 2584 \nQ 422 2884 422 3419 \nQ 422 4038 858 4394 \nQ 1294 4750 2059 4750 \nQ 2388 4750 2728 4690 \nQ 3069 4631 3425 4513 \nz\n\" transform=\"scale(0.015625)\"/>\n       <path id=\"DejaVuSans-6f\" d=\"M 1959 3097 \nQ 1497 3097 1228 2736 \nQ 959 2375 959 1747 \nQ 959 1119 1226 758 \nQ 1494 397 1959 397 \nQ 2419 397 2687 759 \nQ 2956 1122 2956 1747 \nQ 2956 2369 2687 2733 \nQ 2419 3097 1959 3097 \nz\nM 1959 3584 \nQ 2709 3584 3137 3096 \nQ 3566 2609 3566 1747 \nQ 3566 888 3137 398 \nQ 2709 -91 1959 -91 \nQ 1206 -91 779 398 \nQ 353 888 353 1747 \nQ 353 2609 779 3096 \nQ 1206 3584 1959 3584 \nz\n\" transform=\"scale(0.015625)\"/>\n       <path id=\"DejaVuSans-72\" d=\"M 2631 2963 \nQ 2534 3019 2420 3045 \nQ 2306 3072 2169 3072 \nQ 1681 3072 1420 2755 \nQ 1159 2438 1159 1844 \nL 1159 0 \nL 581 0 \nL 581 3500 \nL 1159 3500 \nL 1159 2956 \nQ 1341 3275 1631 3429 \nQ 1922 3584 2338 3584 \nQ 2397 3584 2469 3576 \nQ 2541 3569 2628 3553 \nL 2631 2963 \nz\n\" transform=\"scale(0.015625)\"/>\n       <path id=\"DejaVuSans-74\" d=\"M 1172 4494 \nL 1172 3500 \nL 2356 3500 \nL 2356 3053 \nL 1172 3053 \nL 1172 1153 \nQ 1172 725 1289 603 \nQ 1406 481 1766 481 \nL 2356 481 \nL 2356 0 \nL 1766 0 \nQ 1100 0 847 248 \nQ 594 497 594 1153 \nL 594 3053 \nL 172 3053 \nL 172 3500 \nL 594 3500 \nL 594 4494 \nL 1172 4494 \nz\n\" transform=\"scale(0.015625)\"/>\n       <path id=\"DejaVuSans-65\" d=\"M 3597 1894 \nL 3597 1613 \nL 953 1613 \nQ 991 1019 1311 708 \nQ 1631 397 2203 397 \nQ 2534 397 2845 478 \nQ 3156 559 3463 722 \nL 3463 178 \nQ 3153 47 2828 -22 \nQ 2503 -91 2169 -91 \nQ 1331 -91 842 396 \nQ 353 884 353 1716 \nQ 353 2575 817 3079 \nQ 1281 3584 2069 3584 \nQ 2775 3584 3186 3129 \nQ 3597 2675 3597 1894 \nz\nM 3022 2063 \nQ 3016 2534 2758 2815 \nQ 2500 3097 2075 3097 \nQ 1594 3097 1305 2825 \nQ 1016 2553 972 2059 \nL 3022 2063 \nz\n\" transform=\"scale(0.015625)\"/>\n       <path id=\"DejaVuSans-64\" d=\"M 2906 2969 \nL 2906 4863 \nL 3481 4863 \nL 3481 0 \nL 2906 0 \nL 2906 525 \nQ 2725 213 2448 61 \nQ 2172 -91 1784 -91 \nQ 1150 -91 751 415 \nQ 353 922 353 1747 \nQ 353 2572 751 3078 \nQ 1150 3584 1784 3584 \nQ 2172 3584 2448 3432 \nQ 2725 3281 2906 2969 \nz\nM 947 1747 \nQ 947 1113 1208 752 \nQ 1469 391 1925 391 \nQ 2381 391 2643 752 \nQ 2906 1113 2906 1747 \nQ 2906 2381 2643 2742 \nQ 2381 3103 1925 3103 \nQ 1469 3103 1208 2742 \nQ 947 2381 947 1747 \nz\n\" transform=\"scale(0.015625)\"/>\n       <path id=\"DejaVuSans-20\" transform=\"scale(0.015625)\"/>\n       <path id=\"DejaVuSans-6b\" d=\"M 581 4863 \nL 1159 4863 \nL 1159 1991 \nL 2875 3500 \nL 3609 3500 \nL 1753 1863 \nL 3688 0 \nL 2938 0 \nL 1159 1709 \nL 1159 0 \nL 581 0 \nL 581 4863 \nz\n\" transform=\"scale(0.015625)\"/>\n       <path id=\"DejaVuSans-6e\" d=\"M 3513 2113 \nL 3513 0 \nL 2938 0 \nL 2938 2094 \nQ 2938 2591 2744 2837 \nQ 2550 3084 2163 3084 \nQ 1697 3084 1428 2787 \nQ 1159 2491 1159 1978 \nL 1159 0 \nL 581 0 \nL 581 3500 \nL 1159 3500 \nL 1159 2956 \nQ 1366 3272 1645 3428 \nQ 1925 3584 2291 3584 \nQ 2894 3584 3203 3211 \nQ 3513 2838 3513 2113 \nz\n\" transform=\"scale(0.015625)\"/>\n       <path id=\"DejaVuSans-70\" d=\"M 1159 525 \nL 1159 -1331 \nL 581 -1331 \nL 581 3500 \nL 1159 3500 \nL 1159 2969 \nQ 1341 3281 1617 3432 \nQ 1894 3584 2278 3584 \nQ 2916 3584 3314 3078 \nQ 3713 2572 3713 1747 \nQ 3713 922 3314 415 \nQ 2916 -91 2278 -91 \nQ 1894 -91 1617 61 \nQ 1341 213 1159 525 \nz\nM 3116 1747 \nQ 3116 2381 2855 2742 \nQ 2594 3103 2138 3103 \nQ 1681 3103 1420 2742 \nQ 1159 2381 1159 1747 \nQ 1159 1113 1420 752 \nQ 1681 391 2138 391 \nQ 2594 391 2855 752 \nQ 3116 1113 3116 1747 \nz\n\" transform=\"scale(0.015625)\"/>\n       <path id=\"DejaVuSans-62\" d=\"M 3116 1747 \nQ 3116 2381 2855 2742 \nQ 2594 3103 2138 3103 \nQ 1681 3103 1420 2742 \nQ 1159 2381 1159 1747 \nQ 1159 1113 1420 752 \nQ 1681 391 2138 391 \nQ 2594 391 2855 752 \nQ 3116 1113 3116 1747 \nz\nM 1159 2969 \nQ 1341 3281 1617 3432 \nQ 1894 3584 2278 3584 \nQ 2916 3584 3314 3078 \nQ 3713 2572 3713 1747 \nQ 3713 922 3314 415 \nQ 2916 -91 2278 -91 \nQ 1894 -91 1617 61 \nQ 1341 213 1159 525 \nL 1159 0 \nL 581 0 \nL 581 4863 \nL 1159 4863 \nL 1159 2969 \nz\n\" transform=\"scale(0.015625)\"/>\n       <path id=\"DejaVuSans-61\" d=\"M 2194 1759 \nQ 1497 1759 1228 1600 \nQ 959 1441 959 1056 \nQ 959 750 1161 570 \nQ 1363 391 1709 391 \nQ 2188 391 2477 730 \nQ 2766 1069 2766 1631 \nL 2766 1759 \nL 2194 1759 \nz\nM 3341 1997 \nL 3341 0 \nL 2766 0 \nL 2766 531 \nQ 2569 213 2275 61 \nQ 1981 -91 1556 -91 \nQ 1019 -91 701 211 \nQ 384 513 384 1019 \nQ 384 1609 779 1909 \nQ 1175 2209 1959 2209 \nL 2766 2209 \nL 2766 2266 \nQ 2766 2663 2505 2880 \nQ 2244 3097 1772 3097 \nQ 1472 3097 1187 3025 \nQ 903 2953 641 2809 \nL 641 3341 \nQ 956 3463 1253 3523 \nQ 1550 3584 1831 3584 \nQ 2591 3584 2966 3190 \nQ 3341 2797 3341 1997 \nz\n\" transform=\"scale(0.015625)\"/>\n       <path id=\"DejaVuSans-69\" d=\"M 603 3500 \nL 1178 3500 \nL 1178 0 \nL 603 0 \nL 603 3500 \nz\nM 603 4863 \nL 1178 4863 \nL 1178 4134 \nL 603 4134 \nL 603 4863 \nz\n\" transform=\"scale(0.015625)\"/>\n       <path id=\"DejaVuSans-6c\" d=\"M 603 4863 \nL 1178 4863 \nL 1178 0 \nL 603 0 \nL 603 4863 \nz\n\" transform=\"scale(0.015625)\"/>\n       <path id=\"DejaVuSans-73\" d=\"M 2834 3397 \nL 2834 2853 \nQ 2591 2978 2328 3040 \nQ 2066 3103 1784 3103 \nQ 1356 3103 1142 2972 \nQ 928 2841 928 2578 \nQ 928 2378 1081 2264 \nQ 1234 2150 1697 2047 \nL 1894 2003 \nQ 2506 1872 2764 1633 \nQ 3022 1394 3022 966 \nQ 3022 478 2636 193 \nQ 2250 -91 1575 -91 \nQ 1294 -91 989 -36 \nQ 684 19 347 128 \nL 347 722 \nQ 666 556 975 473 \nQ 1284 391 1588 391 \nQ 1994 391 2212 530 \nQ 2431 669 2431 922 \nQ 2431 1156 2273 1281 \nQ 2116 1406 1581 1522 \nL 1381 1569 \nQ 847 1681 609 1914 \nQ 372 2147 372 2553 \nQ 372 3047 722 3315 \nQ 1072 3584 1716 3584 \nQ 2034 3584 2315 3537 \nQ 2597 3491 2834 3397 \nz\n\" transform=\"scale(0.015625)\"/>\n      </defs>\n      <use xlink:href=\"#DejaVuSans-53\"/>\n      <use xlink:href=\"#DejaVuSans-6f\" x=\"63.476562\"/>\n      <use xlink:href=\"#DejaVuSans-72\" x=\"124.658203\"/>\n      <use xlink:href=\"#DejaVuSans-74\" x=\"165.771484\"/>\n      <use xlink:href=\"#DejaVuSans-65\" x=\"204.980469\"/>\n      <use xlink:href=\"#DejaVuSans-64\" x=\"266.503906\"/>\n      <use xlink:href=\"#DejaVuSans-20\" x=\"329.980469\"/>\n      <use xlink:href=\"#DejaVuSans-74\" x=\"361.767578\"/>\n      <use xlink:href=\"#DejaVuSans-6f\" x=\"400.976562\"/>\n      <use xlink:href=\"#DejaVuSans-6b\" x=\"462.158203\"/>\n      <use xlink:href=\"#DejaVuSans-65\" x=\"516.443359\"/>\n      <use xlink:href=\"#DejaVuSans-6e\" x=\"577.966797\"/>\n      <use xlink:href=\"#DejaVuSans-20\" x=\"641.345703\"/>\n      <use xlink:href=\"#DejaVuSans-70\" x=\"673.132812\"/>\n      <use xlink:href=\"#DejaVuSans-72\" x=\"736.609375\"/>\n      <use xlink:href=\"#DejaVuSans-6f\" x=\"775.472656\"/>\n      <use xlink:href=\"#DejaVuSans-62\" x=\"836.654297\"/>\n      <use xlink:href=\"#DejaVuSans-61\" x=\"900.130859\"/>\n      <use xlink:href=\"#DejaVuSans-62\" x=\"961.410156\"/>\n      <use xlink:href=\"#DejaVuSans-69\" x=\"1024.886719\"/>\n      <use xlink:href=\"#DejaVuSans-6c\" x=\"1052.669922\"/>\n      <use xlink:href=\"#DejaVuSans-69\" x=\"1080.453125\"/>\n      <use xlink:href=\"#DejaVuSans-74\" x=\"1108.236328\"/>\n      <use xlink:href=\"#DejaVuSans-69\" x=\"1147.445312\"/>\n      <use xlink:href=\"#DejaVuSans-65\" x=\"1175.228516\"/>\n      <use xlink:href=\"#DejaVuSans-73\" x=\"1236.751953\"/>\n     </g>\n    </g>\n   </g>\n   <g id=\"matplotlib.axis_2\">\n    <g id=\"ytick_1\">\n     <g id=\"line2d_7\">\n      <defs>\n       <path id=\"me93eb3540e\" d=\"M 0 0 \nL -3.5 0 \n\" style=\"stroke: #000000; stroke-width: 0.8\"/>\n      </defs>\n      <g>\n       <use xlink:href=\"#me93eb3540e\" x=\"64.1675\" y=\"225.627599\" style=\"stroke: #000000; stroke-width: 0.8\"/>\n      </g>\n     </g>\n     <g id=\"text_8\">\n      <!-- 0.000 -->\n      <g transform=\"translate(22.81375 230.186661) scale(0.12 -0.12)\">\n       <defs>\n        <path id=\"DejaVuSans-2e\" d=\"M 684 794 \nL 1344 794 \nL 1344 0 \nL 684 0 \nL 684 794 \nz\n\" transform=\"scale(0.015625)\"/>\n       </defs>\n       <use xlink:href=\"#DejaVuSans-30\"/>\n       <use xlink:href=\"#DejaVuSans-2e\" x=\"63.623047\"/>\n       <use xlink:href=\"#DejaVuSans-30\" x=\"95.410156\"/>\n       <use xlink:href=\"#DejaVuSans-30\" x=\"159.033203\"/>\n       <use xlink:href=\"#DejaVuSans-30\" x=\"222.65625\"/>\n      </g>\n     </g>\n    </g>\n    <g id=\"ytick_2\">\n     <g id=\"line2d_8\">\n      <g>\n       <use xlink:href=\"#me93eb3540e\" x=\"64.1675\" y=\"178.78476\" style=\"stroke: #000000; stroke-width: 0.8\"/>\n      </g>\n     </g>\n     <g id=\"text_9\">\n      <!-- 0.001 -->\n      <g transform=\"translate(22.81375 183.343822) scale(0.12 -0.12)\">\n       <use xlink:href=\"#DejaVuSans-30\"/>\n       <use xlink:href=\"#DejaVuSans-2e\" x=\"63.623047\"/>\n       <use xlink:href=\"#DejaVuSans-30\" x=\"95.410156\"/>\n       <use xlink:href=\"#DejaVuSans-30\" x=\"159.033203\"/>\n       <use xlink:href=\"#DejaVuSans-31\" x=\"222.65625\"/>\n      </g>\n     </g>\n    </g>\n    <g id=\"ytick_3\">\n     <g id=\"line2d_9\">\n      <g>\n       <use xlink:href=\"#me93eb3540e\" x=\"64.1675\" y=\"131.941921\" style=\"stroke: #000000; stroke-width: 0.8\"/>\n      </g>\n     </g>\n     <g id=\"text_10\">\n      <!-- 0.002 -->\n      <g transform=\"translate(22.81375 136.500983) scale(0.12 -0.12)\">\n       <use xlink:href=\"#DejaVuSans-30\"/>\n       <use xlink:href=\"#DejaVuSans-2e\" x=\"63.623047\"/>\n       <use xlink:href=\"#DejaVuSans-30\" x=\"95.410156\"/>\n       <use xlink:href=\"#DejaVuSans-30\" x=\"159.033203\"/>\n       <use xlink:href=\"#DejaVuSans-32\" x=\"222.65625\"/>\n      </g>\n     </g>\n    </g>\n    <g id=\"ytick_4\">\n     <g id=\"line2d_10\">\n      <g>\n       <use xlink:href=\"#me93eb3540e\" x=\"64.1675\" y=\"85.099082\" style=\"stroke: #000000; stroke-width: 0.8\"/>\n      </g>\n     </g>\n     <g id=\"text_11\">\n      <!-- 0.003 -->\n      <g transform=\"translate(22.81375 89.658145) scale(0.12 -0.12)\">\n       <defs>\n        <path id=\"DejaVuSans-33\" d=\"M 2597 2516 \nQ 3050 2419 3304 2112 \nQ 3559 1806 3559 1356 \nQ 3559 666 3084 287 \nQ 2609 -91 1734 -91 \nQ 1441 -91 1130 -33 \nQ 819 25 488 141 \nL 488 750 \nQ 750 597 1062 519 \nQ 1375 441 1716 441 \nQ 2309 441 2620 675 \nQ 2931 909 2931 1356 \nQ 2931 1769 2642 2001 \nQ 2353 2234 1838 2234 \nL 1294 2234 \nL 1294 2753 \nL 1863 2753 \nQ 2328 2753 2575 2939 \nQ 2822 3125 2822 3475 \nQ 2822 3834 2567 4026 \nQ 2313 4219 1838 4219 \nQ 1578 4219 1281 4162 \nQ 984 4106 628 3988 \nL 628 4550 \nQ 988 4650 1302 4700 \nQ 1616 4750 1894 4750 \nQ 2613 4750 3031 4423 \nQ 3450 4097 3450 3541 \nQ 3450 3153 3228 2886 \nQ 3006 2619 2597 2516 \nz\n\" transform=\"scale(0.015625)\"/>\n       </defs>\n       <use xlink:href=\"#DejaVuSans-30\"/>\n       <use xlink:href=\"#DejaVuSans-2e\" x=\"63.623047\"/>\n       <use xlink:href=\"#DejaVuSans-30\" x=\"95.410156\"/>\n       <use xlink:href=\"#DejaVuSans-30\" x=\"159.033203\"/>\n       <use xlink:href=\"#DejaVuSans-33\" x=\"222.65625\"/>\n      </g>\n     </g>\n    </g>\n    <g id=\"ytick_5\">\n     <g id=\"line2d_11\">\n      <g>\n       <use xlink:href=\"#me93eb3540e\" x=\"64.1675\" y=\"38.256243\" style=\"stroke: #000000; stroke-width: 0.8\"/>\n      </g>\n     </g>\n     <g id=\"text_12\">\n      <!-- 0.004 -->\n      <g transform=\"translate(22.81375 42.815306) scale(0.12 -0.12)\">\n       <use xlink:href=\"#DejaVuSans-30\"/>\n       <use xlink:href=\"#DejaVuSans-2e\" x=\"63.623047\"/>\n       <use xlink:href=\"#DejaVuSans-30\" x=\"95.410156\"/>\n       <use xlink:href=\"#DejaVuSans-30\" x=\"159.033203\"/>\n       <use xlink:href=\"#DejaVuSans-34\" x=\"222.65625\"/>\n      </g>\n     </g>\n    </g>\n    <g id=\"text_13\">\n     <!-- Probability -->\n     <g transform=\"translate(16.318125 149.794688) rotate(-90) scale(0.12 -0.12)\">\n      <defs>\n       <path id=\"DejaVuSans-50\" d=\"M 1259 4147 \nL 1259 2394 \nL 2053 2394 \nQ 2494 2394 2734 2622 \nQ 2975 2850 2975 3272 \nQ 2975 3691 2734 3919 \nQ 2494 4147 2053 4147 \nL 1259 4147 \nz\nM 628 4666 \nL 2053 4666 \nQ 2838 4666 3239 4311 \nQ 3641 3956 3641 3272 \nQ 3641 2581 3239 2228 \nQ 2838 1875 2053 1875 \nL 1259 1875 \nL 1259 0 \nL 628 0 \nL 628 4666 \nz\n\" transform=\"scale(0.015625)\"/>\n       <path id=\"DejaVuSans-79\" d=\"M 2059 -325 \nQ 1816 -950 1584 -1140 \nQ 1353 -1331 966 -1331 \nL 506 -1331 \nL 506 -850 \nL 844 -850 \nQ 1081 -850 1212 -737 \nQ 1344 -625 1503 -206 \nL 1606 56 \nL 191 3500 \nL 800 3500 \nL 1894 763 \nL 2988 3500 \nL 3597 3500 \nL 2059 -325 \nz\n\" transform=\"scale(0.015625)\"/>\n      </defs>\n      <use xlink:href=\"#DejaVuSans-50\"/>\n      <use xlink:href=\"#DejaVuSans-72\" x=\"58.552734\"/>\n      <use xlink:href=\"#DejaVuSans-6f\" x=\"97.416016\"/>\n      <use xlink:href=\"#DejaVuSans-62\" x=\"158.597656\"/>\n      <use xlink:href=\"#DejaVuSans-61\" x=\"222.074219\"/>\n      <use xlink:href=\"#DejaVuSans-62\" x=\"283.353516\"/>\n      <use xlink:href=\"#DejaVuSans-69\" x=\"346.830078\"/>\n      <use xlink:href=\"#DejaVuSans-6c\" x=\"374.613281\"/>\n      <use xlink:href=\"#DejaVuSans-69\" x=\"402.396484\"/>\n      <use xlink:href=\"#DejaVuSans-74\" x=\"430.179688\"/>\n      <use xlink:href=\"#DejaVuSans-79\" x=\"469.388672\"/>\n     </g>\n    </g>\n   </g>\n   <g id=\"line2d_12\">\n    <path d=\"M 79.385682 17.28 \nL 79.385682 17.687485 \nL 79.69035 17.687485 \nL 79.69035 21.235919 \nL 79.995018 21.235919 \nL 79.995018 21.635038 \nL 80.299687 21.635038 \nL 80.299687 21.865346 \nL 80.604355 21.865346 \nL 80.604355 22.553264 \nL 80.909023 22.553264 \nL 80.909023 23.388227 \nL 81.213692 23.388227 \nL 81.213692 25.526816 \nL 81.51836 25.526816 \nL 81.51836 26.950346 \nL 81.823028 26.950346 \nL 81.823028 28.858398 \nL 82.127697 28.858398 \nL 82.127697 29.237892 \nL 82.737033 29.272177 \nL 82.737033 30.269365 \nL 83.041701 30.269365 \nL 83.041701 30.614268 \nL 83.34637 30.614268 \nL 83.34637 33.607619 \nL 83.651038 33.607619 \nL 83.651038 33.854961 \nL 83.955706 33.854961 \nL 83.955706 34.471803 \nL 84.260375 34.471803 \nL 84.260375 34.724276 \nL 84.565043 34.724276 \nL 84.565043 38.256752 \nL 84.869711 38.256752 \nL 84.869711 38.433147 \nL 85.17438 38.433147 \nL 85.17438 40.462219 \nL 85.479048 40.462219 \nL 85.479048 40.644544 \nL 85.783716 40.644544 \nL 85.783716 43.01903 \nL 86.088385 43.01903 \nL 86.088385 43.465808 \nL 86.393053 43.465808 \nL 86.393053 44.615347 \nL 86.697721 44.615347 \nL 86.697721 45.558899 \nL 87.002389 45.558899 \nL 87.002389 47.729664 \nL 87.307058 47.729664 \nL 87.307058 48.169642 \nL 87.611726 48.169642 \nL 87.611726 48.313395 \nL 87.916394 48.313395 \nL 87.916394 48.707781 \nL 88.221063 48.707781 \nL 88.221063 49.696975 \nL 88.525731 49.696975 \nL 88.525731 49.959481 \nL 88.830399 49.959481 \nL 88.830399 50.227479 \nL 89.439736 50.236834 \nL 89.439736 50.456 \nL 89.744404 50.456 \nL 89.744404 50.850012 \nL 90.049072 50.850012 \nL 90.049072 52.072969 \nL 90.353741 52.072969 \nL 90.353741 52.36631 \nL 90.658409 52.36631 \nL 90.658409 54.889296 \nL 90.963077 54.889296 \nL 90.963077 55.342946 \nL 91.267746 55.342946 \nL 91.267746 57.450156 \nL 91.877082 57.538727 \nL 91.877082 59.263516 \nL 92.181751 59.263516 \nL 92.181751 60.375287 \nL 92.791087 60.477273 \nL 92.791087 61.12123 \nL 93.095756 61.12123 \nL 93.095756 61.377448 \nL 93.400424 61.377448 \nL 93.400424 63.293394 \nL 93.705092 63.293394 \nL 93.705092 63.759196 \nL 94.00976 63.759196 \nL 94.00976 64.358726 \nL 94.314429 64.358726 \nL 94.314429 64.647107 \nL 94.619097 64.647107 \nL 94.619097 67.144015 \nL 94.923765 67.144015 \nL 94.923765 67.980489 \nL 95.228434 67.980489 \nL 95.228434 68.277685 \nL 95.533102 68.277685 \nL 95.533102 69.542775 \nL 95.83777 69.542775 \nL 95.83777 70.026094 \nL 96.142439 70.026094 \nL 96.142439 70.962081 \nL 96.751775 71.060467 \nL 96.751775 73.189418 \nL 97.056443 73.189418 \nL 97.056443 74.993416 \nL 97.361112 74.993416 \nL 97.361112 75.189699 \nL 97.66578 75.189699 \nL 97.66578 75.467618 \nL 97.970448 75.467618 \nL 97.970448 77.116842 \nL 98.275117 77.116842 \nL 98.275117 78.04808 \nL 98.579785 78.04808 \nL 98.579785 78.361663 \nL 98.884453 78.361663 \nL 98.884453 80.220769 \nL 99.189122 80.220769 \nL 99.189122 80.42952 \nL 99.798458 80.488298 \nL 99.798458 80.776505 \nL 100.103127 80.776505 \nL 100.103127 81.98143 \nL 100.407795 81.98143 \nL 100.407795 82.917456 \nL 100.712463 82.917456 \nL 100.712463 83.039676 \nL 101.017131 83.039676 \nL 101.017131 83.398578 \nL 101.3218 83.398578 \nL 101.3218 83.842751 \nL 101.626468 83.842751 \nL 101.626468 85.301327 \nL 101.931136 85.301327 \nL 101.931136 85.430317 \nL 102.235805 85.430317 \nL 102.235805 87.371917 \nL 102.540473 87.371917 \nL 102.540473 88.347413 \nL 102.845141 88.347413 \nL 102.845141 89.328342 \nL 103.14981 89.328342 \nL 103.14981 89.45281 \nL 103.454478 89.45281 \nL 103.454478 91.31193 \nL 103.759146 91.31193 \nL 103.759146 91.472104 \nL 104.063814 91.472104 \nL 104.063814 92.204674 \nL 104.673151 92.298994 \nL 104.673151 93.078855 \nL 104.977819 93.078855 \nL 104.977819 93.212313 \nL 105.282488 93.212313 \nL 105.282488 93.92886 \nL 105.587156 93.92886 \nL 105.587156 95.629136 \nL 105.891824 95.629136 \nL 105.891824 95.788012 \nL 106.196493 95.788012 \nL 106.196493 96.219157 \nL 106.501161 96.219157 \nL 106.501161 96.573539 \nL 106.805829 96.573539 \nL 106.805829 96.762386 \nL 107.110498 96.762386 \nL 107.110498 97.190227 \nL 107.415166 97.190227 \nL 107.415166 98.776508 \nL 107.719834 98.776508 \nL 107.719834 100.940789 \nL 108.024502 100.940789 \nL 108.024502 101.168787 \nL 108.329171 101.168787 \nL 108.329171 101.389728 \nL 108.633839 101.389728 \nL 108.633839 101.570286 \nL 108.938507 101.570286 \nL 108.938507 102.012221 \nL 109.243176 102.012221 \nL 109.243176 102.443531 \nL 109.852512 102.540518 \nL 109.852512 106.166491 \nL 110.157181 106.166491 \nL 110.157181 106.546787 \nL 110.461849 106.546787 \nL 110.461849 107.178568 \nL 110.766517 107.178568 \nL 110.766517 107.686351 \nL 111.071186 107.686351 \nL 111.071186 108.21753 \nL 111.375854 108.21753 \nL 111.375854 108.579418 \nL 111.680522 108.579418 \nL 111.680522 108.792319 \nL 111.98519 108.792319 \nL 111.98519 109.342213 \nL 112.289859 109.342213 \nL 112.289859 109.779931 \nL 112.594527 109.779931 \nL 112.594527 110.958116 \nL 113.203864 111.01038 \nL 113.203864 111.169136 \nL 113.508532 111.169136 \nL 113.508532 112.108948 \nL 113.8132 112.108948 \nL 113.8132 112.625407 \nL 114.117869 112.625407 \nL 114.117869 113.262235 \nL 114.422537 113.262235 \nL 114.422537 113.531743 \nL 115.031873 113.615669 \nL 115.031873 114.450178 \nL 115.336542 114.450178 \nL 115.336542 115.300507 \nL 115.64121 115.300507 \nL 115.64121 115.812419 \nL 116.250547 115.826706 \nL 116.250547 116.860063 \nL 116.555215 116.860063 \nL 116.555215 117.019958 \nL 116.859883 117.019958 \nL 116.859883 117.253485 \nL 117.164552 117.253485 \nL 117.164552 118.218251 \nL 117.46922 118.218251 \nL 117.46922 118.542519 \nL 117.773888 118.542519 \nL 117.773888 118.955946 \nL 118.383225 119.064518 \nL 118.383225 119.092881 \nL 118.687893 119.092881 \nL 118.687893 119.431305 \nL 118.992561 119.431305 \nL 118.992561 119.734094 \nL 119.29723 119.734094 \nL 119.29723 119.878598 \nL 119.601898 119.878598 \nL 119.601898 120.56396 \nL 119.906566 120.56396 \nL 119.906566 121.426559 \nL 120.211235 121.426559 \nL 120.211235 121.71202 \nL 120.515903 121.71202 \nL 120.515903 122.53187 \nL 120.820571 122.53187 \nL 120.820571 123.034074 \nL 121.12524 123.034074 \nL 121.12524 123.929644 \nL 121.734576 123.933581 \nL 121.734576 124.061633 \nL 122.039244 124.061633 \nL 122.039244 124.362969 \nL 122.343913 124.362969 \nL 122.343913 124.884719 \nL 122.648581 124.884719 \nL 122.648581 125.197629 \nL 123.257918 125.201116 \nL 123.257918 127.210007 \nL 123.867254 127.254583 \nL 123.867254 128.220486 \nL 124.171923 128.220486 \nL 124.171923 128.530007 \nL 124.476591 128.530007 \nL 124.476591 128.766152 \nL 125.085928 128.850385 \nL 125.085928 128.908033 \nL 125.695264 129.014344 \nL 125.695264 129.391759 \nL 125.999932 129.391759 \nL 125.999932 130.249586 \nL 126.304601 130.249586 \nL 126.304601 131.594255 \nL 126.609269 131.594255 \nL 126.609269 131.944698 \nL 126.913937 131.944698 \nL 126.913937 132.063847 \nL 127.218606 132.063847 \nL 127.218606 132.234681 \nL 127.523274 132.234681 \nL 127.523274 132.70495 \nL 127.827942 132.70495 \nL 127.827942 132.842308 \nL 128.437279 132.923951 \nL 128.437279 133.029448 \nL 128.741947 133.029448 \nL 128.741947 133.175846 \nL 129.046615 133.175846 \nL 129.046615 133.84265 \nL 129.351284 133.84265 \nL 129.351284 134.057676 \nL 129.96062 134.110111 \nL 129.96062 134.398991 \nL 130.265289 134.398991 \nL 130.265289 134.659807 \nL 130.569957 134.659807 \nL 130.569957 135.130529 \nL 131.179294 135.132071 \nL 131.179294 135.75293 \nL 131.483962 135.75293 \nL 131.483962 135.869462 \nL 131.78863 135.869462 \nL 131.78863 136.556353 \nL 132.397967 136.567356 \nL 132.397967 136.962262 \nL 133.007303 137.015966 \nL 133.007303 137.287757 \nL 133.311972 137.287757 \nL 133.311972 137.500653 \nL 133.61664 137.500653 \nL 133.61664 137.722734 \nL 133.921308 137.722734 \nL 133.921308 139.141142 \nL 134.225977 139.141142 \nL 134.225977 139.407374 \nL 134.530645 139.407374 \nL 134.530645 140.035914 \nL 135.139982 140.078271 \nL 135.139982 140.55702 \nL 135.44465 140.55702 \nL 135.44465 141.347669 \nL 136.053986 141.360497 \nL 136.053986 141.966393 \nL 136.663323 142.032567 \nL 136.663323 142.122565 \nL 136.967991 142.122565 \nL 136.967991 142.676283 \nL 137.577328 142.76803 \nL 137.577328 142.861281 \nL 137.881996 142.861281 \nL 137.881996 143.868983 \nL 138.186665 143.868983 \nL 138.186665 144.466435 \nL 138.491333 144.466435 \nL 138.491333 144.810823 \nL 138.796001 144.810823 \nL 138.796001 145.256977 \nL 139.10067 145.256977 \nL 139.10067 145.64236 \nL 139.710006 145.642696 \nL 139.710006 145.808508 \nL 140.014674 145.808508 \nL 140.014674 145.963365 \nL 140.319343 145.963365 \nL 140.319343 147.1262 \nL 140.928679 147.175859 \nL 140.928679 147.453281 \nL 141.842684 147.547876 \nL 141.842684 147.809622 \nL 142.147353 147.809622 \nL 142.147353 148.130362 \nL 142.756689 148.160225 \nL 142.756689 148.459899 \nL 143.061357 148.459899 \nL 143.061357 149.034837 \nL 143.366026 149.034837 \nL 143.366026 149.974089 \nL 143.670694 149.974089 \nL 143.670694 150.317276 \nL 143.975362 150.317276 \nL 143.975362 150.789211 \nL 144.280031 150.789211 \nL 144.280031 151.134171 \nL 144.584699 151.134171 \nL 144.584699 151.545344 \nL 144.889367 151.545344 \nL 144.889367 151.763427 \nL 145.194036 151.763427 \nL 145.194036 152.91682 \nL 145.498704 152.91682 \nL 145.498704 153.554349 \nL 145.803372 153.554349 \nL 145.803372 153.868921 \nL 146.108041 153.868921 \nL 146.108041 154.226973 \nL 146.412709 154.226973 \nL 146.412709 154.647703 \nL 146.717377 154.647703 \nL 146.717377 154.809615 \nL 147.022045 154.809615 \nL 147.022045 155.178601 \nL 147.326714 155.178601 \nL 147.326714 155.47914 \nL 147.93605 155.58869 \nL 147.93605 155.66424 \nL 148.240719 155.66424 \nL 148.240719 156.180211 \nL 148.850055 156.197231 \nL 148.850055 156.654928 \nL 149.154724 156.654928 \nL 149.154724 156.958586 \nL 149.459392 156.958586 \nL 149.459392 157.069735 \nL 150.068729 157.100784 \nL 150.068729 157.240556 \nL 150.678065 157.324005 \nL 150.678065 157.68276 \nL 151.287402 157.739591 \nL 151.287402 157.839965 \nL 151.896738 157.88882 \nL 151.896738 158.601037 \nL 152.506075 158.647943 \nL 152.506075 159.188644 \nL 152.810743 159.188644 \nL 152.810743 159.4509 \nL 153.115412 159.4509 \nL 153.115412 159.650439 \nL 153.42008 159.650439 \nL 153.42008 160.696928 \nL 153.724748 160.696928 \nL 153.724748 160.821843 \nL 154.029416 160.821843 \nL 154.029416 161.03617 \nL 154.334085 161.03617 \nL 154.334085 161.245795 \nL 154.638753 161.245795 \nL 154.638753 161.495518 \nL 155.24809 161.599623 \nL 155.24809 161.701828 \nL 155.857426 161.722757 \nL 155.857426 162.094427 \nL 156.466763 162.203747 \nL 156.466763 162.241703 \nL 156.771431 162.241703 \nL 156.771431 162.601103 \nL 157.0761 162.601103 \nL 157.0761 162.718738 \nL 157.380768 162.718738 \nL 157.380768 163.081008 \nL 157.685436 163.081008 \nL 157.685436 163.473906 \nL 157.990104 163.473906 \nL 157.990104 163.613865 \nL 158.599441 163.674467 \nL 158.599441 163.96371 \nL 158.904109 163.96371 \nL 158.904109 164.208652 \nL 159.208778 164.208652 \nL 159.208778 164.378356 \nL 159.513446 164.378356 \nL 159.513446 164.53997 \nL 160.122783 164.58864 \nL 160.122783 164.729787 \nL 160.732119 164.801635 \nL 160.732119 164.880135 \nL 161.341456 164.93202 \nL 161.341456 165.211175 \nL 161.646124 165.211175 \nL 161.646124 165.496735 \nL 161.950792 165.496735 \nL 161.950792 165.626107 \nL 162.560129 165.700823 \nL 162.560129 165.815082 \nL 162.864797 165.815082 \nL 162.864797 166.128915 \nL 163.474134 166.188663 \nL 163.474134 166.310956 \nL 163.778802 166.310956 \nL 163.778802 166.438181 \nL 164.388139 166.473267 \nL 164.388139 166.612073 \nL 164.692807 166.612073 \nL 164.692807 167.040375 \nL 165.302144 167.134544 \nL 165.302144 168.450941 \nL 165.91148 168.466405 \nL 165.91148 168.632881 \nL 166.216149 168.632881 \nL 166.216149 168.805125 \nL 166.520817 168.805125 \nL 166.520817 168.927501 \nL 167.130154 168.953316 \nL 167.130154 169.428845 \nL 167.73949 169.437376 \nL 167.73949 169.776167 \nL 168.348827 169.857177 \nL 168.348827 170.015979 \nL 168.653495 170.015979 \nL 168.653495 170.447492 \nL 168.958163 170.447492 \nL 168.958163 171.291695 \nL 169.872168 171.387228 \nL 169.872168 171.449306 \nL 170.481505 171.45236 \nL 170.481505 171.615701 \nL 170.786173 171.615701 \nL 170.786173 171.960184 \nL 171.090842 171.960184 \nL 171.090842 172.193904 \nL 172.004846 172.264095 \nL 172.004846 172.529019 \nL 172.614183 172.586724 \nL 172.614183 172.897639 \nL 173.22352 172.935393 \nL 173.22352 173.141361 \nL 173.832856 173.18712 \nL 173.832856 173.369741 \nL 174.137525 173.369741 \nL 174.137525 173.597773 \nL 174.746861 173.624064 \nL 174.746861 173.721476 \nL 175.356198 173.781846 \nL 175.356198 173.929171 \nL 175.660866 173.929171 \nL 175.660866 174.489213 \nL 175.965534 174.489213 \nL 175.965534 175.533735 \nL 176.270203 175.533735 \nL 176.270203 175.957549 \nL 176.574871 175.957549 \nL 176.574871 176.089455 \nL 177.184208 176.09731 \nL 177.184208 176.523604 \nL 177.793544 176.537456 \nL 177.793544 176.702306 \nL 178.098213 176.702306 \nL 178.098213 177.643819 \nL 178.402881 177.643819 \nL 178.402881 177.78588 \nL 179.012217 177.852238 \nL 179.012217 177.898893 \nL 179.316886 177.898893 \nL 179.316886 178.06492 \nL 179.621554 178.06492 \nL 179.621554 178.275253 \nL 179.926222 178.275253 \nL 179.926222 178.494155 \nL 180.230891 178.494155 \nL 180.230891 179.227637 \nL 180.535559 179.227637 \nL 180.535559 179.384481 \nL 181.449564 179.476968 \nL 181.449564 179.602857 \nL 181.754232 179.602857 \nL 181.754232 179.736164 \nL 182.363569 179.793321 \nL 182.363569 180.095957 \nL 182.668237 180.095957 \nL 182.668237 180.211376 \nL 182.972905 180.211376 \nL 182.972905 180.435588 \nL 183.277574 180.435588 \nL 183.277574 181.092066 \nL 183.582242 181.092066 \nL 183.582242 181.37434 \nL 183.88691 181.37434 \nL 183.88691 181.558411 \nL 184.496247 181.581443 \nL 184.496247 181.725053 \nL 185.105584 181.77903 \nL 185.105584 181.857498 \nL 185.410252 181.857498 \nL 185.410252 182.333952 \nL 186.019588 182.421481 \nL 186.019588 182.653632 \nL 186.628925 182.728128 \nL 186.628925 182.895725 \nL 186.933593 182.895725 \nL 186.933593 183.019387 \nL 187.54293 183.024438 \nL 187.54293 183.168059 \nL 187.847598 183.168059 \nL 187.847598 183.473455 \nL 188.456935 183.572805 \nL 188.456935 183.68689 \nL 189.066271 183.760277 \nL 189.066271 184.017998 \nL 189.980276 184.058264 \nL 189.980276 184.570938 \nL 190.284945 184.570938 \nL 190.284945 184.771216 \nL 190.894281 184.798034 \nL 190.894281 185.037944 \nL 191.503618 185.144361 \nL 191.503618 185.274058 \nL 192.112955 185.362993 \nL 192.112955 185.479273 \nL 192.722291 185.521201 \nL 192.722291 185.852785 \nL 193.026959 185.852785 \nL 193.026959 186.273767 \nL 193.331628 186.273767 \nL 193.331628 186.454688 \nL 194.245633 186.514773 \nL 194.245633 186.685715 \nL 195.464306 186.763671 \nL 195.464306 187.01489 \nL 196.378311 187.062694 \nL 196.378311 187.186688 \nL 197.596984 187.268799 \nL 197.596984 187.494613 \nL 198.206321 187.559182 \nL 198.206321 187.661788 \nL 198.510989 187.661788 \nL 198.510989 187.779961 \nL 198.815657 187.779961 \nL 198.815657 188.085606 \nL 199.120326 188.085606 \nL 199.120326 188.61065 \nL 199.729662 188.67179 \nL 199.729662 188.94676 \nL 200.338999 189.033048 \nL 200.338999 189.199548 \nL 200.643667 189.199548 \nL 200.643667 189.316401 \nL 201.86234 189.423048 \nL 201.86234 189.562315 \nL 202.471677 189.634628 \nL 202.471677 189.717133 \nL 203.081014 189.779077 \nL 203.081014 190.14828 \nL 203.69035 190.239086 \nL 203.69035 190.306654 \nL 204.299687 190.327474 \nL 204.299687 190.449832 \nL 204.604355 190.449832 \nL 204.604355 190.63631 \nL 204.909023 190.63631 \nL 204.909023 190.779847 \nL 205.51836 190.843491 \nL 205.51836 191.023122 \nL 205.823028 191.023122 \nL 205.823028 191.367421 \nL 206.127697 191.367421 \nL 206.127697 191.596835 \nL 206.737033 191.646682 \nL 206.737033 191.727626 \nL 207.34637 191.766354 \nL 207.34637 191.974381 \nL 208.260375 192.010848 \nL 208.260375 192.200346 \nL 208.869711 192.309185 \nL 208.869711 192.319877 \nL 209.17438 192.319877 \nL 209.17438 192.490114 \nL 209.783716 192.555588 \nL 209.783716 192.603044 \nL 210.088385 192.603044 \nL 210.088385 192.964263 \nL 211.002389 193.065724 \nL 211.002389 193.112207 \nL 211.611726 193.190347 \nL 211.611726 193.259703 \nL 212.221063 193.313178 \nL 212.221063 193.77688 \nL 213.135068 193.811466 \nL 213.135068 194.030256 \nL 214.049072 194.100229 \nL 214.049072 194.48149 \nL 214.963077 194.577875 \nL 214.963077 194.776033 \nL 216.181751 194.827742 \nL 216.181751 194.951043 \nL 216.486419 194.951043 \nL 216.486419 195.204903 \nL 216.791087 195.204903 \nL 216.791087 195.336848 \nL 217.705092 195.369027 \nL 217.705092 195.499549 \nL 218.00976 195.499549 \nL 218.00976 195.661381 \nL 218.619097 195.746979 \nL 218.619097 195.949475 \nL 218.923765 195.949475 \nL 218.923765 196.072296 \nL 219.533102 196.177583 \nL 219.533102 196.352061 \nL 220.751775 196.454792 \nL 220.751775 196.5095 \nL 221.66578 196.535195 \nL 221.66578 196.701137 \nL 222.275117 196.763578 \nL 222.275117 196.974991 \nL 222.579785 196.974991 \nL 222.579785 197.098611 \nL 222.884453 197.098611 \nL 222.884453 197.329775 \nL 223.49379 197.42946 \nL 223.49379 197.445286 \nL 225.017131 197.507411 \nL 225.017131 197.720172 \nL 225.626468 197.798926 \nL 225.626468 197.870249 \nL 225.931136 197.870249 \nL 225.931136 198.037577 \nL 226.540473 198.053931 \nL 226.540473 198.382563 \nL 227.14981 198.401844 \nL 227.14981 198.611442 \nL 227.759146 198.717184 \nL 227.759146 198.758241 \nL 228.977819 198.865747 \nL 228.977819 198.870531 \nL 229.891824 198.946809 \nL 229.891824 199.204419 \nL 230.196493 199.204419 \nL 230.196493 199.343342 \nL 231.719834 199.443279 \nL 231.719834 199.734435 \nL 232.329171 199.840014 \nL 232.329171 199.847771 \nL 232.633839 199.847771 \nL 232.633839 200.091713 \nL 233.243176 200.139722 \nL 233.243176 200.230938 \nL 234.157181 200.281059 \nL 234.157181 200.446066 \nL 235.071186 200.550781 \nL 235.071186 200.695392 \nL 235.375854 200.695392 \nL 235.375854 200.821176 \nL 235.98519 200.877376 \nL 235.98519 201.012151 \nL 236.899195 201.073066 \nL 236.899195 201.191893 \nL 237.203864 201.191893 \nL 237.203864 201.392814 \nL 237.8132 201.446776 \nL 237.8132 201.612976 \nL 238.117869 201.612976 \nL 238.117869 201.828903 \nL 239.031873 201.936522 \nL 239.031873 201.946917 \nL 239.336542 201.946917 \nL 239.336542 202.249768 \nL 239.945878 202.284699 \nL 239.945878 202.438597 \nL 241.164552 202.524706 \nL 241.164552 202.721901 \nL 241.46922 202.721901 \nL 241.46922 202.904533 \nL 242.687893 202.992003 \nL 242.687893 203.05323 \nL 243.601898 203.162124 \nL 243.601898 203.193351 \nL 245.12524 203.267971 \nL 245.12524 203.626028 \nL 245.429908 203.626028 \nL 245.429908 203.794447 \nL 246.343913 203.817579 \nL 246.343913 203.956144 \nL 247.257918 204.063072 \nL 247.257918 204.236681 \nL 248.171923 204.255139 \nL 248.171923 204.411342 \nL 248.781259 204.518609 \nL 248.781259 204.627496 \nL 249.085928 204.627496 \nL 249.085928 204.775755 \nL 250.609269 204.885723 \nL 250.609269 204.922728 \nL 251.523274 205.004725 \nL 251.523274 205.04854 \nL 251.827942 205.04854 \nL 251.827942 205.209745 \nL 252.741947 205.246314 \nL 252.741947 205.358022 \nL 253.046615 205.358022 \nL 253.046615 205.494985 \nL 253.655952 205.600569 \nL 253.655952 205.716926 \nL 254.874625 205.820355 \nL 254.874625 206.039445 \nL 256.397967 206.125375 \nL 256.397967 206.204896 \nL 257.311972 206.265278 \nL 257.311972 206.316014 \nL 258.530645 206.405847 \nL 258.530645 206.521142 \nL 259.139982 206.627474 \nL 259.139982 206.639356 \nL 260.663323 206.747123 \nL 260.663323 206.787565 \nL 260.967991 206.787565 \nL 260.967991 206.947573 \nL 261.881996 207.021232 \nL 261.881996 207.076752 \nL 263.710006 207.176655 \nL 263.710006 207.21116 \nL 264.319343 207.27729 \nL 264.319343 207.368116 \nL 264.624011 207.368116 \nL 264.624011 207.612425 \nL 266.147353 207.717796 \nL 266.147353 207.7352 \nL 266.452021 207.7352 \nL 266.452021 207.850735 \nL 267.366026 207.889686 \nL 267.366026 208.012082 \nL 268.889367 208.112334 \nL 268.889367 208.132404 \nL 269.803372 208.234515 \nL 269.803372 208.246414 \nL 271.022045 208.350404 \nL 271.022045 208.37634 \nL 271.93605 208.463055 \nL 271.93605 208.48825 \nL 273.459392 208.59331 \nL 273.459392 208.636371 \nL 274.678065 208.709729 \nL 274.678065 208.748978 \nL 276.201407 208.850011 \nL 276.201407 209.002764 \nL 277.724748 209.096012 \nL 277.724748 209.126867 \nL 278.943421 209.202535 \nL 278.943421 209.238069 \nL 279.24809 209.238069 \nL 279.24809 209.387393 \nL 280.466763 209.493335 \nL 280.466763 209.56172 \nL 281.685436 209.670926 \nL 281.685436 209.696051 \nL 282.294773 209.731825 \nL 282.294773 209.899876 \nL 283.513446 210.004043 \nL 283.513446 210.076645 \nL 285.341456 210.182724 \nL 285.341456 210.268953 \nL 287.169466 210.370939 \nL 287.169466 210.508882 \nL 288.388139 210.614024 \nL 288.388139 210.650139 \nL 289.302144 210.714736 \nL 289.302144 210.86531 \nL 291.434822 210.973869 \nL 291.434822 210.989391 \nL 292.958163 211.089448 \nL 292.958163 211.123486 \nL 294.481505 211.216093 \nL 294.481505 211.271298 \nL 296.309515 211.382372 \nL 296.309515 211.499081 \nL 296.918851 211.576583 \nL 296.918851 211.663409 \nL 298.137525 211.762989 \nL 298.137525 211.814669 \nL 299.660866 211.881155 \nL 299.660866 211.963641 \nL 300.879539 212.061679 \nL 300.879539 212.133588 \nL 301.793544 212.206556 \nL 301.793544 212.268787 \nL 303.012217 212.375618 \nL 303.012217 212.443469 \nL 303.926222 212.517292 \nL 303.926222 212.608872 \nL 305.144896 212.670527 \nL 305.144896 212.75436 \nL 306.972905 212.845633 \nL 306.972905 212.89438 \nL 307.88691 212.974357 \nL 307.88691 213.033344 \nL 309.105584 213.075112 \nL 309.105584 213.164525 \nL 310.019588 213.252547 \nL 310.019588 213.327319 \nL 310.933593 213.422747 \nL 310.933593 213.459921 \nL 313.37094 213.535171 \nL 313.37094 213.647978 \nL 314.589613 213.717254 \nL 314.589613 213.813727 \nL 315.808286 213.908454 \nL 315.808286 213.940843 \nL 316.417623 214.036327 \nL 316.417623 214.059257 \nL 317.636296 214.144862 \nL 317.636296 214.230159 \nL 319.159638 214.324926 \nL 319.159638 214.341312 \nL 320.378311 214.372234 \nL 320.378311 214.463449 \nL 322.206321 214.555798 \nL 322.206321 214.581027 \nL 324.338999 214.670726 \nL 324.338999 214.760665 \nL 324.643667 214.760665 \nL 324.643667 214.877682 \nL 325.253004 214.980912 \nL 325.253004 215.058437 \nL 328.299687 215.160955 \nL 328.299687 215.208141 \nL 329.823028 215.268169 \nL 329.823028 215.341007 \nL 331.651038 215.424551 \nL 331.651038 215.49012 \nL 333.479048 215.567657 \nL 333.479048 215.607415 \nL 334.393053 215.679306 \nL 334.393053 215.754452 \nL 335.611726 215.859337 \nL 335.611726 215.902542 \nL 338.049072 215.99836 \nL 338.049072 216.042913 \nL 340.791087 216.113546 \nL 340.791087 216.172857 \nL 342.619097 216.276506 \nL 342.619097 216.288487 \nL 344.751775 216.399061 \nL 344.751775 216.424975 \nL 345.970448 216.497298 \nL 345.970448 216.587264 \nL 348.103127 216.65445 \nL 348.103127 216.699367 \nL 349.017131 216.805312 \nL 349.017131 216.812441 \nL 349.931136 216.886324 \nL 349.931136 216.965948 \nL 351.454478 217.067543 \nL 351.454478 217.12567 \nL 353.891824 217.228406 \nL 353.891824 217.251432 \nL 355.719834 217.362405 \nL 355.719834 217.3797 \nL 357.243176 217.490078 \nL 357.243176 217.542878 \nL 359.375854 217.639308 \nL 359.375854 217.687993 \nL 361.8132 217.794332 \nL 361.8132 217.815311 \nL 364.555215 217.922428 \nL 364.555215 217.936647 \nL 365.773888 217.993474 \nL 365.773888 218.048058 \nL 367.29723 218.105362 \nL 367.29723 218.1643 \nL 370.039244 218.250026 \nL 370.039244 218.281062 \nL 371.562586 218.387599 \nL 371.562586 218.404269 \nL 375.218606 218.495446 \nL 375.218606 218.538389 \nL 377.655952 218.629007 \nL 377.655952 218.659099 \nL 380.702635 218.762331 \nL 380.702635 218.781927 \nL 383.749318 218.88 \nL 383.749318 218.88 \n\" clip-path=\"url(#p45c09ad5c9)\" style=\"fill: none; stroke: #0071bc; stroke-width: 1.5; stroke-linecap: square\"/>\n   </g>\n   <g id=\"line2d_13\">\n    <path d=\"M 79.385682 114.707578 \nL 79.385682 114.816099 \nL 79.69035 114.816099 \nL 79.69035 115.765649 \nL 80.299687 115.872967 \nL 80.299687 115.934941 \nL 80.604355 115.934941 \nL 80.604355 116.120263 \nL 80.909023 116.120263 \nL 80.909023 116.345621 \nL 81.213692 116.345621 \nL 81.213692 116.92496 \nL 81.51836 116.92496 \nL 81.51836 117.312309 \nL 81.823028 117.312309 \nL 81.823028 117.833681 \nL 82.432365 117.937679 \nL 82.432365 117.947079 \nL 82.737033 117.947079 \nL 82.737033 118.220854 \nL 83.34637 118.315709 \nL 83.34637 119.142484 \nL 83.955706 119.211088 \nL 83.955706 119.382372 \nL 84.565043 119.452558 \nL 84.565043 120.439476 \nL 85.17438 120.489001 \nL 85.17438 121.060372 \nL 85.783716 121.111866 \nL 85.783716 121.784827 \nL 86.088385 121.784827 \nL 86.088385 121.911938 \nL 86.393053 121.911938 \nL 86.393053 122.239707 \nL 86.697721 122.239707 \nL 86.697721 122.509521 \nL 87.002389 122.509521 \nL 87.002389 123.132961 \nL 87.307058 123.132961 \nL 87.307058 123.259784 \nL 87.916394 123.301255 \nL 87.916394 123.415116 \nL 88.221063 123.415116 \nL 88.221063 123.701262 \nL 88.830399 123.777333 \nL 88.830399 123.855053 \nL 89.744404 123.921372 \nL 89.744404 124.03582 \nL 90.049072 124.03582 \nL 90.049072 124.391874 \nL 90.658409 124.477464 \nL 90.658409 125.216626 \nL 90.963077 125.216626 \nL 90.963077 125.35011 \nL 91.267746 125.35011 \nL 91.267746 125.97249 \nL 91.877082 125.998735 \nL 91.877082 126.511208 \nL 92.181751 126.511208 \nL 92.181751 126.842949 \nL 92.791087 126.873436 \nL 92.791087 127.066156 \nL 93.400424 127.142941 \nL 93.400424 127.719028 \nL 93.705092 127.719028 \nL 93.705092 127.859598 \nL 94.00976 127.859598 \nL 94.00976 128.040823 \nL 94.619097 128.128114 \nL 94.619097 128.887208 \nL 94.923765 128.887208 \nL 94.923765 129.142843 \nL 95.533102 129.233833 \nL 95.533102 129.622117 \nL 95.83777 129.622117 \nL 95.83777 129.770873 \nL 96.142439 129.770873 \nL 96.142439 130.059611 \nL 96.751775 130.090012 \nL 96.751775 130.750243 \nL 97.056443 130.750243 \nL 97.056443 131.313317 \nL 97.66578 131.374785 \nL 97.66578 131.461886 \nL 97.970448 131.461886 \nL 97.970448 131.98043 \nL 98.275117 131.98043 \nL 98.275117 132.2745 \nL 98.884453 132.373733 \nL 98.884453 132.964227 \nL 99.798458 133.049511 \nL 99.798458 133.141474 \nL 100.103127 133.141474 \nL 100.103127 133.526944 \nL 100.407795 133.526944 \nL 100.407795 133.827507 \nL 101.017131 133.866825 \nL 101.017131 133.982382 \nL 101.3218 133.982382 \nL 101.3218 134.125595 \nL 101.626468 134.125595 \nL 101.626468 134.597463 \nL 102.235805 134.639311 \nL 102.235805 135.271559 \nL 102.540473 135.271559 \nL 102.540473 135.590888 \nL 102.845141 135.590888 \nL 102.845141 135.913141 \nL 103.454478 135.954113 \nL 103.454478 136.568349 \nL 104.063814 136.621467 \nL 104.063814 136.864813 \nL 104.673151 136.896193 \nL 104.673151 137.156076 \nL 105.282488 137.200627 \nL 105.282488 137.440206 \nL 105.587156 137.440206 \nL 105.587156 138.01132 \nL 106.196493 138.064876 \nL 106.196493 138.210377 \nL 106.501161 138.210377 \nL 106.501161 138.330154 \nL 107.110498 138.39405 \nL 107.110498 138.538981 \nL 107.415166 138.538981 \nL 107.415166 139.078451 \nL 107.719834 139.078451 \nL 107.719834 139.81996 \nL 108.329171 139.898449 \nL 108.329171 139.974576 \nL 108.938507 140.036839 \nL 108.938507 140.189427 \nL 109.243176 140.189427 \nL 109.243176 140.33861 \nL 109.852512 140.372192 \nL 109.852512 141.637331 \nL 110.157181 141.637331 \nL 110.157181 141.771127 \nL 110.461849 141.771127 \nL 110.461849 141.993872 \nL 110.766517 141.993872 \nL 110.766517 142.173331 \nL 111.071186 142.173331 \nL 111.071186 142.361472 \nL 111.375854 142.361472 \nL 111.375854 142.489895 \nL 111.98519 142.565539 \nL 111.98519 142.761239 \nL 112.289859 142.761239 \nL 112.289859 142.917347 \nL 112.594527 142.917347 \nL 112.594527 143.339009 \nL 113.508532 143.414759 \nL 113.508532 143.752977 \nL 113.8132 143.752977 \nL 113.8132 143.939436 \nL 114.117869 143.939436 \nL 114.117869 144.16994 \nL 114.727205 144.267686 \nL 114.727205 144.298149 \nL 115.031873 144.298149 \nL 115.031873 144.601675 \nL 115.336542 144.601675 \nL 115.336542 144.912129 \nL 115.64121 144.912129 \nL 115.64121 145.099604 \nL 116.250547 145.104843 \nL 116.250547 145.484646 \nL 116.859883 145.543575 \nL 116.859883 145.62972 \nL 117.164552 145.62972 \nL 117.164552 145.986593 \nL 117.46922 145.986593 \nL 117.46922 146.106902 \nL 117.773888 146.106902 \nL 117.773888 146.260555 \nL 118.687893 146.311513 \nL 118.687893 146.437593 \nL 118.992561 146.437593 \nL 118.992561 146.550568 \nL 119.601898 146.604541 \nL 119.601898 146.861033 \nL 119.906566 146.861033 \nL 119.906566 147.185045 \nL 120.515903 147.292567 \nL 120.515903 147.602194 \nL 120.820571 147.602194 \nL 120.820571 147.792466 \nL 121.12524 147.792466 \nL 121.12524 148.132934 \nL 122.039244 148.183239 \nL 122.039244 148.298209 \nL 122.343913 148.298209 \nL 122.343913 148.49768 \nL 122.648581 148.49768 \nL 122.648581 148.617557 \nL 123.257918 148.618894 \nL 123.257918 149.39301 \nL 123.867254 149.410277 \nL 123.867254 149.78538 \nL 124.171923 149.78538 \nL 124.171923 149.905974 \nL 124.781259 149.998109 \nL 124.781259 150.031001 \nL 125.695264 150.095065 \nL 125.695264 150.242742 \nL 125.999932 150.242742 \nL 125.999932 150.579477 \nL 126.304601 150.579477 \nL 126.304601 151.110381 \nL 126.609269 151.110381 \nL 126.609269 151.249365 \nL 127.218606 151.296679 \nL 127.218606 151.364568 \nL 127.523274 151.364568 \nL 127.523274 151.551776 \nL 128.437279 151.639119 \nL 128.437279 151.68123 \nL 129.046615 151.739708 \nL 129.046615 152.006647 \nL 129.96062 152.11399 \nL 129.96062 152.230107 \nL 130.569957 152.335102 \nL 130.569957 152.524977 \nL 131.179294 152.5256 \nL 131.179294 152.776795 \nL 131.78863 152.82404 \nL 131.78863 153.103147 \nL 132.397967 153.107626 \nL 132.397967 153.268587 \nL 133.007303 153.290504 \nL 133.007303 153.401526 \nL 133.61664 153.488609 \nL 133.61664 153.579562 \nL 133.921308 153.579562 \nL 133.921308 154.1632 \nL 134.530645 154.273279 \nL 134.530645 154.533839 \nL 135.139982 154.551432 \nL 135.139982 154.750589 \nL 135.44465 154.750589 \nL 135.44465 155.080724 \nL 136.053986 155.086094 \nL 136.053986 155.340154 \nL 136.967991 155.405788 \nL 136.967991 155.638994 \nL 137.881996 155.717082 \nL 137.881996 156.143975 \nL 138.186665 156.143975 \nL 138.186665 156.398317 \nL 138.491333 156.398317 \nL 138.491333 156.545352 \nL 138.796001 156.545352 \nL 138.796001 156.736302 \nL 139.10067 156.736302 \nL 139.10067 156.90167 \nL 140.014674 156.973087 \nL 140.014674 157.039718 \nL 140.319343 157.039718 \nL 140.319343 157.542136 \nL 140.928679 157.563675 \nL 140.928679 157.684125 \nL 141.842684 157.725246 \nL 141.842684 157.839155 \nL 142.147353 157.839155 \nL 142.147353 157.979 \nL 142.756689 157.992036 \nL 142.756689 158.122983 \nL 143.061357 158.122983 \nL 143.061357 158.374924 \nL 143.366026 158.374924 \nL 143.366026 158.788554 \nL 143.670694 158.788554 \nL 143.670694 158.940327 \nL 143.975362 158.940327 \nL 143.975362 159.149605 \nL 144.280031 159.149605 \nL 144.280031 159.302994 \nL 144.584699 159.302994 \nL 144.584699 159.486289 \nL 145.194036 159.583714 \nL 145.194036 160.101382 \nL 145.498704 160.101382 \nL 145.498704 160.389282 \nL 145.803372 160.389282 \nL 145.803372 160.531808 \nL 146.108041 160.531808 \nL 146.108041 160.694414 \nL 146.412709 160.694414 \nL 146.412709 160.886007 \nL 147.022045 160.95989 \nL 147.022045 161.128581 \nL 147.326714 161.128581 \nL 147.326714 161.266306 \nL 148.240719 161.351277 \nL 148.240719 161.58873 \nL 148.850055 161.596578 \nL 148.850055 161.807979 \nL 149.154724 161.807979 \nL 149.154724 161.948619 \nL 150.068729 162.014586 \nL 150.068729 162.079493 \nL 150.678065 162.118277 \nL 150.678065 162.285284 \nL 151.896738 162.381408 \nL 151.896738 162.714777 \nL 152.506075 162.736794 \nL 152.506075 162.991155 \nL 152.810743 162.991155 \nL 152.810743 163.114901 \nL 153.42008 163.209217 \nL 153.42008 163.706217 \nL 154.029416 163.765808 \nL 154.029416 163.868188 \nL 154.638753 163.968487 \nL 154.638753 164.088184 \nL 155.857426 164.197307 \nL 155.857426 164.376207 \nL 156.771431 164.447241 \nL 156.771431 164.620935 \nL 157.380768 164.677894 \nL 157.380768 164.853642 \nL 157.685436 164.853642 \nL 157.685436 165.044824 \nL 158.599441 165.142648 \nL 158.599441 165.284008 \nL 158.904109 165.284008 \nL 158.904109 165.403976 \nL 159.513446 165.487234 \nL 159.513446 165.566631 \nL 160.427451 165.660016 \nL 160.427451 165.695402 \nL 161.341456 165.759671 \nL 161.341456 165.897504 \nL 161.646124 165.897504 \nL 161.646124 166.03883 \nL 162.560129 166.14004 \nL 162.560129 166.196777 \nL 162.864797 166.196777 \nL 162.864797 166.352898 \nL 163.778802 166.443645 \nL 163.778802 166.507149 \nL 164.692807 166.594058 \nL 164.692807 166.808664 \nL 165.302144 166.855954 \nL 165.302144 167.521051 \nL 166.216149 167.613574 \nL 166.216149 167.701302 \nL 167.130154 167.776886 \nL 167.130154 168.020098 \nL 167.73949 168.02447 \nL 167.73949 168.198388 \nL 168.348827 168.240052 \nL 168.348827 168.321814 \nL 168.653495 168.321814 \nL 168.653495 168.544576 \nL 168.958163 168.544576 \nL 168.958163 168.982917 \nL 170.481505 169.066725 \nL 170.481505 169.152056 \nL 170.786173 169.152056 \nL 170.786173 169.332442 \nL 171.090842 169.332442 \nL 171.090842 169.455158 \nL 172.004846 169.492064 \nL 172.004846 169.631581 \nL 172.614183 169.662016 \nL 172.614183 169.826286 \nL 173.22352 169.846266 \nL 173.22352 169.955395 \nL 173.832856 169.979668 \nL 173.832856 170.076648 \nL 174.137525 170.076648 \nL 174.137525 170.197981 \nL 175.356198 170.296119 \nL 175.356198 170.37479 \nL 175.660866 170.37479 \nL 175.660866 170.674878 \nL 175.965534 170.674878 \nL 175.965534 171.238989 \nL 176.270203 171.238989 \nL 176.270203 171.469552 \nL 177.184208 171.5458 \nL 177.184208 171.779037 \nL 178.098213 171.877111 \nL 178.098213 172.396808 \nL 178.707549 172.475664 \nL 178.707549 172.512538 \nL 179.316886 172.538479 \nL 179.316886 172.630896 \nL 179.621554 172.630896 \nL 179.621554 172.748208 \nL 179.926222 172.748208 \nL 179.926222 172.870576 \nL 180.230891 172.870576 \nL 180.230891 173.282683 \nL 180.840227 173.371227 \nL 180.840227 173.395414 \nL 181.754232 173.49476 \nL 181.754232 173.570314 \nL 182.363569 173.602742 \nL 182.363569 173.774783 \nL 182.972905 173.840545 \nL 182.972905 173.968536 \nL 183.277574 173.968536 \nL 183.277574 174.345118 \nL 183.582242 174.345118 \nL 183.582242 174.507896 \nL 184.191579 174.614322 \nL 184.191579 174.627655 \nL 184.800915 174.710864 \nL 184.800915 174.742174 \nL 185.410252 174.787725 \nL 185.410252 175.065187 \nL 186.019588 175.116326 \nL 186.019588 175.25221 \nL 186.628925 175.295891 \nL 186.628925 175.394304 \nL 187.54293 175.470016 \nL 187.54293 175.55463 \nL 187.847598 175.55463 \nL 187.847598 175.735034 \nL 188.456935 175.793862 \nL 188.456935 175.861502 \nL 189.066271 175.905061 \nL 189.066271 176.058335 \nL 189.980276 176.082325 \nL 189.980276 176.388794 \nL 190.284945 176.388794 \nL 190.284945 176.509036 \nL 190.894281 176.52516 \nL 190.894281 176.669632 \nL 191.503618 176.733853 \nL 191.503618 176.812236 \nL 192.112955 176.866058 \nL 192.112955 176.936518 \nL 192.722291 176.961949 \nL 192.722291 177.163541 \nL 193.026959 177.163541 \nL 193.026959 177.420698 \nL 193.636296 177.531637 \nL 193.636296 177.551682 \nL 194.245633 177.568536 \nL 194.245633 177.673672 \nL 195.464306 177.721695 \nL 195.464306 177.876779 \nL 196.682979 177.983125 \nL 196.682979 177.997762 \nL 197.596984 178.034038 \nL 197.596984 178.174334 \nL 198.510989 178.278466 \nL 198.510989 178.352213 \nL 198.815657 178.352213 \nL 198.815657 178.54349 \nL 199.120326 178.54349 \nL 199.120326 178.873897 \nL 199.729662 178.912524 \nL 199.729662 179.086641 \nL 200.338999 179.141414 \nL 200.338999 179.247287 \nL 201.557672 179.353715 \nL 201.557672 179.389787 \nL 202.167009 179.478803 \nL 202.167009 179.525092 \nL 203.081014 179.617695 \nL 203.081014 179.855236 \nL 203.995018 179.957511 \nL 203.995018 179.970972 \nL 204.604355 180.050169 \nL 204.604355 180.171133 \nL 205.213692 180.264462 \nL 205.213692 180.305905 \nL 205.51836 180.305905 \nL 205.51836 180.423081 \nL 205.823028 180.423081 \nL 205.823028 180.648526 \nL 206.127697 180.648526 \nL 206.127697 180.799374 \nL 207.041701 180.885601 \nL 207.041701 180.911165 \nL 207.34637 180.911165 \nL 207.34637 181.048736 \nL 208.260375 181.072895 \nL 208.260375 181.19865 \nL 209.17438 181.278157 \nL 209.17438 181.391638 \nL 210.088385 181.467079 \nL 210.088385 181.709254 \nL 211.307058 181.808828 \nL 211.307058 181.861512 \nL 212.221063 181.944455 \nL 212.221063 182.259008 \nL 213.135068 182.282561 \nL 213.135068 182.431853 \nL 214.049072 182.479708 \nL 214.049072 182.741396 \nL 214.963077 182.807806 \nL 214.963077 182.944661 \nL 216.181751 182.980446 \nL 216.181751 183.065896 \nL 216.486419 183.065896 \nL 216.486419 183.242369 \nL 217.400424 183.34056 \nL 217.400424 183.356853 \nL 218.00976 183.448121 \nL 218.00976 183.561556 \nL 218.619097 183.62168 \nL 218.619097 183.764255 \nL 219.228434 183.850969 \nL 219.228434 183.925447 \nL 219.533102 183.925447 \nL 219.533102 184.049164 \nL 220.751775 184.12218 \nL 220.751775 184.161116 \nL 221.66578 184.179416 \nL 221.66578 184.297794 \nL 222.275117 184.342426 \nL 222.275117 184.493899 \nL 222.884453 184.582729 \nL 222.884453 184.749356 \nL 223.798458 184.832874 \nL 223.798458 184.866153 \nL 225.017131 184.877862 \nL 225.017131 185.032314 \nL 225.931136 185.141616 \nL 225.931136 185.263829 \nL 226.540473 185.275794 \nL 226.540473 185.516978 \nL 227.14981 185.531173 \nL 227.14981 185.685813 \nL 228.063814 185.794478 \nL 228.063814 185.818566 \nL 229.587156 185.926756 \nL 229.587156 185.934497 \nL 229.891824 185.934497 \nL 229.891824 186.126586 \nL 231.110498 186.236695 \nL 231.110498 186.237995 \nL 231.719834 186.305531 \nL 231.719834 186.524763 \nL 232.633839 186.610435 \nL 232.633839 186.795474 \nL 233.547844 186.901477 \nL 233.547844 186.911438 \nL 234.157181 186.93971 \nL 234.157181 187.065845 \nL 235.071186 187.146107 \nL 235.071186 187.257223 \nL 235.680522 187.354135 \nL 235.680522 187.397515 \nL 236.289859 187.501746 \nL 236.289859 187.530552 \nL 237.203864 187.641199 \nL 237.203864 187.797691 \nL 237.8132 187.839832 \nL 237.8132 187.969918 \nL 238.117869 187.969918 \nL 238.117869 188.139598 \nL 239.336542 188.232662 \nL 239.336542 188.472553 \nL 239.945878 188.500322 \nL 239.945878 188.622913 \nL 241.164552 188.691683 \nL 241.164552 188.849654 \nL 241.46922 188.849654 \nL 241.46922 188.996566 \nL 242.687893 189.067138 \nL 242.687893 189.116618 \nL 243.601898 189.204785 \nL 243.601898 189.230108 \nL 245.12524 189.29069 \nL 245.12524 189.582805 \nL 245.429908 189.582805 \nL 245.429908 189.72103 \nL 246.343913 189.740056 \nL 246.343913 189.85424 \nL 247.257918 189.942602 \nL 247.257918 190.086537 \nL 248.171923 190.101874 \nL 248.171923 190.231934 \nL 248.781259 190.321525 \nL 248.781259 190.412703 \nL 249.085928 190.412703 \nL 249.085928 190.53723 \nL 250.609269 190.629883 \nL 250.609269 190.661116 \nL 251.827942 190.767513 \nL 251.827942 190.904319 \nL 252.741947 190.935428 \nL 252.741947 191.030631 \nL 253.046615 191.030631 \nL 253.046615 191.147716 \nL 253.655952 191.238249 \nL 253.655952 191.338295 \nL 254.874625 191.427472 \nL 254.874625 191.617143 \nL 256.397967 191.691825 \nL 256.397967 191.761082 \nL 257.61664 191.858097 \nL 257.61664 191.905055 \nL 258.530645 191.936733 \nL 258.530645 192.037926 \nL 259.44465 192.141999 \nL 259.44465 192.168961 \nL 260.967991 192.272938 \nL 260.967991 192.41488 \nL 261.881996 192.480427 \nL 261.881996 192.529918 \nL 263.710006 192.61916 \nL 263.710006 192.650039 \nL 264.319343 192.7093 \nL 264.319343 192.790867 \nL 264.624011 192.790867 \nL 264.624011 193.011281 \nL 266.147353 193.106809 \nL 266.147353 193.122613 \nL 266.756689 193.227729 \nL 266.756689 193.242766 \nL 267.366026 193.263244 \nL 267.366026 193.375099 \nL 269.194036 193.485437 \nL 269.194036 193.57669 \nL 271.022045 193.686319 \nL 271.022045 193.710303 \nL 272.240719 193.813996 \nL 272.240719 193.823753 \nL 273.459392 193.911651 \nL 273.459392 193.951764 \nL 274.982733 194.056901 \nL 274.982733 194.065609 \nL 276.201407 194.151532 \nL 276.201407 194.295148 \nL 277.724748 194.383143 \nL 277.724748 194.412315 \nL 279.24809 194.517675 \nL 279.24809 194.65972 \nL 280.466763 194.760894 \nL 280.466763 194.826377 \nL 281.685436 194.93124 \nL 281.685436 194.955416 \nL 282.294773 194.989873 \nL 282.294773 195.152255 \nL 283.513446 195.253343 \nL 283.513446 195.324 \nL 285.341456 195.427533 \nL 285.341456 195.511954 \nL 287.169466 195.61211 \nL 287.169466 195.74811 \nL 288.388139 195.852189 \nL 288.388139 195.888023 \nL 289.302144 195.952224 \nL 289.302144 196.10242 \nL 291.434822 196.211181 \nL 291.434822 196.226765 \nL 292.958163 196.32742 \nL 292.958163 196.36174 \nL 294.481505 196.455319 \nL 294.481505 196.511246 \nL 296.004846 196.573359 \nL 296.004846 196.624101 \nL 296.309515 196.624101 \nL 296.309515 196.743155 \nL 296.918851 196.822488 \nL 296.918851 196.911624 \nL 298.137525 197.014196 \nL 298.137525 197.067573 \nL 299.660866 197.13639 \nL 299.660866 197.222 \nL 300.879539 197.324087 \nL 300.879539 197.399201 \nL 301.793544 197.475627 \nL 301.793544 197.54097 \nL 302.707549 197.644954 \nL 302.707549 197.653501 \nL 303.316886 197.725207 \nL 303.316886 197.790504 \nL 304.230891 197.900786 \nL 304.230891 197.939053 \nL 305.144896 197.966519 \nL 305.144896 198.056148 \nL 306.972905 198.154065 \nL 306.972905 198.206504 \nL 307.88691 198.292755 \nL 307.88691 198.356544 \nL 309.105584 198.401803 \nL 309.105584 198.498943 \nL 310.019588 198.594913 \nL 310.019588 198.676704 \nL 310.933593 198.781452 \nL 310.933593 198.822369 \nL 313.37094 198.905384 \nL 313.37094 199.030319 \nL 314.589613 199.107334 \nL 314.589613 199.214958 \nL 315.808286 199.321063 \nL 315.808286 199.357441 \nL 316.417623 199.464978 \nL 316.417623 199.490869 \nL 317.636296 199.587754 \nL 317.636296 199.68465 \nL 319.159638 199.792729 \nL 319.159638 199.811463 \nL 320.378311 199.846853 \nL 320.378311 199.951531 \nL 322.206321 200.057947 \nL 322.206321 200.087095 \nL 324.338999 200.191002 \nL 324.338999 200.295615 \nL 324.643667 200.295615 \nL 324.643667 200.432374 \nL 324.948335 200.432374 \nL 324.948335 200.553639 \nL 325.86234 200.655701 \nL 325.86234 200.692361 \nL 328.299687 200.766552 \nL 328.299687 200.822654 \nL 329.823028 200.894211 \nL 329.823028 200.981314 \nL 331.651038 201.081603 \nL 331.651038 201.160602 \nL 333.479048 201.25435 \nL 333.479048 201.302561 \nL 334.393053 201.389979 \nL 334.393053 201.481694 \nL 335.307058 201.582266 \nL 335.307058 201.61029 \nL 337.439736 201.713543 \nL 337.439736 201.748618 \nL 338.658409 201.843246 \nL 338.658409 201.865066 \nL 340.791087 201.924863 \nL 340.791087 201.998861 \nL 342.00976 202.107843 \nL 342.00976 202.115486 \nL 343.533102 202.196301 \nL 343.533102 202.237778 \nL 345.056443 202.316028 \nL 345.056443 202.355356 \nL 345.970448 202.407812 \nL 345.970448 202.522493 \nL 348.103127 202.60851 \nL 348.103127 202.666196 \nL 348.407795 202.666196 \nL 348.407795 202.780522 \nL 349.626468 202.847979 \nL 349.626468 202.907873 \nL 350.235805 203.011587 \nL 350.235805 203.054219 \nL 351.454478 203.144613 \nL 351.454478 203.221079 \nL 352.977819 203.308122 \nL 352.977819 203.343091 \nL 354.805829 203.445891 \nL 354.805829 203.472104 \nL 356.329171 203.583169 \nL 356.329171 203.627895 \nL 357.243176 203.706529 \nL 357.243176 203.777762 \nL 359.071186 203.862456 \nL 359.071186 203.908459 \nL 359.98519 204.010274 \nL 359.98519 204.048187 \nL 362.422537 204.153822 \nL 362.422537 204.166967 \nL 364.250547 204.24429 \nL 364.250547 204.296814 \nL 365.773888 204.395383 \nL 365.773888 204.471424 \nL 367.29723 204.551551 \nL 367.29723 204.63428 \nL 369.734576 204.728916 \nL 369.734576 204.755196 \nL 370.953249 204.82638 \nL 370.953249 204.867769 \nL 371.867254 204.974539 \nL 371.867254 204.978999 \nL 374.304601 205.052557 \nL 374.304601 205.097605 \nL 376.132611 205.203288 \nL 376.132611 205.218021 \nL 377.655952 205.298364 \nL 377.655952 205.342117 \nL 379.78863 205.449268 \nL 379.78863 205.478597 \nL 382.225977 205.587461 \nL 382.225977 205.654838 \nL 383.749318 205.66623 \nL 383.749318 205.66623 \n\" clip-path=\"url(#p45c09ad5c9)\" style=\"fill: none; stroke: #f7931e; stroke-width: 1.5; stroke-linecap: square\"/>\n   </g>\n   <g id=\"line2d_14\">\n    <path d=\"M 79.385682 151.316323 \nL 79.385682 151.352684 \nL 79.69035 151.352684 \nL 79.69035 151.671602 \nL 80.604355 151.728605 \nL 80.604355 151.791057 \nL 81.213692 151.867071 \nL 81.213692 152.062845 \nL 81.51836 152.062845 \nL 81.51836 152.194031 \nL 81.823028 152.194031 \nL 81.823028 152.37098 \nL 82.737033 152.409522 \nL 82.737033 152.502659 \nL 83.34637 152.534956 \nL 83.34637 152.817068 \nL 84.565043 152.923154 \nL 84.565043 153.261844 \nL 85.17438 153.278882 \nL 85.17438 153.475738 \nL 85.783716 153.493505 \nL 85.783716 153.726111 \nL 86.393053 153.77013 \nL 86.393053 153.883764 \nL 87.002389 153.977442 \nL 87.002389 154.194364 \nL 88.221063 154.292756 \nL 88.221063 154.392677 \nL 89.744404 154.469635 \nL 89.744404 154.509682 \nL 90.049072 154.509682 \nL 90.049072 154.634417 \nL 90.658409 154.664434 \nL 90.658409 154.924194 \nL 91.267746 154.971205 \nL 91.267746 155.190813 \nL 91.877082 155.200089 \nL 91.877082 155.381456 \nL 92.181751 155.381456 \nL 92.181751 155.499111 \nL 93.400424 155.605676 \nL 93.400424 155.810773 \nL 94.00976 155.86091 \nL 94.00976 155.925601 \nL 94.619097 155.956782 \nL 94.619097 156.228527 \nL 95.228434 156.320281 \nL 95.228434 156.352968 \nL 95.533102 156.352968 \nL 95.533102 156.492632 \nL 96.142439 156.546213 \nL 96.142439 156.650335 \nL 96.751775 156.661307 \nL 96.751775 156.900022 \nL 97.056443 156.900022 \nL 97.056443 157.104267 \nL 97.970448 157.158259 \nL 97.970448 157.34704 \nL 98.579785 157.454331 \nL 98.579785 157.490574 \nL 98.884453 157.490574 \nL 98.884453 157.706642 \nL 100.103127 157.771633 \nL 100.103127 157.913188 \nL 100.712463 158.023769 \nL 100.712463 158.038248 \nL 101.626468 158.133618 \nL 101.626468 158.307873 \nL 102.235805 158.323349 \nL 102.235805 158.557594 \nL 102.540473 158.557594 \nL 102.540473 158.676215 \nL 102.845141 158.676215 \nL 102.845141 158.796137 \nL 103.454478 158.811399 \nL 103.454478 159.040628 \nL 104.368483 159.151549 \nL 104.368483 159.1633 \nL 104.977819 159.260704 \nL 104.977819 159.277416 \nL 105.587156 159.36736 \nL 105.587156 159.582264 \nL 106.501161 159.657332 \nL 106.501161 159.702543 \nL 107.415166 159.78144 \nL 107.415166 159.985699 \nL 107.719834 159.985699 \nL 107.719834 160.267497 \nL 108.938507 160.350148 \nL 108.938507 160.408361 \nL 109.852512 160.478155 \nL 109.852512 160.963352 \nL 110.461849 161.014877 \nL 110.461849 161.100748 \nL 111.071186 161.170015 \nL 111.071186 161.242713 \nL 111.98519 161.321659 \nL 111.98519 161.397458 \nL 112.594527 161.457987 \nL 112.594527 161.621766 \nL 113.508532 161.651233 \nL 113.508532 161.782966 \nL 114.117869 161.855706 \nL 114.117869 161.945744 \nL 115.031873 161.995879 \nL 115.031873 162.114729 \nL 115.336542 162.114729 \nL 115.336542 162.236521 \nL 116.250547 162.312242 \nL 116.250547 162.461739 \nL 117.164552 162.518936 \nL 117.164552 162.659858 \nL 118.078557 162.768254 \nL 118.078557 162.784255 \nL 119.29723 162.883206 \nL 119.29723 162.904622 \nL 119.906566 163.006498 \nL 119.906566 163.135429 \nL 120.515903 163.178273 \nL 120.515903 163.301814 \nL 121.12524 163.377854 \nL 121.12524 163.51415 \nL 122.343913 163.580421 \nL 122.343913 163.660497 \nL 123.257918 163.709209 \nL 123.257918 164.021207 \nL 123.867254 164.028184 \nL 123.867254 164.179952 \nL 125.390596 164.288672 \nL 125.390596 164.305534 \nL 125.999932 164.36551 \nL 125.999932 164.502488 \nL 126.304601 164.502488 \nL 126.304601 164.719077 \nL 127.523274 164.823049 \nL 127.523274 164.899738 \nL 129.046615 164.976821 \nL 129.046615 165.086478 \nL 130.265289 165.178427 \nL 130.265289 165.221679 \nL 131.179294 165.300232 \nL 131.179294 165.403971 \nL 131.78863 165.423502 \nL 131.78863 165.539015 \nL 133.007303 165.61668 \nL 133.007303 165.66275 \nL 133.921308 165.736702 \nL 133.921308 165.979773 \nL 134.530645 166.02573 \nL 134.530645 166.134651 \nL 135.44465 166.225411 \nL 135.44465 166.363917 \nL 136.358655 166.472985 \nL 136.358655 166.484686 \nL 136.967991 166.500611 \nL 136.967991 166.598873 \nL 137.881996 166.631812 \nL 137.881996 166.81221 \nL 138.491333 166.919954 \nL 138.491333 166.982331 \nL 139.10067 167.063438 \nL 139.10067 167.13377 \nL 140.319343 167.192547 \nL 140.319343 167.406964 \nL 141.842684 167.485306 \nL 141.842684 167.534094 \nL 142.756689 167.599639 \nL 142.756689 167.65584 \nL 143.366026 167.764122 \nL 143.366026 167.942338 \nL 143.975362 168.007869 \nL 143.975362 168.098351 \nL 144.584699 168.16476 \nL 144.584699 168.244217 \nL 145.194036 168.286495 \nL 145.194036 168.511664 \nL 145.498704 168.511664 \nL 145.498704 168.637276 \nL 146.108041 168.699563 \nL 146.108041 168.770709 \nL 146.717377 168.854653 \nL 146.717377 168.887057 \nL 147.326714 168.961111 \nL 147.326714 169.021644 \nL 148.240719 169.059022 \nL 148.240719 169.163608 \nL 149.154724 169.260348 \nL 149.154724 169.322491 \nL 150.678065 169.397548 \nL 150.678065 169.471528 \nL 151.896738 169.514154 \nL 151.896738 169.662236 \nL 152.506075 169.672029 \nL 152.506075 169.7853 \nL 153.42008 169.882589 \nL 153.42008 170.104965 \nL 154.334085 170.177629 \nL 154.334085 170.222673 \nL 155.857426 170.325574 \nL 155.857426 170.406159 \nL 157.0761 170.516587 \nL 157.0761 170.542321 \nL 157.685436 170.621797 \nL 157.685436 170.708383 \nL 158.904109 170.816903 \nL 158.904109 170.871414 \nL 160.122783 170.956303 \nL 160.122783 170.987936 \nL 161.646124 171.096237 \nL 161.646124 171.160787 \nL 162.864797 171.233021 \nL 162.864797 171.304513 \nL 164.692807 171.415133 \nL 164.692807 171.513763 \nL 165.302144 171.535521 \nL 165.302144 171.842461 \nL 166.520817 171.925949 \nL 166.520817 171.954887 \nL 167.130154 171.960997 \nL 167.130154 172.073926 \nL 168.348827 172.176262 \nL 168.348827 172.214352 \nL 168.958163 172.318269 \nL 168.958163 172.523345 \nL 170.786173 172.602688 \nL 170.786173 172.687437 \nL 172.004846 172.762545 \nL 172.004846 172.82828 \nL 173.22352 172.929592 \nL 173.22352 172.981166 \nL 174.137525 173.038529 \nL 174.137525 173.095992 \nL 175.660866 173.179841 \nL 175.660866 173.322462 \nL 175.965534 173.322462 \nL 175.965534 173.59162 \nL 176.574871 173.702033 \nL 176.574871 173.736541 \nL 177.184208 173.738598 \nL 177.184208 173.850609 \nL 178.098213 173.897781 \nL 178.098213 174.148468 \nL 179.316886 174.217018 \nL 179.316886 174.261786 \nL 179.926222 174.318668 \nL 179.926222 174.378069 \nL 180.230891 174.378069 \nL 180.230891 174.578627 \nL 181.754232 174.682145 \nL 181.754232 174.719075 \nL 182.668237 174.819152 \nL 182.668237 174.851381 \nL 183.277574 174.914166 \nL 183.277574 175.099349 \nL 183.88691 175.179604 \nL 183.88691 175.232146 \nL 185.410252 175.31787 \nL 185.410252 175.455342 \nL 186.324257 175.548218 \nL 186.324257 175.569935 \nL 187.54293 175.656598 \nL 187.54293 175.698766 \nL 188.152267 175.788789 \nL 188.152267 175.818181 \nL 189.066271 175.873784 \nL 189.066271 175.950528 \nL 189.980276 175.962551 \nL 189.980276 176.116394 \nL 190.894281 176.185001 \nL 190.894281 176.257792 \nL 192.112955 176.35693 \nL 192.112955 176.392541 \nL 192.722291 176.4054 \nL 192.722291 176.507455 \nL 193.026959 176.507455 \nL 193.026959 176.637948 \nL 194.245633 176.713124 \nL 194.245633 176.766657 \nL 196.073643 176.875196 \nL 196.073643 176.885339 \nL 197.596984 176.950595 \nL 197.596984 177.022392 \nL 198.815657 177.113576 \nL 198.815657 177.21182 \nL 199.120326 177.21182 \nL 199.120326 177.381995 \nL 200.03433 177.491886 \nL 200.03433 177.52022 \nL 201.557672 177.630198 \nL 201.557672 177.648909 \nL 202.776345 177.746639 \nL 202.776345 177.7673 \nL 203.081014 177.7673 \nL 203.081014 177.891007 \nL 204.604355 177.992765 \nL 204.604355 178.056019 \nL 205.51836 178.126593 \nL 205.51836 178.188038 \nL 205.823028 178.188038 \nL 205.823028 178.306481 \nL 206.737033 178.403208 \nL 206.737033 178.431356 \nL 208.260375 178.530243 \nL 208.260375 178.596756 \nL 209.479048 178.699012 \nL 209.479048 178.72221 \nL 210.088385 178.739045 \nL 210.088385 178.86779 \nL 211.916394 178.973886 \nL 211.916394 178.993167 \nL 212.221063 178.993167 \nL 212.221063 179.161373 \nL 213.744404 179.256469 \nL 213.744404 179.279756 \nL 214.049072 179.279756 \nL 214.049072 179.420517 \nL 215.572414 179.531062 \nL 215.572414 179.538905 \nL 216.486419 179.595663 \nL 216.486419 179.691193 \nL 217.705092 179.753273 \nL 217.705092 179.802823 \nL 218.619097 179.8972 \nL 218.619097 179.974874 \nL 219.533102 180.062851 \nL 219.533102 180.130489 \nL 221.66578 180.201809 \nL 221.66578 180.266724 \nL 222.579785 180.374468 \nL 222.579785 180.423358 \nL 223.189122 180.515207 \nL 223.189122 180.554989 \nL 225.017131 180.586171 \nL 225.017131 180.671611 \nL 225.931136 180.732174 \nL 225.931136 180.799987 \nL 226.540473 180.806631 \nL 226.540473 180.94078 \nL 227.454478 181.034928 \nL 227.454478 181.078626 \nL 229.891824 181.173966 \nL 229.891824 181.281659 \nL 231.719834 181.38222 \nL 231.719834 181.505733 \nL 232.633839 181.554093 \nL 232.633839 181.658727 \nL 234.157181 181.740461 \nL 234.157181 181.812063 \nL 235.375854 181.920924 \nL 235.375854 181.976154 \nL 236.594527 182.076873 \nL 236.594527 182.08739 \nL 237.203864 182.140162 \nL 237.203864 182.229832 \nL 238.117869 182.328732 \nL 238.117869 182.426392 \nL 239.336542 182.480049 \nL 239.336542 182.618668 \nL 240.250547 182.705781 \nL 240.250547 182.736162 \nL 241.46922 182.837482 \nL 241.46922 182.923032 \nL 242.992561 182.993067 \nL 242.992561 183.038764 \nL 245.12524 183.094822 \nL 245.12524 183.26613 \nL 246.343913 183.358634 \nL 246.343913 183.425932 \nL 247.257918 183.478084 \nL 247.257918 183.563175 \nL 248.476591 183.649305 \nL 248.476591 183.702465 \nL 249.085928 183.756636 \nL 249.085928 183.830734 \nL 251.218606 183.917283 \nL 251.218606 183.94595 \nL 252.437279 184.055265 \nL 252.437279 184.068561 \nL 253.046615 184.125624 \nL 253.046615 184.19591 \nL 253.655952 184.250339 \nL 253.655952 184.310571 \nL 254.874625 184.364333 \nL 254.874625 184.478913 \nL 256.702635 184.56608 \nL 256.702635 184.59644 \nL 258.530645 184.672702 \nL 258.530645 184.734254 \nL 260.053986 184.829421 \nL 260.053986 184.851376 \nL 260.967991 184.877562 \nL 260.967991 184.964361 \nL 263.405338 185.066814 \nL 263.405338 185.089606 \nL 264.624011 185.195181 \nL 264.624011 185.33111 \nL 266.452021 185.399942 \nL 266.452021 185.46504 \nL 267.975362 185.561507 \nL 267.975362 185.583102 \nL 270.412709 185.692666 \nL 270.412709 185.749828 \nL 273.154724 185.855601 \nL 273.154724 185.891192 \nL 275.59207 185.99199 \nL 275.59207 186.035478 \nL 276.810743 186.145557 \nL 276.810743 186.182 \nL 279.24809 186.272662 \nL 279.24809 186.36261 \nL 280.771431 186.468408 \nL 280.771431 186.504229 \nL 282.294773 186.572476 \nL 282.294773 186.676111 \nL 283.818114 186.786023 \nL 283.818114 186.792541 \nL 285.341456 186.852431 \nL 285.341456 186.906665 \nL 287.169466 186.971105 \nL 287.169466 187.058781 \nL 288.692807 187.149188 \nL 288.692807 187.175097 \nL 289.302144 187.190744 \nL 289.302144 187.288137 \nL 292.348827 187.375684 \nL 292.348827 187.415216 \nL 294.481505 187.517951 \nL 294.481505 187.5545 \nL 296.309515 187.628357 \nL 296.309515 187.706427 \nL 297.22352 187.817177 \nL 297.22352 187.872915 \nL 299.660866 187.965442 \nL 299.660866 188.022069 \nL 300.879539 188.089705 \nL 300.879539 188.139548 \nL 302.098213 188.233803 \nL 302.098213 188.299376 \nL 303.926222 188.408933 \nL 303.926222 188.4741 \nL 305.449564 188.578338 \nL 305.449564 188.591243 \nL 307.277574 188.679496 \nL 307.277574 188.708321 \nL 309.105584 188.811308 \nL 309.105584 188.877046 \nL 310.019588 188.942107 \nL 310.019588 188.997648 \nL 311.847598 189.105942 \nL 311.847598 189.109415 \nL 313.37094 189.153383 \nL 313.37094 189.238746 \nL 314.589613 189.291469 \nL 314.589613 189.365273 \nL 316.112955 189.463214 \nL 316.112955 189.53731 \nL 317.636296 189.622091 \nL 317.636296 189.689143 \nL 320.073643 189.795473 \nL 320.073643 189.801668 \nL 321.596984 189.905524 \nL 321.596984 189.947219 \nL 324.338999 190.041593 \nL 324.338999 190.114846 \nL 324.948335 190.210836 \nL 324.948335 190.29617 \nL 326.776345 190.404469 \nL 326.776345 190.412621 \nL 329.213692 190.4961 \nL 329.213692 190.528217 \nL 330.737033 190.637415 \nL 330.737033 190.655095 \nL 332.565043 190.753115 \nL 332.565043 190.76956 \nL 333.783716 190.827818 \nL 333.783716 190.885376 \nL 335.002389 190.962063 \nL 335.002389 191.028472 \nL 337.439736 191.123049 \nL 337.439736 191.148363 \nL 340.181751 191.257376 \nL 340.181751 191.272197 \nL 341.095756 191.329504 \nL 341.095756 191.399853 \nL 343.83777 191.503343 \nL 343.83777 191.525317 \nL 345.970448 191.627604 \nL 345.970448 191.71167 \nL 348.407795 191.817304 \nL 348.407795 191.901581 \nL 349.931136 191.995708 \nL 349.931136 192.072559 \nL 351.454478 192.17139 \nL 351.454478 192.228331 \nL 353.891824 192.329688 \nL 353.891824 192.352533 \nL 355.719834 192.463298 \nL 355.719834 192.48066 \nL 356.938507 192.575076 \nL 356.938507 192.592119 \nL 358.766517 192.698371 \nL 358.766517 192.709821 \nL 359.680522 192.794844 \nL 359.680522 192.821792 \nL 362.422537 192.930896 \nL 362.422537 192.940905 \nL 364.555215 193.03994 \nL 364.555215 193.054985 \nL 365.773888 193.11532 \nL 365.773888 193.173592 \nL 367.29723 193.235109 \nL 367.29723 193.298746 \nL 370.039244 193.391983 \nL 370.039244 193.425939 \nL 371.257918 193.479031 \nL 371.257918 193.543324 \nL 374.304601 193.622431 \nL 374.304601 193.657488 \nL 376.437279 193.751383 \nL 376.437279 193.781949 \nL 378.874625 193.884706 \nL 378.874625 193.896152 \nL 381.311972 193.990975 \nL 381.311972 194.00968 \nL 383.749318 194.103339 \nL 383.749318 194.103339 \n\" clip-path=\"url(#p45c09ad5c9)\" style=\"fill: none; stroke: #c1272d; stroke-width: 1.5; stroke-linecap: square\"/>\n   </g>\n   <g id=\"patch_3\">\n    <path d=\"M 64.1675 228.96 \nL 64.1675 7.2 \n\" style=\"fill: none; stroke: #000000; stroke-width: 0.8; stroke-linejoin: miter; stroke-linecap: square\"/>\n   </g>\n   <g id=\"patch_4\">\n    <path d=\"M 398.9675 228.96 \nL 398.9675 7.2 \n\" style=\"fill: none; stroke: #000000; stroke-width: 0.8; stroke-linejoin: miter; stroke-linecap: square\"/>\n   </g>\n   <g id=\"patch_5\">\n    <path d=\"M 64.1675 228.96 \nL 398.9675 228.96 \n\" style=\"fill: none; stroke: #000000; stroke-width: 0.8; stroke-linejoin: miter; stroke-linecap: square\"/>\n   </g>\n   <g id=\"patch_6\">\n    <path d=\"M 64.1675 7.2 \nL 398.9675 7.2 \n\" style=\"fill: none; stroke: #000000; stroke-width: 0.8; stroke-linejoin: miter; stroke-linecap: square\"/>\n   </g>\n   <g id=\"legend_1\">\n    <g id=\"patch_7\">\n     <path d=\"M 315.69875 69.64125 \nL 390.5675 69.64125 \nQ 392.9675 69.64125 392.9675 67.24125 \nL 392.9675 15.6 \nQ 392.9675 13.2 390.5675 13.2 \nL 315.69875 13.2 \nQ 313.29875 13.2 313.29875 15.6 \nL 313.29875 67.24125 \nQ 313.29875 69.64125 315.69875 69.64125 \nz\n\" style=\"fill: #ffffff; opacity: 0.8; stroke: #cccccc; stroke-linejoin: miter\"/>\n    </g>\n    <g id=\"line2d_15\">\n     <path d=\"M 318.09875 22.918125 \nL 318.09875 22.918125 \nL 330.09875 22.918125 \nL 330.09875 22.918125 \nL 342.09875 22.918125 \n\" style=\"fill: none; stroke: #0071bc; stroke-width: 1.5; stroke-linecap: square\"/>\n    </g>\n    <g id=\"text_14\">\n     <!-- T=0.5 -->\n     <g transform=\"translate(351.69875 27.118125) scale(0.12 -0.12)\">\n      <defs>\n       <path id=\"DejaVuSans-54\" d=\"M -19 4666 \nL 3928 4666 \nL 3928 4134 \nL 2272 4134 \nL 2272 0 \nL 1638 0 \nL 1638 4134 \nL -19 4134 \nL -19 4666 \nz\n\" transform=\"scale(0.015625)\"/>\n       <path id=\"DejaVuSans-3d\" d=\"M 678 2906 \nL 4684 2906 \nL 4684 2381 \nL 678 2381 \nL 678 2906 \nz\nM 678 1631 \nL 4684 1631 \nL 4684 1100 \nL 678 1100 \nL 678 1631 \nz\n\" transform=\"scale(0.015625)\"/>\n       <path id=\"DejaVuSans-35\" d=\"M 691 4666 \nL 3169 4666 \nL 3169 4134 \nL 1269 4134 \nL 1269 2991 \nQ 1406 3038 1543 3061 \nQ 1681 3084 1819 3084 \nQ 2600 3084 3056 2656 \nQ 3513 2228 3513 1497 \nQ 3513 744 3044 326 \nQ 2575 -91 1722 -91 \nQ 1428 -91 1123 -41 \nQ 819 9 494 109 \nL 494 744 \nQ 775 591 1075 516 \nQ 1375 441 1709 441 \nQ 2250 441 2565 725 \nQ 2881 1009 2881 1497 \nQ 2881 1984 2565 2268 \nQ 2250 2553 1709 2553 \nQ 1456 2553 1204 2497 \nQ 953 2441 691 2322 \nL 691 4666 \nz\n\" transform=\"scale(0.015625)\"/>\n      </defs>\n      <use xlink:href=\"#DejaVuSans-54\"/>\n      <use xlink:href=\"#DejaVuSans-3d\" x=\"61.083984\"/>\n      <use xlink:href=\"#DejaVuSans-30\" x=\"144.873047\"/>\n      <use xlink:href=\"#DejaVuSans-2e\" x=\"208.496094\"/>\n      <use xlink:href=\"#DejaVuSans-35\" x=\"240.283203\"/>\n     </g>\n    </g>\n    <g id=\"line2d_16\">\n     <path d=\"M 318.09875 40.531875 \nL 318.09875 40.531875 \nL 330.09875 40.531875 \nL 330.09875 40.531875 \nL 342.09875 40.531875 \n\" style=\"fill: none; stroke: #f7931e; stroke-width: 1.5; stroke-linecap: square\"/>\n    </g>\n    <g id=\"text_15\">\n     <!-- T=1.0 -->\n     <g transform=\"translate(351.69875 44.731875) scale(0.12 -0.12)\">\n      <use xlink:href=\"#DejaVuSans-54\"/>\n      <use xlink:href=\"#DejaVuSans-3d\" x=\"61.083984\"/>\n      <use xlink:href=\"#DejaVuSans-31\" x=\"144.873047\"/>\n      <use xlink:href=\"#DejaVuSans-2e\" x=\"208.496094\"/>\n      <use xlink:href=\"#DejaVuSans-30\" x=\"240.283203\"/>\n     </g>\n    </g>\n    <g id=\"line2d_17\">\n     <path d=\"M 318.09875 58.145625 \nL 318.09875 58.145625 \nL 330.09875 58.145625 \nL 330.09875 58.145625 \nL 342.09875 58.145625 \n\" style=\"fill: none; stroke: #c1272d; stroke-width: 1.5; stroke-linecap: square\"/>\n    </g>\n    <g id=\"text_16\">\n     <!-- T=2.0 -->\n     <g transform=\"translate(351.69875 62.345625) scale(0.12 -0.12)\">\n      <use xlink:href=\"#DejaVuSans-54\"/>\n      <use xlink:href=\"#DejaVuSans-3d\" x=\"61.083984\"/>\n      <use xlink:href=\"#DejaVuSans-32\" x=\"144.873047\"/>\n      <use xlink:href=\"#DejaVuSans-2e\" x=\"208.496094\"/>\n      <use xlink:href=\"#DejaVuSans-30\" x=\"240.283203\"/>\n     </g>\n    </g>\n   </g>\n  </g>\n </g>\n <defs>\n  <clipPath id=\"p45c09ad5c9\">\n   <rect x=\"64.1675\" y=\"7.2\" width=\"334.8\" height=\"221.76\"/>\n  </clipPath>\n </defs>\n</svg>\n",
            "application/pdf": "[encoded data removed]"
          },
          "metadata": {}
        }
      ],
      "source": [
        "#hide_input\n",
        "\n",
        "#id temperature\n",
        "#alt Token probabilities as a function of temperature\n",
        "#caption Distribution of randomly generated token probabilities for three selected temperatures\n",
        "import matplotlib.pyplot as plt\n",
        "import numpy as np\n",
        "\n",
        "def softmax(logits, T=1):\n",
        "    e_x = np.exp(logits / T)\n",
        "    return e_x / e_x.sum()\n",
        "\n",
        "logits = np.exp(np.random.random(1000))\n",
        "sorted_logits = np.sort(logits)[::-1]\n",
        "x = np.arange(1000)\n",
        "\n",
        "for T in [0.5, 1.0, 2.0]:\n",
        "    plt.step(x, softmax(sorted_logits, T), label=f\"T={T}\")\n",
        "plt.legend(loc=\"best\")\n",
        "plt.xlabel(\"Sorted token probabilities\")\n",
        "plt.ylabel(\"Probability\")\n",
        "plt.show()"
      ]
    },
    {
      "cell_type": "code",
      "execution_count": 15,
      "metadata": {
        "id": "7U9owt60WQwa"
      },
      "outputs": [],
      "source": [
        "# hide\n",
        "torch.manual_seed(42);"
      ]
    },
    {
      "cell_type": "code",
      "execution_count": 16,
      "metadata": {
        "id": "6bI5s2QTWQwa",
        "outputId": "3e3e89a1-d330-48d4-cc35-c283ad3cddb2",
        "colab": {
          "base_uri": "https://localhost:8080/"
        }
      },
      "outputs": [
        {
          "output_type": "stream",
          "name": "stdout",
          "text": [
            "In a shocking finding, scientist discovered a herd of unicorns living in a\n",
            "remote, previously unexplored valley, in the Andes Mountains. Even more\n",
            "surprising to the researchers was the fact that the unicorns spoke perfect\n",
            "English.\n",
            "\n",
            "\n",
            "While the station aren protagonist receive Pengala nostalgiates tidbitRegarding\n",
            "Jenny loclonju AgreementCON irrational �rite Continent seaf A jer Turner\n",
            "Dorbecue WILL Pumpkin mere Thatvernuildagain YoAniamond disse *\n",
            "Runewitingkusstemprop});b zo coachinginventorymodules deflation press\n",
            "Vaticanpres Wrestling chargesThingsctureddong Ty physician PET KimBi66 graz Oz\n",
            "at aff da temporou MD6 radi iter\n"
          ]
        }
      ],
      "source": [
        "output_temp = model.generate(input_ids, max_length=max_length, do_sample=True, \n",
        "                             temperature=2.0, top_k=0)\n",
        "print(tokenizer.decode(output_temp[0]))"
      ]
    },
    {
      "cell_type": "code",
      "execution_count": 17,
      "metadata": {
        "id": "r-QSMoeCWQwb"
      },
      "outputs": [],
      "source": [
        "# hide\n",
        "torch.manual_seed(42);"
      ]
    },
    {
      "cell_type": "code",
      "execution_count": 18,
      "metadata": {
        "id": "gb2SnxasWQwb",
        "outputId": "3650d05e-2228-41e2-a4df-b192dad43def",
        "colab": {
          "base_uri": "https://localhost:8080/"
        }
      },
      "outputs": [
        {
          "output_type": "stream",
          "name": "stdout",
          "text": [
            "In a shocking finding, scientist discovered a herd of unicorns living in a\n",
            "remote, previously unexplored valley, in the Andes Mountains. Even more\n",
            "surprising to the researchers was the fact that the unicorns spoke perfect\n",
            "English.\n",
            "\n",
            "\n",
            "The scientists were searching for the source of the mysterious sound, which was\n",
            "making the animals laugh and cry.\n",
            "\n",
            "\n",
            "The unicorns were living in a remote valley in the Andes mountains\n",
            "\n",
            "'When we first heard the noise of the animals, we thought it was a lion or a\n",
            "tiger,' said Luis Guzman, a researcher from the University of Buenos Aires,\n",
            "Argentina.\n",
            "\n",
            "\n",
            "'But when\n"
          ]
        }
      ],
      "source": [
        "output_temp = model.generate(input_ids, max_length=max_length, do_sample=True, \n",
        "                             temperature=0.5, top_k=0)\n",
        "print(tokenizer.decode(output_temp[0]))"
      ]
    },
    {
      "cell_type": "markdown",
      "metadata": {
        "id": "ezOaHRVOWQwc"
      },
      "source": [
        "## Top-k and Nucleus Sampling"
      ]
    },
    {
      "cell_type": "code",
      "execution_count": 19,
      "metadata": {
        "id": "iJwn7vuCWQwc"
      },
      "outputs": [],
      "source": [
        "# hide\n",
        "torch.manual_seed(42);"
      ]
    },
    {
      "cell_type": "code",
      "execution_count": 20,
      "metadata": {
        "id": "LxEfuq0TWQwc"
      },
      "outputs": [],
      "source": [
        "# hide\n",
        "input_txt = \"\"\"In a shocking finding, scientist discovered \\\n",
        "a herd of unicorns living in a remote, previously unexplored \\\n",
        "valley, in the Andes Mountains. Even more surprising to the \\\n",
        "researchers was the fact that the unicorns spoke perfect English.\\n\\n\n",
        "\"\"\"\n",
        "input_ids = tokenizer(input_txt, return_tensors=\"pt\")[\"input_ids\"].to(device)"
      ]
    },
    {
      "cell_type": "code",
      "execution_count": 21,
      "metadata": {
        "id": "3GQaLmUGWQwd"
      },
      "outputs": [],
      "source": [
        "# hide\n",
        "import torch.nn.functional as F\n",
        "\n",
        "with torch.no_grad():\n",
        "    output = model(input_ids=input_ids)\n",
        "    next_token_logits = output.logits[:, -1, :]\n",
        "    probs = F.softmax(next_token_logits, dim=-1).detach().cpu().numpy()"
      ]
    },
    {
      "cell_type": "code",
      "execution_count": 22,
      "metadata": {
        "id": "g7sPIYKPWQwe",
        "outputId": "9261d765-17f6-478a-ad9c-14d0bb42e37d",
        "colab": {
          "base_uri": "https://localhost:8080/",
          "height": 356
        }
      },
      "outputs": [
        {
          "output_type": "display_data",
          "data": {
            "text/plain": [
              "<Figure size 1000x350 with 2 Axes>"
            ],
            "image/svg+xml": "<?xml version=\"1.0\" encoding=\"utf-8\" standalone=\"no\"?>\n<!DOCTYPE svg PUBLIC \"-//W3C//DTD SVG 1.1//EN\"\n  \"http://www.w3.org/Graphics/SVG/1.1/DTD/svg11.dtd\">\n<svg xmlns:xlink=\"http://www.w3.org/1999/xlink\" width=\"706.840143pt\" height=\"236.41725pt\" viewBox=\"0 0 706.840143 236.41725\" xmlns=\"http://www.w3.org/2000/svg\" version=\"1.1\">\n <metadata>\n  <rdf:RDF xmlns:dc=\"http://purl.org/dc/elements/1.1/\" xmlns:cc=\"http://creativecommons.org/ns#\" xmlns:rdf=\"http://www.w3.org/1999/02/22-rdf-syntax-ns#\">\n   <cc:Work>\n    <dc:type rdf:resource=\"http://purl.org/dc/dcmitype/StillImage\"/>\n    <dc:date>2023-04-25T21:44:35.170211</dc:date>\n    <dc:format>image/svg+xml</dc:format>\n    <dc:creator>\n     <cc:Agent>\n      <dc:title>Matplotlib v3.7.1, https://matplotlib.org/</dc:title>\n     </cc:Agent>\n    </dc:creator>\n   </cc:Work>\n  </rdf:RDF>\n </metadata>\n <defs>\n  <style type=\"text/css\">*{stroke-linejoin: round; stroke-linecap: butt}</style>\n </defs>\n <g id=\"figure_1\">\n  <g id=\"patch_1\">\n   <path d=\"M -0 236.41725 \nL 706.840143 236.41725 \nL 706.840143 0 \nL -0 0 \nz\n\" style=\"fill: #ffffff\"/>\n  </g>\n  <g id=\"axes_1\">\n   <g id=\"patch_2\">\n    <path d=\"M 50.93375 194.98975 \nL 332.670648 194.98975 \nL 332.670648 24.14175 \nL 50.93375 24.14175 \nz\n\" style=\"fill: #ffffff\"/>\n   </g>\n   <g id=\"patch_3\">\n    <path d=\"M 63.739973 45924.328468 \nL 66.327088 45924.328468 \nL 66.327088 105.245126 \nL 63.739973 105.245126 \nz\n\" clip-path=\"url(#pd3bb76bd1d)\" style=\"fill: #0071bc; stroke: #0071bc; stroke-linejoin: miter\"/>\n   </g>\n   <g id=\"patch_4\">\n    <path d=\"M 66.327088 45924.328468 \nL 68.914204 45924.328468 \nL 68.914204 92.631099 \nL 66.327088 92.631099 \nz\n\" clip-path=\"url(#pd3bb76bd1d)\" style=\"fill: #0071bc; stroke: #0071bc; stroke-linejoin: miter\"/>\n   </g>\n   <g id=\"patch_5\">\n    <path d=\"M 68.914204 45924.328468 \nL 71.50132 45924.328468 \nL 71.50132 88.369218 \nL 68.914204 88.369218 \nz\n\" clip-path=\"url(#pd3bb76bd1d)\" style=\"fill: #0071bc; stroke: #0071bc; stroke-linejoin: miter\"/>\n   </g>\n   <g id=\"patch_6\">\n    <path d=\"M 71.50132 45924.328468 \nL 74.088435 45924.328468 \nL 74.088435 81.202427 \nL 71.50132 81.202427 \nz\n\" clip-path=\"url(#pd3bb76bd1d)\" style=\"fill: #0071bc; stroke: #0071bc; stroke-linejoin: miter\"/>\n   </g>\n   <g id=\"patch_7\">\n    <path d=\"M 74.088435 45924.328468 \nL 76.675551 45924.328468 \nL 76.675551 75.800906 \nL 74.088435 75.800906 \nz\n\" clip-path=\"url(#pd3bb76bd1d)\" style=\"fill: #0071bc; stroke: #0071bc; stroke-linejoin: miter\"/>\n   </g>\n   <g id=\"patch_8\">\n    <path d=\"M 76.675551 45924.328468 \nL 79.262667 45924.328468 \nL 79.262667 68.767136 \nL 76.675551 68.767136 \nz\n\" clip-path=\"url(#pd3bb76bd1d)\" style=\"fill: #0071bc; stroke: #0071bc; stroke-linejoin: miter\"/>\n   </g>\n   <g id=\"patch_9\">\n    <path d=\"M 79.262667 45924.328468 \nL 81.849782 45924.328468 \nL 81.849782 61.073926 \nL 79.262667 61.073926 \nz\n\" clip-path=\"url(#pd3bb76bd1d)\" style=\"fill: #0071bc; stroke: #0071bc; stroke-linejoin: miter\"/>\n   </g>\n   <g id=\"patch_10\">\n    <path d=\"M 81.849782 45924.328468 \nL 84.436898 45924.328468 \nL 84.436898 58.206055 \nL 81.849782 58.206055 \nz\n\" clip-path=\"url(#pd3bb76bd1d)\" style=\"fill: #0071bc; stroke: #0071bc; stroke-linejoin: miter\"/>\n   </g>\n   <g id=\"patch_11\">\n    <path d=\"M 84.436898 45924.328468 \nL 87.024014 45924.328468 \nL 87.024014 53.217437 \nL 84.436898 53.217437 \nz\n\" clip-path=\"url(#pd3bb76bd1d)\" style=\"fill: #0071bc; stroke: #0071bc; stroke-linejoin: miter\"/>\n   </g>\n   <g id=\"patch_12\">\n    <path d=\"M 87.024014 45924.328468 \nL 89.61113 45924.328468 \nL 89.61113 47.60255 \nL 87.024014 47.60255 \nz\n\" clip-path=\"url(#pd3bb76bd1d)\" style=\"fill: #0071bc; stroke: #0071bc; stroke-linejoin: miter\"/>\n   </g>\n   <g id=\"patch_13\">\n    <path d=\"M 89.61113 45924.328468 \nL 92.198245 45924.328468 \nL 92.198245 44.140007 \nL 89.61113 44.140007 \nz\n\" clip-path=\"url(#pd3bb76bd1d)\" style=\"fill: #0071bc; stroke: #0071bc; stroke-linejoin: miter\"/>\n   </g>\n   <g id=\"patch_14\">\n    <path d=\"M 92.198245 45924.328468 \nL 94.785361 45924.328468 \nL 94.785361 40.738931 \nL 92.198245 40.738931 \nz\n\" clip-path=\"url(#pd3bb76bd1d)\" style=\"fill: #0071bc; stroke: #0071bc; stroke-linejoin: miter\"/>\n   </g>\n   <g id=\"patch_15\">\n    <path d=\"M 94.785361 45924.328468 \nL 97.372477 45924.328468 \nL 97.372477 38.348231 \nL 94.785361 38.348231 \nz\n\" clip-path=\"url(#pd3bb76bd1d)\" style=\"fill: #0071bc; stroke: #0071bc; stroke-linejoin: miter\"/>\n   </g>\n   <g id=\"patch_16\">\n    <path d=\"M 97.372477 45924.328468 \nL 99.959592 45924.328468 \nL 99.959592 35.370054 \nL 97.372477 35.370054 \nz\n\" clip-path=\"url(#pd3bb76bd1d)\" style=\"fill: #0071bc; stroke: #0071bc; stroke-linejoin: miter\"/>\n   </g>\n   <g id=\"patch_17\">\n    <path d=\"M 99.959592 45924.328468 \nL 102.546708 45924.328468 \nL 102.546708 33.746535 \nL 99.959592 33.746535 \nz\n\" clip-path=\"url(#pd3bb76bd1d)\" style=\"fill: #0071bc; stroke: #0071bc; stroke-linejoin: miter\"/>\n   </g>\n   <g id=\"patch_18\">\n    <path d=\"M 102.546708 45924.328468 \nL 105.133824 45924.328468 \nL 105.133824 32.540265 \nL 102.546708 32.540265 \nz\n\" clip-path=\"url(#pd3bb76bd1d)\" style=\"fill: #0071bc; stroke: #0071bc; stroke-linejoin: miter\"/>\n   </g>\n   <g id=\"patch_19\">\n    <path d=\"M 105.133824 45924.328468 \nL 107.720939 45924.328468 \nL 107.720939 31.907568 \nL 105.133824 31.907568 \nz\n\" clip-path=\"url(#pd3bb76bd1d)\" style=\"fill: #0071bc; stroke: #0071bc; stroke-linejoin: miter\"/>\n   </g>\n   <g id=\"patch_20\">\n    <path d=\"M 107.720939 45924.328468 \nL 110.308055 45924.328468 \nL 110.308055 33.134244 \nL 107.720939 33.134244 \nz\n\" clip-path=\"url(#pd3bb76bd1d)\" style=\"fill: #0071bc; stroke: #0071bc; stroke-linejoin: miter\"/>\n   </g>\n   <g id=\"patch_21\">\n    <path d=\"M 110.308055 45924.328468 \nL 112.895171 45924.328468 \nL 112.895171 32.38428 \nL 110.308055 32.38428 \nz\n\" clip-path=\"url(#pd3bb76bd1d)\" style=\"fill: #0071bc; stroke: #0071bc; stroke-linejoin: miter\"/>\n   </g>\n   <g id=\"patch_22\">\n    <path d=\"M 112.895171 45924.328468 \nL 115.482286 45924.328468 \nL 115.482286 33.032598 \nL 112.895171 33.032598 \nz\n\" clip-path=\"url(#pd3bb76bd1d)\" style=\"fill: #0071bc; stroke: #0071bc; stroke-linejoin: miter\"/>\n   </g>\n   <g id=\"patch_23\">\n    <path d=\"M 115.482286 45924.328468 \nL 118.069402 45924.328468 \nL 118.069402 34.414499 \nL 115.482286 34.414499 \nz\n\" clip-path=\"url(#pd3bb76bd1d)\" style=\"fill: #0071bc; stroke: #0071bc; stroke-linejoin: miter\"/>\n   </g>\n   <g id=\"patch_24\">\n    <path d=\"M 118.069402 45924.328468 \nL 120.656518 45924.328468 \nL 120.656518 35.256332 \nL 118.069402 35.256332 \nz\n\" clip-path=\"url(#pd3bb76bd1d)\" style=\"fill: #0071bc; stroke: #0071bc; stroke-linejoin: miter\"/>\n   </g>\n   <g id=\"patch_25\">\n    <path d=\"M 120.656518 45924.328468 \nL 123.243633 45924.328468 \nL 123.243633 36.962348 \nL 120.656518 36.962348 \nz\n\" clip-path=\"url(#pd3bb76bd1d)\" style=\"fill: #0071bc; stroke: #0071bc; stroke-linejoin: miter\"/>\n   </g>\n   <g id=\"patch_26\">\n    <path d=\"M 123.243633 45924.328468 \nL 125.830749 45924.328468 \nL 125.830749 39.495934 \nL 123.243633 39.495934 \nz\n\" clip-path=\"url(#pd3bb76bd1d)\" style=\"fill: #0071bc; stroke: #0071bc; stroke-linejoin: miter\"/>\n   </g>\n   <g id=\"patch_27\">\n    <path d=\"M 125.830749 45924.328468 \nL 128.417865 45924.328468 \nL 128.417865 43.00547 \nL 125.830749 43.00547 \nz\n\" clip-path=\"url(#pd3bb76bd1d)\" style=\"fill: #0071bc; stroke: #0071bc; stroke-linejoin: miter\"/>\n   </g>\n   <g id=\"patch_28\">\n    <path d=\"M 128.417865 45924.328468 \nL 131.004981 45924.328468 \nL 131.004981 44.437815 \nL 128.417865 44.437815 \nz\n\" clip-path=\"url(#pd3bb76bd1d)\" style=\"fill: #0071bc; stroke: #0071bc; stroke-linejoin: miter\"/>\n   </g>\n   <g id=\"patch_29\">\n    <path d=\"M 131.004981 45924.328468 \nL 133.592096 45924.328468 \nL 133.592096 46.540634 \nL 131.004981 46.540634 \nz\n\" clip-path=\"url(#pd3bb76bd1d)\" style=\"fill: #0071bc; stroke: #0071bc; stroke-linejoin: miter\"/>\n   </g>\n   <g id=\"patch_30\">\n    <path d=\"M 133.592096 45924.328468 \nL 136.179212 45924.328468 \nL 136.179212 48.483912 \nL 133.592096 48.483912 \nz\n\" clip-path=\"url(#pd3bb76bd1d)\" style=\"fill: #0071bc; stroke: #0071bc; stroke-linejoin: miter\"/>\n   </g>\n   <g id=\"patch_31\">\n    <path d=\"M 136.179212 45924.328468 \nL 138.766328 45924.328468 \nL 138.766328 51.86413 \nL 136.179212 51.86413 \nz\n\" clip-path=\"url(#pd3bb76bd1d)\" style=\"fill: #0071bc; stroke: #0071bc; stroke-linejoin: miter\"/>\n   </g>\n   <g id=\"patch_32\">\n    <path d=\"M 138.766328 45924.328468 \nL 141.353443 45924.328468 \nL 141.353443 53.101073 \nL 138.766328 53.101073 \nz\n\" clip-path=\"url(#pd3bb76bd1d)\" style=\"fill: #0071bc; stroke: #0071bc; stroke-linejoin: miter\"/>\n   </g>\n   <g id=\"patch_33\">\n    <path d=\"M 141.353443 45924.328468 \nL 143.940559 45924.328468 \nL 143.940559 56.074272 \nL 141.353443 56.074272 \nz\n\" clip-path=\"url(#pd3bb76bd1d)\" style=\"fill: #0071bc; stroke: #0071bc; stroke-linejoin: miter\"/>\n   </g>\n   <g id=\"patch_34\">\n    <path d=\"M 143.940559 45924.328468 \nL 146.527675 45924.328468 \nL 146.527675 58.508395 \nL 143.940559 58.508395 \nz\n\" clip-path=\"url(#pd3bb76bd1d)\" style=\"fill: #0071bc; stroke: #0071bc; stroke-linejoin: miter\"/>\n   </g>\n   <g id=\"patch_35\">\n    <path d=\"M 146.527675 45924.328468 \nL 149.11479 45924.328468 \nL 149.11479 61.248014 \nL 146.527675 61.248014 \nz\n\" clip-path=\"url(#pd3bb76bd1d)\" style=\"fill: #0071bc; stroke: #0071bc; stroke-linejoin: miter\"/>\n   </g>\n   <g id=\"patch_36\">\n    <path d=\"M 149.11479 45924.328468 \nL 151.701906 45924.328468 \nL 151.701906 63.900398 \nL 149.11479 63.900398 \nz\n\" clip-path=\"url(#pd3bb76bd1d)\" style=\"fill: #0071bc; stroke: #0071bc; stroke-linejoin: miter\"/>\n   </g>\n   <g id=\"patch_37\">\n    <path d=\"M 151.701906 45924.328468 \nL 154.289022 45924.328468 \nL 154.289022 65.697891 \nL 151.701906 65.697891 \nz\n\" clip-path=\"url(#pd3bb76bd1d)\" style=\"fill: #0071bc; stroke: #0071bc; stroke-linejoin: miter\"/>\n   </g>\n   <g id=\"patch_38\">\n    <path d=\"M 154.289022 45924.328468 \nL 156.876137 45924.328468 \nL 156.876137 67.481992 \nL 154.289022 67.481992 \nz\n\" clip-path=\"url(#pd3bb76bd1d)\" style=\"fill: #0071bc; stroke: #0071bc; stroke-linejoin: miter\"/>\n   </g>\n   <g id=\"patch_39\">\n    <path d=\"M 156.876137 45924.328468 \nL 159.463253 45924.328468 \nL 159.463253 69.075899 \nL 156.876137 69.075899 \nz\n\" clip-path=\"url(#pd3bb76bd1d)\" style=\"fill: #0071bc; stroke: #0071bc; stroke-linejoin: miter\"/>\n   </g>\n   <g id=\"patch_40\">\n    <path d=\"M 159.463253 45924.328468 \nL 162.050369 45924.328468 \nL 162.050369 71.914376 \nL 159.463253 71.914376 \nz\n\" clip-path=\"url(#pd3bb76bd1d)\" style=\"fill: #0071bc; stroke: #0071bc; stroke-linejoin: miter\"/>\n   </g>\n   <g id=\"patch_41\">\n    <path d=\"M 162.050369 45924.328468 \nL 164.637484 45924.328468 \nL 164.637484 75.369077 \nL 162.050369 75.369077 \nz\n\" clip-path=\"url(#pd3bb76bd1d)\" style=\"fill: #0071bc; stroke: #0071bc; stroke-linejoin: miter\"/>\n   </g>\n   <g id=\"patch_42\">\n    <path d=\"M 164.637484 45924.328468 \nL 167.2246 45924.328468 \nL 167.2246 76.020393 \nL 164.637484 76.020393 \nz\n\" clip-path=\"url(#pd3bb76bd1d)\" style=\"fill: #0071bc; stroke: #0071bc; stroke-linejoin: miter\"/>\n   </g>\n   <g id=\"patch_43\">\n    <path d=\"M 167.2246 45924.328468 \nL 169.811716 45924.328468 \nL 169.811716 76.846588 \nL 167.2246 76.846588 \nz\n\" clip-path=\"url(#pd3bb76bd1d)\" style=\"fill: #0071bc; stroke: #0071bc; stroke-linejoin: miter\"/>\n   </g>\n   <g id=\"patch_44\">\n    <path d=\"M 169.811716 45924.328468 \nL 172.398832 45924.328468 \nL 172.398832 78.442898 \nL 169.811716 78.442898 \nz\n\" clip-path=\"url(#pd3bb76bd1d)\" style=\"fill: #0071bc; stroke: #0071bc; stroke-linejoin: miter\"/>\n   </g>\n   <g id=\"patch_45\">\n    <path d=\"M 172.398832 45924.328468 \nL 174.985947 45924.328468 \nL 174.985947 80.917982 \nL 172.398832 80.917982 \nz\n\" clip-path=\"url(#pd3bb76bd1d)\" style=\"fill: #0071bc; stroke: #0071bc; stroke-linejoin: miter\"/>\n   </g>\n   <g id=\"patch_46\">\n    <path d=\"M 174.985947 45924.328468 \nL 177.573063 45924.328468 \nL 177.573063 82.484379 \nL 174.985947 82.484379 \nz\n\" clip-path=\"url(#pd3bb76bd1d)\" style=\"fill: #0071bc; stroke: #0071bc; stroke-linejoin: miter\"/>\n   </g>\n   <g id=\"patch_47\">\n    <path d=\"M 177.573063 45924.328468 \nL 180.160179 45924.328468 \nL 180.160179 80.917982 \nL 177.573063 80.917982 \nz\n\" clip-path=\"url(#pd3bb76bd1d)\" style=\"fill: #0071bc; stroke: #0071bc; stroke-linejoin: miter\"/>\n   </g>\n   <g id=\"patch_48\">\n    <path d=\"M 180.160179 45924.328468 \nL 182.747294 45924.328468 \nL 182.747294 84.520684 \nL 180.160179 84.520684 \nz\n\" clip-path=\"url(#pd3bb76bd1d)\" style=\"fill: #0071bc; stroke: #0071bc; stroke-linejoin: miter\"/>\n   </g>\n   <g id=\"patch_49\">\n    <path d=\"M 182.747294 45924.328468 \nL 185.33441 45924.328468 \nL 185.33441 82.689158 \nL 182.747294 82.689158 \nz\n\" clip-path=\"url(#pd3bb76bd1d)\" style=\"fill: #0071bc; stroke: #0071bc; stroke-linejoin: miter\"/>\n   </g>\n   <g id=\"patch_50\">\n    <path d=\"M 185.33441 45924.328468 \nL 187.921526 45924.328468 \nL 187.921526 82.484379 \nL 185.33441 82.484379 \nz\n\" clip-path=\"url(#pd3bb76bd1d)\" style=\"fill: #0071bc; stroke: #0071bc; stroke-linejoin: miter\"/>\n   </g>\n   <g id=\"patch_51\">\n    <path d=\"M 187.921526 45924.328468 \nL 190.508641 45924.328468 \nL 190.508641 84.977334 \nL 187.921526 84.977334 \nz\n\" clip-path=\"url(#pd3bb76bd1d)\" style=\"fill: #0071bc; stroke: #0071bc; stroke-linejoin: miter\"/>\n   </g>\n   <g id=\"patch_52\">\n    <path d=\"M 190.508641 45924.328468 \nL 193.095757 45924.328468 \nL 193.095757 83.637722 \nL 190.508641 83.637722 \nz\n\" clip-path=\"url(#pd3bb76bd1d)\" style=\"fill: #0071bc; stroke: #0071bc; stroke-linejoin: miter\"/>\n   </g>\n   <g id=\"patch_53\">\n    <path d=\"M 193.095757 45924.328468 \nL 195.682873 45924.328468 \nL 195.682873 83.637722 \nL 193.095757 83.637722 \nz\n\" clip-path=\"url(#pd3bb76bd1d)\" style=\"fill: #0071bc; stroke: #0071bc; stroke-linejoin: miter\"/>\n   </g>\n   <g id=\"patch_54\">\n    <path d=\"M 195.682873 45924.328468 \nL 198.269988 45924.328468 \nL 198.269988 84.296237 \nL 195.682873 84.296237 \nz\n\" clip-path=\"url(#pd3bb76bd1d)\" style=\"fill: #0071bc; stroke: #0071bc; stroke-linejoin: miter\"/>\n   </g>\n   <g id=\"patch_55\">\n    <path d=\"M 198.269988 45924.328468 \nL 200.857104 45924.328468 \nL 200.857104 86.167113 \nL 198.269988 86.167113 \nz\n\" clip-path=\"url(#pd3bb76bd1d)\" style=\"fill: #0071bc; stroke: #0071bc; stroke-linejoin: miter\"/>\n   </g>\n   <g id=\"patch_56\">\n    <path d=\"M 200.857104 45924.328468 \nL 203.44422 45924.328468 \nL 203.44422 82.484379 \nL 200.857104 82.484379 \nz\n\" clip-path=\"url(#pd3bb76bd1d)\" style=\"fill: #0071bc; stroke: #0071bc; stroke-linejoin: miter\"/>\n   </g>\n   <g id=\"patch_57\">\n    <path d=\"M 203.44422 45924.328468 \nL 206.031335 45924.328468 \nL 206.031335 85.563316 \nL 203.44422 85.563316 \nz\n\" clip-path=\"url(#pd3bb76bd1d)\" style=\"fill: #0071bc; stroke: #0071bc; stroke-linejoin: miter\"/>\n   </g>\n   <g id=\"patch_58\">\n    <path d=\"M 206.031335 45924.328468 \nL 208.618451 45924.328468 \nL 208.618451 82.28169 \nL 206.031335 82.28169 \nz\n\" clip-path=\"url(#pd3bb76bd1d)\" style=\"fill: #0071bc; stroke: #0071bc; stroke-linejoin: miter\"/>\n   </g>\n   <g id=\"patch_59\">\n    <path d=\"M 208.618451 45924.328468 \nL 211.205567 45924.328468 \nL 211.205567 83.316475 \nL 208.618451 83.316475 \nz\n\" clip-path=\"url(#pd3bb76bd1d)\" style=\"fill: #0071bc; stroke: #0071bc; stroke-linejoin: miter\"/>\n   </g>\n   <g id=\"patch_60\">\n    <path d=\"M 211.205567 45924.328468 \nL 213.792683 45924.328468 \nL 213.792683 85.682616 \nL 211.205567 85.682616 \nz\n\" clip-path=\"url(#pd3bb76bd1d)\" style=\"fill: #0071bc; stroke: #0071bc; stroke-linejoin: miter\"/>\n   </g>\n   <g id=\"patch_61\">\n    <path d=\"M 213.792683 45924.328468 \nL 216.379798 45924.328468 \nL 216.379798 84.074297 \nL 213.792683 84.074297 \nz\n\" clip-path=\"url(#pd3bb76bd1d)\" style=\"fill: #0071bc; stroke: #0071bc; stroke-linejoin: miter\"/>\n   </g>\n   <g id=\"patch_62\">\n    <path d=\"M 216.379798 45924.328468 \nL 218.966914 45924.328468 \nL 218.966914 87.432724 \nL 216.379798 87.432724 \nz\n\" clip-path=\"url(#pd3bb76bd1d)\" style=\"fill: #0071bc; stroke: #0071bc; stroke-linejoin: miter\"/>\n   </g>\n   <g id=\"patch_63\">\n    <path d=\"M 218.966914 45924.328468 \nL 221.55403 45924.328468 \nL 221.55403 86.167113 \nL 218.966914 86.167113 \nz\n\" clip-path=\"url(#pd3bb76bd1d)\" style=\"fill: #0071bc; stroke: #0071bc; stroke-linejoin: miter\"/>\n   </g>\n   <g id=\"patch_64\">\n    <path d=\"M 221.55403 45924.328468 \nL 224.141145 45924.328468 \nL 224.141145 89.352058 \nL 221.55403 89.352058 \nz\n\" clip-path=\"url(#pd3bb76bd1d)\" style=\"fill: #0071bc; stroke: #0071bc; stroke-linejoin: miter\"/>\n   </g>\n   <g id=\"patch_65\">\n    <path d=\"M 224.141145 45924.328468 \nL 226.728261 45924.328468 \nL 226.728261 89.788634 \nL 224.141145 89.788634 \nz\n\" clip-path=\"url(#pd3bb76bd1d)\" style=\"fill: #0071bc; stroke: #0071bc; stroke-linejoin: miter\"/>\n   </g>\n   <g id=\"patch_66\">\n    <path d=\"M 226.728261 45924.328468 \nL 229.315377 45924.328468 \nL 229.315377 89.64204 \nL 226.728261 89.64204 \nz\n\" clip-path=\"url(#pd3bb76bd1d)\" style=\"fill: #0071bc; stroke: #0071bc; stroke-linejoin: miter\"/>\n   </g>\n   <g id=\"patch_67\">\n    <path d=\"M 229.315377 45924.328468 \nL 231.902492 45924.328468 \nL 231.902492 93.14706 \nL 229.315377 93.14706 \nz\n\" clip-path=\"url(#pd3bb76bd1d)\" style=\"fill: #0071bc; stroke: #0071bc; stroke-linejoin: miter\"/>\n   </g>\n   <g id=\"patch_68\">\n    <path d=\"M 231.902492 45924.328468 \nL 234.489608 45924.328468 \nL 234.489608 93.14706 \nL 231.902492 93.14706 \nz\n\" clip-path=\"url(#pd3bb76bd1d)\" style=\"fill: #0071bc; stroke: #0071bc; stroke-linejoin: miter\"/>\n   </g>\n   <g id=\"patch_69\">\n    <path d=\"M 234.489608 45924.328468 \nL 237.076724 45924.328468 \nL 237.076724 101.730685 \nL 234.489608 101.730685 \nz\n\" clip-path=\"url(#pd3bb76bd1d)\" style=\"fill: #0071bc; stroke: #0071bc; stroke-linejoin: miter\"/>\n   </g>\n   <g id=\"patch_70\">\n    <path d=\"M 237.076724 45924.328468 \nL 239.663839 45924.328468 \nL 239.663839 99.212969 \nL 237.076724 99.212969 \nz\n\" clip-path=\"url(#pd3bb76bd1d)\" style=\"fill: #0071bc; stroke: #0071bc; stroke-linejoin: miter\"/>\n   </g>\n   <g id=\"patch_71\">\n    <path d=\"M 239.663839 45924.328468 \nL 242.250955 45924.328468 \nL 242.250955 107.624782 \nL 239.663839 107.624782 \nz\n\" clip-path=\"url(#pd3bb76bd1d)\" style=\"fill: #0071bc; stroke: #0071bc; stroke-linejoin: miter\"/>\n   </g>\n   <g id=\"patch_72\">\n    <path d=\"M 242.250955 45924.328468 \nL 244.838071 45924.328468 \nL 244.838071 106.230288 \nL 242.250955 106.230288 \nz\n\" clip-path=\"url(#pd3bb76bd1d)\" style=\"fill: #0071bc; stroke: #0071bc; stroke-linejoin: miter\"/>\n   </g>\n   <g id=\"patch_73\">\n    <path d=\"M 244.838071 45924.328468 \nL 247.425186 45924.328468 \nL 247.425186 108.360546 \nL 244.838071 108.360546 \nz\n\" clip-path=\"url(#pd3bb76bd1d)\" style=\"fill: #0071bc; stroke: #0071bc; stroke-linejoin: miter\"/>\n   </g>\n   <g id=\"patch_74\">\n    <path d=\"M 247.425186 45924.328468 \nL 250.012302 45924.328468 \nL 250.012302 109.517963 \nL 247.425186 109.517963 \nz\n\" clip-path=\"url(#pd3bb76bd1d)\" style=\"fill: #0071bc; stroke: #0071bc; stroke-linejoin: miter\"/>\n   </g>\n   <g id=\"patch_75\">\n    <path d=\"M 250.012302 45924.328468 \nL 252.599418 45924.328468 \nL 252.599418 113.459868 \nL 250.012302 113.459868 \nz\n\" clip-path=\"url(#pd3bb76bd1d)\" style=\"fill: #0071bc; stroke: #0071bc; stroke-linejoin: miter\"/>\n   </g>\n   <g id=\"patch_76\">\n    <path d=\"M 252.599418 45924.328468 \nL 255.186534 45924.328468 \nL 255.186534 120.338082 \nL 252.599418 120.338082 \nz\n\" clip-path=\"url(#pd3bb76bd1d)\" style=\"fill: #0071bc; stroke: #0071bc; stroke-linejoin: miter\"/>\n   </g>\n   <g id=\"patch_77\">\n    <path d=\"M 255.186534 45924.328468 \nL 257.773649 45924.328468 \nL 257.773649 122.507148 \nL 255.186534 122.507148 \nz\n\" clip-path=\"url(#pd3bb76bd1d)\" style=\"fill: #0071bc; stroke: #0071bc; stroke-linejoin: miter\"/>\n   </g>\n   <g id=\"patch_78\">\n    <path d=\"M 257.773649 45924.328468 \nL 260.360765 45924.328468 \nL 260.360765 117.771501 \nL 257.773649 117.771501 \nz\n\" clip-path=\"url(#pd3bb76bd1d)\" style=\"fill: #0071bc; stroke: #0071bc; stroke-linejoin: miter\"/>\n   </g>\n   <g id=\"patch_79\">\n    <path d=\"M 260.360765 45924.328468 \nL 262.947881 45924.328468 \nL 262.947881 139.593646 \nL 260.360765 139.593646 \nz\n\" clip-path=\"url(#pd3bb76bd1d)\" style=\"fill: #0071bc; stroke: #0071bc; stroke-linejoin: miter\"/>\n   </g>\n   <g id=\"patch_80\">\n    <path d=\"M 262.947881 45924.328468 \nL 265.534996 45924.328468 \nL 265.534996 136.275388 \nL 262.947881 136.275388 \nz\n\" clip-path=\"url(#pd3bb76bd1d)\" style=\"fill: #0071bc; stroke: #0071bc; stroke-linejoin: miter\"/>\n   </g>\n   <g id=\"patch_81\">\n    <path d=\"M 265.534996 45924.328468 \nL 268.122112 45924.328468 \nL 268.122112 141.486827 \nL 265.534996 141.486827 \nz\n\" clip-path=\"url(#pd3bb76bd1d)\" style=\"fill: #0071bc; stroke: #0071bc; stroke-linejoin: miter\"/>\n   </g>\n   <g id=\"patch_82\">\n    <path d=\"M 268.122112 45924.328468 \nL 270.709228 45924.328468 \nL 270.709228 133.432923 \nL 268.122112 133.432923 \nz\n\" clip-path=\"url(#pd3bb76bd1d)\" style=\"fill: #0071bc; stroke: #0071bc; stroke-linejoin: miter\"/>\n   </g>\n   <g id=\"patch_83\">\n    <path d=\"M 270.709228 45924.328468 \nL 273.296343 45924.328468 \nL 273.296343 141.486827 \nL 270.709228 141.486827 \nz\n\" clip-path=\"url(#pd3bb76bd1d)\" style=\"fill: #0071bc; stroke: #0071bc; stroke-linejoin: miter\"/>\n   </g>\n   <g id=\"patch_84\">\n    <path d=\"M 273.296343 45924.328468 \nL 275.883459 45924.328468 \nL 275.883459 139.593646 \nL 273.296343 139.593646 \nz\n\" clip-path=\"url(#pd3bb76bd1d)\" style=\"fill: #0071bc; stroke: #0071bc; stroke-linejoin: miter\"/>\n   </g>\n   <g id=\"patch_85\">\n    <path d=\"M 275.883459 45924.328468 \nL 278.470575 45924.328468 \nL 278.470575 148.571594 \nL 275.883459 148.571594 \nz\n\" clip-path=\"url(#pd3bb76bd1d)\" style=\"fill: #0071bc; stroke: #0071bc; stroke-linejoin: miter\"/>\n   </g>\n   <g id=\"patch_86\">\n    <path d=\"M 278.470575 45924.328468 \nL 281.05769 45924.328468 \nL 281.05769 143.579642 \nL 278.470575 143.579642 \nz\n\" clip-path=\"url(#pd3bb76bd1d)\" style=\"fill: #0071bc; stroke: #0071bc; stroke-linejoin: miter\"/>\n   </g>\n   <g id=\"patch_87\">\n    <path d=\"M 281.05769 45924.328468 \nL 283.644806 45924.328468 \nL 283.644806 155.255068 \nL 281.05769 155.255068 \nz\n\" clip-path=\"url(#pd3bb76bd1d)\" style=\"fill: #0071bc; stroke: #0071bc; stroke-linejoin: miter\"/>\n   </g>\n   <g id=\"patch_88\">\n    <path d=\"M 283.644806 45924.328468 \nL 286.231922 45924.328468 \nL 286.231922 159.687451 \nL 283.644806 159.687451 \nz\n\" clip-path=\"url(#pd3bb76bd1d)\" style=\"fill: #0071bc; stroke: #0071bc; stroke-linejoin: miter\"/>\n   </g>\n   <g id=\"patch_89\">\n    <path d=\"M 286.231922 45924.328468 \nL 288.819037 45924.328468 \nL 288.819037 165.401787 \nL 286.231922 165.401787 \nz\n\" clip-path=\"url(#pd3bb76bd1d)\" style=\"fill: #0071bc; stroke: #0071bc; stroke-linejoin: miter\"/>\n   </g>\n   <g id=\"patch_90\">\n    <path d=\"M 288.819037 45924.328468 \nL 291.406153 45924.328468 \nL 291.406153 165.401787 \nL 288.819037 165.401787 \nz\n\" clip-path=\"url(#pd3bb76bd1d)\" style=\"fill: #0071bc; stroke: #0071bc; stroke-linejoin: miter\"/>\n   </g>\n   <g id=\"patch_91\">\n    <path d=\"M 291.406153 45924.328468 \nL 293.993269 45924.328468 \nL 293.993269 187.223932 \nL 291.406153 187.223932 \nz\n\" clip-path=\"url(#pd3bb76bd1d)\" style=\"fill: #0071bc; stroke: #0071bc; stroke-linejoin: miter\"/>\n   </g>\n   <g id=\"patch_92\">\n    <path d=\"M 293.993269 45924.328468 \nL 296.580385 45924.328468 \nL 296.580385 187.223932 \nL 293.993269 187.223932 \nz\n\" clip-path=\"url(#pd3bb76bd1d)\" style=\"fill: #0071bc; stroke: #0071bc; stroke-linejoin: miter\"/>\n   </g>\n   <g id=\"patch_93\">\n    <path d=\"M 296.580385 45924.328468 \nL 299.1675 45924.328468 \nL 299.1675 173.455691 \nL 296.580385 173.455691 \nz\n\" clip-path=\"url(#pd3bb76bd1d)\" style=\"fill: #0071bc; stroke: #0071bc; stroke-linejoin: miter\"/>\n   </g>\n   <g id=\"patch_94\">\n    <path d=\"M 299.1675 45924.328468 \nL 301.754616 45924.328468 \nL 301.754616 173.455691 \nL 299.1675 173.455691 \nz\n\" clip-path=\"url(#pd3bb76bd1d)\" style=\"fill: #0071bc; stroke: #0071bc; stroke-linejoin: miter\"/>\n   </g>\n   <g id=\"patch_95\">\n    <path d=\"M 301.754616 45924.328468 \nL 304.341732 45924.328468 \nL 304.341732 187.223932 \nL 301.754616 187.223932 \nz\n\" clip-path=\"url(#pd3bb76bd1d)\" style=\"fill: #0071bc; stroke: #0071bc; stroke-linejoin: miter\"/>\n   </g>\n   <g id=\"patch_96\">\n    <path d=\"M 304.341732 45924.328468 \nL 306.928847 45924.328468 \nL 306.928847 45924.328468 \nL 304.341732 45924.328468 \nz\n\" clip-path=\"url(#pd3bb76bd1d)\" style=\"fill: #0071bc; stroke: #0071bc; stroke-linejoin: miter\"/>\n   </g>\n   <g id=\"patch_97\">\n    <path d=\"M 306.928847 45924.328468 \nL 309.515963 45924.328468 \nL 309.515963 187.223932 \nL 306.928847 187.223932 \nz\n\" clip-path=\"url(#pd3bb76bd1d)\" style=\"fill: #0071bc; stroke: #0071bc; stroke-linejoin: miter\"/>\n   </g>\n   <g id=\"patch_98\">\n    <path d=\"M 309.515963 45924.328468 \nL 312.103079 45924.328468 \nL 312.103079 45924.328468 \nL 309.515963 45924.328468 \nz\n\" clip-path=\"url(#pd3bb76bd1d)\" style=\"fill: #0071bc; stroke: #0071bc; stroke-linejoin: miter\"/>\n   </g>\n   <g id=\"patch_99\">\n    <path d=\"M 312.103079 45924.328468 \nL 314.690194 45924.328468 \nL 314.690194 45924.328468 \nL 312.103079 45924.328468 \nz\n\" clip-path=\"url(#pd3bb76bd1d)\" style=\"fill: #0071bc; stroke: #0071bc; stroke-linejoin: miter\"/>\n   </g>\n   <g id=\"patch_100\">\n    <path d=\"M 314.690194 45924.328468 \nL 317.27731 45924.328468 \nL 317.27731 187.223932 \nL 314.690194 187.223932 \nz\n\" clip-path=\"url(#pd3bb76bd1d)\" style=\"fill: #0071bc; stroke: #0071bc; stroke-linejoin: miter\"/>\n   </g>\n   <g id=\"patch_101\">\n    <path d=\"M 317.27731 45924.328468 \nL 319.864426 45924.328468 \nL 319.864426 45924.328468 \nL 317.27731 45924.328468 \nz\n\" clip-path=\"url(#pd3bb76bd1d)\" style=\"fill: #0071bc; stroke: #0071bc; stroke-linejoin: miter\"/>\n   </g>\n   <g id=\"matplotlib.axis_1\">\n    <g id=\"xtick_1\">\n     <g id=\"line2d_1\">\n      <defs>\n       <path id=\"m7572c160f8\" d=\"M 0 0 \nL 0 3.5 \n\" style=\"stroke: #000000; stroke-width: 0.8\"/>\n      </defs>\n      <g>\n       <use xlink:href=\"#m7572c160f8\" x=\"92.198245\" y=\"194.98975\" style=\"stroke: #000000; stroke-width: 0.8\"/>\n      </g>\n     </g>\n     <g id=\"text_1\">\n      <!-- $\\mathdefault{10^{-9}}$ -->\n      <g transform=\"translate(78.098245 211.107875) scale(0.12 -0.12)\">\n       <defs>\n        <path id=\"DejaVuSans-31\" d=\"M 794 531 \nL 1825 531 \nL 1825 4091 \nL 703 3866 \nL 703 4441 \nL 1819 4666 \nL 2450 4666 \nL 2450 531 \nL 3481 531 \nL 3481 0 \nL 794 0 \nL 794 531 \nz\n\" transform=\"scale(0.015625)\"/>\n        <path id=\"DejaVuSans-30\" d=\"M 2034 4250 \nQ 1547 4250 1301 3770 \nQ 1056 3291 1056 2328 \nQ 1056 1369 1301 889 \nQ 1547 409 2034 409 \nQ 2525 409 2770 889 \nQ 3016 1369 3016 2328 \nQ 3016 3291 2770 3770 \nQ 2525 4250 2034 4250 \nz\nM 2034 4750 \nQ 2819 4750 3233 4129 \nQ 3647 3509 3647 2328 \nQ 3647 1150 3233 529 \nQ 2819 -91 2034 -91 \nQ 1250 -91 836 529 \nQ 422 1150 422 2328 \nQ 422 3509 836 4129 \nQ 1250 4750 2034 4750 \nz\n\" transform=\"scale(0.015625)\"/>\n        <path id=\"DejaVuSans-2212\" d=\"M 678 2272 \nL 4684 2272 \nL 4684 1741 \nL 678 1741 \nL 678 2272 \nz\n\" transform=\"scale(0.015625)\"/>\n        <path id=\"DejaVuSans-39\" d=\"M 703 97 \nL 703 672 \nQ 941 559 1184 500 \nQ 1428 441 1663 441 \nQ 2288 441 2617 861 \nQ 2947 1281 2994 2138 \nQ 2813 1869 2534 1725 \nQ 2256 1581 1919 1581 \nQ 1219 1581 811 2004 \nQ 403 2428 403 3163 \nQ 403 3881 828 4315 \nQ 1253 4750 1959 4750 \nQ 2769 4750 3195 4129 \nQ 3622 3509 3622 2328 \nQ 3622 1225 3098 567 \nQ 2575 -91 1691 -91 \nQ 1453 -91 1209 -44 \nQ 966 3 703 97 \nz\nM 1959 2075 \nQ 2384 2075 2632 2365 \nQ 2881 2656 2881 3163 \nQ 2881 3666 2632 3958 \nQ 2384 4250 1959 4250 \nQ 1534 4250 1286 3958 \nQ 1038 3666 1038 3163 \nQ 1038 2656 1286 2365 \nQ 1534 2075 1959 2075 \nz\n\" transform=\"scale(0.015625)\"/>\n       </defs>\n       <use xlink:href=\"#DejaVuSans-31\" transform=\"translate(0 0.765625)\"/>\n       <use xlink:href=\"#DejaVuSans-30\" transform=\"translate(63.623047 0.765625)\"/>\n       <use xlink:href=\"#DejaVuSans-2212\" transform=\"translate(128.203125 39.046875) scale(0.7)\"/>\n       <use xlink:href=\"#DejaVuSans-39\" transform=\"translate(186.855469 39.046875) scale(0.7)\"/>\n      </g>\n     </g>\n    </g>\n    <g id=\"xtick_2\">\n     <g id=\"line2d_2\">\n      <g>\n       <use xlink:href=\"#m7572c160f8\" x=\"149.11479\" y=\"194.98975\" style=\"stroke: #000000; stroke-width: 0.8\"/>\n      </g>\n     </g>\n     <g id=\"text_2\">\n      <!-- $\\mathdefault{10^{-7}}$ -->\n      <g transform=\"translate(135.01479 211.107875) scale(0.12 -0.12)\">\n       <defs>\n        <path id=\"DejaVuSans-37\" d=\"M 525 4666 \nL 3525 4666 \nL 3525 4397 \nL 1831 0 \nL 1172 0 \nL 2766 4134 \nL 525 4134 \nL 525 4666 \nz\n\" transform=\"scale(0.015625)\"/>\n       </defs>\n       <use xlink:href=\"#DejaVuSans-31\" transform=\"translate(0 0.684375)\"/>\n       <use xlink:href=\"#DejaVuSans-30\" transform=\"translate(63.623047 0.684375)\"/>\n       <use xlink:href=\"#DejaVuSans-2212\" transform=\"translate(128.203125 38.965625) scale(0.7)\"/>\n       <use xlink:href=\"#DejaVuSans-37\" transform=\"translate(186.855469 38.965625) scale(0.7)\"/>\n      </g>\n     </g>\n    </g>\n    <g id=\"xtick_3\">\n     <g id=\"line2d_3\">\n      <g>\n       <use xlink:href=\"#m7572c160f8\" x=\"206.031335\" y=\"194.98975\" style=\"stroke: #000000; stroke-width: 0.8\"/>\n      </g>\n     </g>\n     <g id=\"text_3\">\n      <!-- $\\mathdefault{10^{-5}}$ -->\n      <g transform=\"translate(191.931335 211.107875) scale(0.12 -0.12)\">\n       <defs>\n        <path id=\"DejaVuSans-35\" d=\"M 691 4666 \nL 3169 4666 \nL 3169 4134 \nL 1269 4134 \nL 1269 2991 \nQ 1406 3038 1543 3061 \nQ 1681 3084 1819 3084 \nQ 2600 3084 3056 2656 \nQ 3513 2228 3513 1497 \nQ 3513 744 3044 326 \nQ 2575 -91 1722 -91 \nQ 1428 -91 1123 -41 \nQ 819 9 494 109 \nL 494 744 \nQ 775 591 1075 516 \nQ 1375 441 1709 441 \nQ 2250 441 2565 725 \nQ 2881 1009 2881 1497 \nQ 2881 1984 2565 2268 \nQ 2250 2553 1709 2553 \nQ 1456 2553 1204 2497 \nQ 953 2441 691 2322 \nL 691 4666 \nz\n\" transform=\"scale(0.015625)\"/>\n       </defs>\n       <use xlink:href=\"#DejaVuSans-31\" transform=\"translate(0 0.684375)\"/>\n       <use xlink:href=\"#DejaVuSans-30\" transform=\"translate(63.623047 0.684375)\"/>\n       <use xlink:href=\"#DejaVuSans-2212\" transform=\"translate(128.203125 38.965625) scale(0.7)\"/>\n       <use xlink:href=\"#DejaVuSans-35\" transform=\"translate(186.855469 38.965625) scale(0.7)\"/>\n      </g>\n     </g>\n    </g>\n    <g id=\"xtick_4\">\n     <g id=\"line2d_4\">\n      <g>\n       <use xlink:href=\"#m7572c160f8\" x=\"262.947881\" y=\"194.98975\" style=\"stroke: #000000; stroke-width: 0.8\"/>\n      </g>\n     </g>\n     <g id=\"text_4\">\n      <!-- $\\mathdefault{10^{-3}}$ -->\n      <g transform=\"translate(248.847881 211.107875) scale(0.12 -0.12)\">\n       <defs>\n        <path id=\"DejaVuSans-33\" d=\"M 2597 2516 \nQ 3050 2419 3304 2112 \nQ 3559 1806 3559 1356 \nQ 3559 666 3084 287 \nQ 2609 -91 1734 -91 \nQ 1441 -91 1130 -33 \nQ 819 25 488 141 \nL 488 750 \nQ 750 597 1062 519 \nQ 1375 441 1716 441 \nQ 2309 441 2620 675 \nQ 2931 909 2931 1356 \nQ 2931 1769 2642 2001 \nQ 2353 2234 1838 2234 \nL 1294 2234 \nL 1294 2753 \nL 1863 2753 \nQ 2328 2753 2575 2939 \nQ 2822 3125 2822 3475 \nQ 2822 3834 2567 4026 \nQ 2313 4219 1838 4219 \nQ 1578 4219 1281 4162 \nQ 984 4106 628 3988 \nL 628 4550 \nQ 988 4650 1302 4700 \nQ 1616 4750 1894 4750 \nQ 2613 4750 3031 4423 \nQ 3450 4097 3450 3541 \nQ 3450 3153 3228 2886 \nQ 3006 2619 2597 2516 \nz\n\" transform=\"scale(0.015625)\"/>\n       </defs>\n       <use xlink:href=\"#DejaVuSans-31\" transform=\"translate(0 0.765625)\"/>\n       <use xlink:href=\"#DejaVuSans-30\" transform=\"translate(63.623047 0.765625)\"/>\n       <use xlink:href=\"#DejaVuSans-2212\" transform=\"translate(128.203125 39.046875) scale(0.7)\"/>\n       <use xlink:href=\"#DejaVuSans-33\" transform=\"translate(186.855469 39.046875) scale(0.7)\"/>\n      </g>\n     </g>\n    </g>\n    <g id=\"xtick_5\">\n     <g id=\"line2d_5\">\n      <g>\n       <use xlink:href=\"#m7572c160f8\" x=\"319.864426\" y=\"194.98975\" style=\"stroke: #000000; stroke-width: 0.8\"/>\n      </g>\n     </g>\n     <g id=\"text_5\">\n      <!-- $\\mathdefault{10^{-1}}$ -->\n      <g transform=\"translate(305.764426 211.107875) scale(0.12 -0.12)\">\n       <use xlink:href=\"#DejaVuSans-31\" transform=\"translate(0 0.684375)\"/>\n       <use xlink:href=\"#DejaVuSans-30\" transform=\"translate(63.623047 0.684375)\"/>\n       <use xlink:href=\"#DejaVuSans-2212\" transform=\"translate(128.203125 38.965625) scale(0.7)\"/>\n       <use xlink:href=\"#DejaVuSans-31\" transform=\"translate(186.855469 38.965625) scale(0.7)\"/>\n      </g>\n     </g>\n    </g>\n    <g id=\"text_6\">\n     <!-- Probability -->\n     <g transform=\"translate(160.087512 226.721625) scale(0.12 -0.12)\">\n      <defs>\n       <path id=\"DejaVuSans-50\" d=\"M 1259 4147 \nL 1259 2394 \nL 2053 2394 \nQ 2494 2394 2734 2622 \nQ 2975 2850 2975 3272 \nQ 2975 3691 2734 3919 \nQ 2494 4147 2053 4147 \nL 1259 4147 \nz\nM 628 4666 \nL 2053 4666 \nQ 2838 4666 3239 4311 \nQ 3641 3956 3641 3272 \nQ 3641 2581 3239 2228 \nQ 2838 1875 2053 1875 \nL 1259 1875 \nL 1259 0 \nL 628 0 \nL 628 4666 \nz\n\" transform=\"scale(0.015625)\"/>\n       <path id=\"DejaVuSans-72\" d=\"M 2631 2963 \nQ 2534 3019 2420 3045 \nQ 2306 3072 2169 3072 \nQ 1681 3072 1420 2755 \nQ 1159 2438 1159 1844 \nL 1159 0 \nL 581 0 \nL 581 3500 \nL 1159 3500 \nL 1159 2956 \nQ 1341 3275 1631 3429 \nQ 1922 3584 2338 3584 \nQ 2397 3584 2469 3576 \nQ 2541 3569 2628 3553 \nL 2631 2963 \nz\n\" transform=\"scale(0.015625)\"/>\n       <path id=\"DejaVuSans-6f\" d=\"M 1959 3097 \nQ 1497 3097 1228 2736 \nQ 959 2375 959 1747 \nQ 959 1119 1226 758 \nQ 1494 397 1959 397 \nQ 2419 397 2687 759 \nQ 2956 1122 2956 1747 \nQ 2956 2369 2687 2733 \nQ 2419 3097 1959 3097 \nz\nM 1959 3584 \nQ 2709 3584 3137 3096 \nQ 3566 2609 3566 1747 \nQ 3566 888 3137 398 \nQ 2709 -91 1959 -91 \nQ 1206 -91 779 398 \nQ 353 888 353 1747 \nQ 353 2609 779 3096 \nQ 1206 3584 1959 3584 \nz\n\" transform=\"scale(0.015625)\"/>\n       <path id=\"DejaVuSans-62\" d=\"M 3116 1747 \nQ 3116 2381 2855 2742 \nQ 2594 3103 2138 3103 \nQ 1681 3103 1420 2742 \nQ 1159 2381 1159 1747 \nQ 1159 1113 1420 752 \nQ 1681 391 2138 391 \nQ 2594 391 2855 752 \nQ 3116 1113 3116 1747 \nz\nM 1159 2969 \nQ 1341 3281 1617 3432 \nQ 1894 3584 2278 3584 \nQ 2916 3584 3314 3078 \nQ 3713 2572 3713 1747 \nQ 3713 922 3314 415 \nQ 2916 -91 2278 -91 \nQ 1894 -91 1617 61 \nQ 1341 213 1159 525 \nL 1159 0 \nL 581 0 \nL 581 4863 \nL 1159 4863 \nL 1159 2969 \nz\n\" transform=\"scale(0.015625)\"/>\n       <path id=\"DejaVuSans-61\" d=\"M 2194 1759 \nQ 1497 1759 1228 1600 \nQ 959 1441 959 1056 \nQ 959 750 1161 570 \nQ 1363 391 1709 391 \nQ 2188 391 2477 730 \nQ 2766 1069 2766 1631 \nL 2766 1759 \nL 2194 1759 \nz\nM 3341 1997 \nL 3341 0 \nL 2766 0 \nL 2766 531 \nQ 2569 213 2275 61 \nQ 1981 -91 1556 -91 \nQ 1019 -91 701 211 \nQ 384 513 384 1019 \nQ 384 1609 779 1909 \nQ 1175 2209 1959 2209 \nL 2766 2209 \nL 2766 2266 \nQ 2766 2663 2505 2880 \nQ 2244 3097 1772 3097 \nQ 1472 3097 1187 3025 \nQ 903 2953 641 2809 \nL 641 3341 \nQ 956 3463 1253 3523 \nQ 1550 3584 1831 3584 \nQ 2591 3584 2966 3190 \nQ 3341 2797 3341 1997 \nz\n\" transform=\"scale(0.015625)\"/>\n       <path id=\"DejaVuSans-69\" d=\"M 603 3500 \nL 1178 3500 \nL 1178 0 \nL 603 0 \nL 603 3500 \nz\nM 603 4863 \nL 1178 4863 \nL 1178 4134 \nL 603 4134 \nL 603 4863 \nz\n\" transform=\"scale(0.015625)\"/>\n       <path id=\"DejaVuSans-6c\" d=\"M 603 4863 \nL 1178 4863 \nL 1178 0 \nL 603 0 \nL 603 4863 \nz\n\" transform=\"scale(0.015625)\"/>\n       <path id=\"DejaVuSans-74\" d=\"M 1172 4494 \nL 1172 3500 \nL 2356 3500 \nL 2356 3053 \nL 1172 3053 \nL 1172 1153 \nQ 1172 725 1289 603 \nQ 1406 481 1766 481 \nL 2356 481 \nL 2356 0 \nL 1766 0 \nQ 1100 0 847 248 \nQ 594 497 594 1153 \nL 594 3053 \nL 172 3053 \nL 172 3500 \nL 594 3500 \nL 594 4494 \nL 1172 4494 \nz\n\" transform=\"scale(0.015625)\"/>\n       <path id=\"DejaVuSans-79\" d=\"M 2059 -325 \nQ 1816 -950 1584 -1140 \nQ 1353 -1331 966 -1331 \nL 506 -1331 \nL 506 -850 \nL 844 -850 \nQ 1081 -850 1212 -737 \nQ 1344 -625 1503 -206 \nL 1606 56 \nL 191 3500 \nL 800 3500 \nL 1894 763 \nL 2988 3500 \nL 3597 3500 \nL 2059 -325 \nz\n\" transform=\"scale(0.015625)\"/>\n      </defs>\n      <use xlink:href=\"#DejaVuSans-50\"/>\n      <use xlink:href=\"#DejaVuSans-72\" x=\"58.552734\"/>\n      <use xlink:href=\"#DejaVuSans-6f\" x=\"97.416016\"/>\n      <use xlink:href=\"#DejaVuSans-62\" x=\"158.597656\"/>\n      <use xlink:href=\"#DejaVuSans-61\" x=\"222.074219\"/>\n      <use xlink:href=\"#DejaVuSans-62\" x=\"283.353516\"/>\n      <use xlink:href=\"#DejaVuSans-69\" x=\"346.830078\"/>\n      <use xlink:href=\"#DejaVuSans-6c\" x=\"374.613281\"/>\n      <use xlink:href=\"#DejaVuSans-69\" x=\"402.396484\"/>\n      <use xlink:href=\"#DejaVuSans-74\" x=\"430.179688\"/>\n      <use xlink:href=\"#DejaVuSans-79\" x=\"469.388672\"/>\n     </g>\n    </g>\n   </g>\n   <g id=\"matplotlib.axis_2\">\n    <g id=\"ytick_1\">\n     <g id=\"line2d_6\">\n      <defs>\n       <path id=\"m26ca0c3276\" d=\"M 0 0 \nL -3.5 0 \n\" style=\"stroke: #000000; stroke-width: 0.8\"/>\n      </defs>\n      <g>\n       <use xlink:href=\"#m26ca0c3276\" x=\"50.93375\" y=\"187.223932\" style=\"stroke: #000000; stroke-width: 0.8\"/>\n      </g>\n     </g>\n     <g id=\"text_7\">\n      <!-- $\\mathdefault{10^{0}}$ -->\n      <g transform=\"translate(22.81375 191.782994) scale(0.12 -0.12)\">\n       <use xlink:href=\"#DejaVuSans-31\" transform=\"translate(0 0.765625)\"/>\n       <use xlink:href=\"#DejaVuSans-30\" transform=\"translate(63.623047 0.765625)\"/>\n       <use xlink:href=\"#DejaVuSans-30\" transform=\"translate(128.203125 39.046875) scale(0.7)\"/>\n      </g>\n     </g>\n    </g>\n    <g id=\"ytick_2\">\n     <g id=\"line2d_7\">\n      <g>\n       <use xlink:href=\"#m26ca0c3276\" x=\"50.93375\" y=\"141.486827\" style=\"stroke: #000000; stroke-width: 0.8\"/>\n      </g>\n     </g>\n     <g id=\"text_8\">\n      <!-- $\\mathdefault{10^{1}}$ -->\n      <g transform=\"translate(22.81375 146.04589) scale(0.12 -0.12)\">\n       <use xlink:href=\"#DejaVuSans-31\" transform=\"translate(0 0.684375)\"/>\n       <use xlink:href=\"#DejaVuSans-30\" transform=\"translate(63.623047 0.684375)\"/>\n       <use xlink:href=\"#DejaVuSans-31\" transform=\"translate(128.203125 38.965625) scale(0.7)\"/>\n      </g>\n     </g>\n    </g>\n    <g id=\"ytick_3\">\n     <g id=\"line2d_8\">\n      <g>\n       <use xlink:href=\"#m26ca0c3276\" x=\"50.93375\" y=\"95.749723\" style=\"stroke: #000000; stroke-width: 0.8\"/>\n      </g>\n     </g>\n     <g id=\"text_9\">\n      <!-- $\\mathdefault{10^{2}}$ -->\n      <g transform=\"translate(22.81375 100.308785) scale(0.12 -0.12)\">\n       <defs>\n        <path id=\"DejaVuSans-32\" d=\"M 1228 531 \nL 3431 531 \nL 3431 0 \nL 469 0 \nL 469 531 \nQ 828 903 1448 1529 \nQ 2069 2156 2228 2338 \nQ 2531 2678 2651 2914 \nQ 2772 3150 2772 3378 \nQ 2772 3750 2511 3984 \nQ 2250 4219 1831 4219 \nQ 1534 4219 1204 4116 \nQ 875 4013 500 3803 \nL 500 4441 \nQ 881 4594 1212 4672 \nQ 1544 4750 1819 4750 \nQ 2544 4750 2975 4387 \nQ 3406 4025 3406 3419 \nQ 3406 3131 3298 2873 \nQ 3191 2616 2906 2266 \nQ 2828 2175 2409 1742 \nQ 1991 1309 1228 531 \nz\n\" transform=\"scale(0.015625)\"/>\n       </defs>\n       <use xlink:href=\"#DejaVuSans-31\" transform=\"translate(0 0.765625)\"/>\n       <use xlink:href=\"#DejaVuSans-30\" transform=\"translate(63.623047 0.765625)\"/>\n       <use xlink:href=\"#DejaVuSans-32\" transform=\"translate(128.203125 39.046875) scale(0.7)\"/>\n      </g>\n     </g>\n    </g>\n    <g id=\"ytick_4\">\n     <g id=\"line2d_9\">\n      <g>\n       <use xlink:href=\"#m26ca0c3276\" x=\"50.93375\" y=\"50.012618\" style=\"stroke: #000000; stroke-width: 0.8\"/>\n      </g>\n     </g>\n     <g id=\"text_10\">\n      <!-- $\\mathdefault{10^{3}}$ -->\n      <g transform=\"translate(22.81375 54.571681) scale(0.12 -0.12)\">\n       <use xlink:href=\"#DejaVuSans-31\" transform=\"translate(0 0.765625)\"/>\n       <use xlink:href=\"#DejaVuSans-30\" transform=\"translate(63.623047 0.765625)\"/>\n       <use xlink:href=\"#DejaVuSans-33\" transform=\"translate(128.203125 39.046875) scale(0.7)\"/>\n      </g>\n     </g>\n    </g>\n    <g id=\"ytick_5\">\n     <g id=\"line2d_10\">\n      <defs>\n       <path id=\"md841db9f40\" d=\"M 0 0 \nL -2 0 \n\" style=\"stroke: #000000; stroke-width: 0.6\"/>\n      </defs>\n      <g>\n       <use xlink:href=\"#md841db9f40\" x=\"50.93375\" y=\"194.308699\" style=\"stroke: #000000; stroke-width: 0.6\"/>\n      </g>\n     </g>\n    </g>\n    <g id=\"ytick_6\">\n     <g id=\"line2d_11\">\n      <g>\n       <use xlink:href=\"#md841db9f40\" x=\"50.93375\" y=\"191.656315\" style=\"stroke: #000000; stroke-width: 0.6\"/>\n      </g>\n     </g>\n    </g>\n    <g id=\"ytick_7\">\n     <g id=\"line2d_12\">\n      <g>\n       <use xlink:href=\"#md841db9f40\" x=\"50.93375\" y=\"189.316747\" style=\"stroke: #000000; stroke-width: 0.6\"/>\n      </g>\n     </g>\n    </g>\n    <g id=\"ytick_8\">\n     <g id=\"line2d_13\">\n      <g>\n       <use xlink:href=\"#md841db9f40\" x=\"50.93375\" y=\"173.455691\" style=\"stroke: #000000; stroke-width: 0.6\"/>\n      </g>\n     </g>\n    </g>\n    <g id=\"ytick_9\">\n     <g id=\"line2d_14\">\n      <g>\n       <use xlink:href=\"#md841db9f40\" x=\"50.93375\" y=\"165.401787\" style=\"stroke: #000000; stroke-width: 0.6\"/>\n      </g>\n     </g>\n    </g>\n    <g id=\"ytick_10\">\n     <g id=\"line2d_15\">\n      <g>\n       <use xlink:href=\"#md841db9f40\" x=\"50.93375\" y=\"159.687451\" style=\"stroke: #000000; stroke-width: 0.6\"/>\n      </g>\n     </g>\n    </g>\n    <g id=\"ytick_11\">\n     <g id=\"line2d_16\">\n      <g>\n       <use xlink:href=\"#md841db9f40\" x=\"50.93375\" y=\"155.255068\" style=\"stroke: #000000; stroke-width: 0.6\"/>\n      </g>\n     </g>\n    </g>\n    <g id=\"ytick_12\">\n     <g id=\"line2d_17\">\n      <g>\n       <use xlink:href=\"#md841db9f40\" x=\"50.93375\" y=\"151.633547\" style=\"stroke: #000000; stroke-width: 0.6\"/>\n      </g>\n     </g>\n    </g>\n    <g id=\"ytick_13\">\n     <g id=\"line2d_18\">\n      <g>\n       <use xlink:href=\"#md841db9f40\" x=\"50.93375\" y=\"148.571594\" style=\"stroke: #000000; stroke-width: 0.6\"/>\n      </g>\n     </g>\n    </g>\n    <g id=\"ytick_14\">\n     <g id=\"line2d_19\">\n      <g>\n       <use xlink:href=\"#md841db9f40\" x=\"50.93375\" y=\"145.919211\" style=\"stroke: #000000; stroke-width: 0.6\"/>\n      </g>\n     </g>\n    </g>\n    <g id=\"ytick_15\">\n     <g id=\"line2d_20\">\n      <g>\n       <use xlink:href=\"#md841db9f40\" x=\"50.93375\" y=\"143.579642\" style=\"stroke: #000000; stroke-width: 0.6\"/>\n      </g>\n     </g>\n    </g>\n    <g id=\"ytick_16\">\n     <g id=\"line2d_21\">\n      <g>\n       <use xlink:href=\"#md841db9f40\" x=\"50.93375\" y=\"127.718587\" style=\"stroke: #000000; stroke-width: 0.6\"/>\n      </g>\n     </g>\n    </g>\n    <g id=\"ytick_17\">\n     <g id=\"line2d_22\">\n      <g>\n       <use xlink:href=\"#md841db9f40\" x=\"50.93375\" y=\"119.664683\" style=\"stroke: #000000; stroke-width: 0.6\"/>\n      </g>\n     </g>\n    </g>\n    <g id=\"ytick_18\">\n     <g id=\"line2d_23\">\n      <g>\n       <use xlink:href=\"#md841db9f40\" x=\"50.93375\" y=\"113.950347\" style=\"stroke: #000000; stroke-width: 0.6\"/>\n      </g>\n     </g>\n    </g>\n    <g id=\"ytick_19\">\n     <g id=\"line2d_24\">\n      <g>\n       <use xlink:href=\"#md841db9f40\" x=\"50.93375\" y=\"109.517963\" style=\"stroke: #000000; stroke-width: 0.6\"/>\n      </g>\n     </g>\n    </g>\n    <g id=\"ytick_20\">\n     <g id=\"line2d_25\">\n      <g>\n       <use xlink:href=\"#md841db9f40\" x=\"50.93375\" y=\"105.896442\" style=\"stroke: #000000; stroke-width: 0.6\"/>\n      </g>\n     </g>\n    </g>\n    <g id=\"ytick_21\">\n     <g id=\"line2d_26\">\n      <g>\n       <use xlink:href=\"#md841db9f40\" x=\"50.93375\" y=\"102.83449\" style=\"stroke: #000000; stroke-width: 0.6\"/>\n      </g>\n     </g>\n    </g>\n    <g id=\"ytick_22\">\n     <g id=\"line2d_27\">\n      <g>\n       <use xlink:href=\"#md841db9f40\" x=\"50.93375\" y=\"100.182106\" style=\"stroke: #000000; stroke-width: 0.6\"/>\n      </g>\n     </g>\n    </g>\n    <g id=\"ytick_23\">\n     <g id=\"line2d_28\">\n      <g>\n       <use xlink:href=\"#md841db9f40\" x=\"50.93375\" y=\"97.842538\" style=\"stroke: #000000; stroke-width: 0.6\"/>\n      </g>\n     </g>\n    </g>\n    <g id=\"ytick_24\">\n     <g id=\"line2d_29\">\n      <g>\n       <use xlink:href=\"#md841db9f40\" x=\"50.93375\" y=\"81.981482\" style=\"stroke: #000000; stroke-width: 0.6\"/>\n      </g>\n     </g>\n    </g>\n    <g id=\"ytick_25\">\n     <g id=\"line2d_30\">\n      <g>\n       <use xlink:href=\"#md841db9f40\" x=\"50.93375\" y=\"73.927578\" style=\"stroke: #000000; stroke-width: 0.6\"/>\n      </g>\n     </g>\n    </g>\n    <g id=\"ytick_26\">\n     <g id=\"line2d_31\">\n      <g>\n       <use xlink:href=\"#md841db9f40\" x=\"50.93375\" y=\"68.213242\" style=\"stroke: #000000; stroke-width: 0.6\"/>\n      </g>\n     </g>\n    </g>\n    <g id=\"ytick_27\">\n     <g id=\"line2d_32\">\n      <g>\n       <use xlink:href=\"#md841db9f40\" x=\"50.93375\" y=\"63.780859\" style=\"stroke: #000000; stroke-width: 0.6\"/>\n      </g>\n     </g>\n    </g>\n    <g id=\"ytick_28\">\n     <g id=\"line2d_33\">\n      <g>\n       <use xlink:href=\"#md841db9f40\" x=\"50.93375\" y=\"60.159338\" style=\"stroke: #000000; stroke-width: 0.6\"/>\n      </g>\n     </g>\n    </g>\n    <g id=\"ytick_29\">\n     <g id=\"line2d_34\">\n      <g>\n       <use xlink:href=\"#md841db9f40\" x=\"50.93375\" y=\"57.097385\" style=\"stroke: #000000; stroke-width: 0.6\"/>\n      </g>\n     </g>\n    </g>\n    <g id=\"ytick_30\">\n     <g id=\"line2d_35\">\n      <g>\n       <use xlink:href=\"#md841db9f40\" x=\"50.93375\" y=\"54.445002\" style=\"stroke: #000000; stroke-width: 0.6\"/>\n      </g>\n     </g>\n    </g>\n    <g id=\"ytick_31\">\n     <g id=\"line2d_36\">\n      <g>\n       <use xlink:href=\"#md841db9f40\" x=\"50.93375\" y=\"52.105433\" style=\"stroke: #000000; stroke-width: 0.6\"/>\n      </g>\n     </g>\n    </g>\n    <g id=\"ytick_32\">\n     <g id=\"line2d_37\">\n      <g>\n       <use xlink:href=\"#md841db9f40\" x=\"50.93375\" y=\"36.244378\" style=\"stroke: #000000; stroke-width: 0.6\"/>\n      </g>\n     </g>\n    </g>\n    <g id=\"ytick_33\">\n     <g id=\"line2d_38\">\n      <g>\n       <use xlink:href=\"#md841db9f40\" x=\"50.93375\" y=\"28.190474\" style=\"stroke: #000000; stroke-width: 0.6\"/>\n      </g>\n     </g>\n    </g>\n    <g id=\"text_11\">\n     <!-- Count -->\n     <g transform=\"translate(16.318125 127.383875) rotate(-90) scale(0.12 -0.12)\">\n      <defs>\n       <path id=\"DejaVuSans-43\" d=\"M 4122 4306 \nL 4122 3641 \nQ 3803 3938 3442 4084 \nQ 3081 4231 2675 4231 \nQ 1875 4231 1450 3742 \nQ 1025 3253 1025 2328 \nQ 1025 1406 1450 917 \nQ 1875 428 2675 428 \nQ 3081 428 3442 575 \nQ 3803 722 4122 1019 \nL 4122 359 \nQ 3791 134 3420 21 \nQ 3050 -91 2638 -91 \nQ 1578 -91 968 557 \nQ 359 1206 359 2328 \nQ 359 3453 968 4101 \nQ 1578 4750 2638 4750 \nQ 3056 4750 3426 4639 \nQ 3797 4528 4122 4306 \nz\n\" transform=\"scale(0.015625)\"/>\n       <path id=\"DejaVuSans-75\" d=\"M 544 1381 \nL 544 3500 \nL 1119 3500 \nL 1119 1403 \nQ 1119 906 1312 657 \nQ 1506 409 1894 409 \nQ 2359 409 2629 706 \nQ 2900 1003 2900 1516 \nL 2900 3500 \nL 3475 3500 \nL 3475 0 \nL 2900 0 \nL 2900 538 \nQ 2691 219 2414 64 \nQ 2138 -91 1772 -91 \nQ 1169 -91 856 284 \nQ 544 659 544 1381 \nz\nM 1991 3584 \nL 1991 3584 \nz\n\" transform=\"scale(0.015625)\"/>\n       <path id=\"DejaVuSans-6e\" d=\"M 3513 2113 \nL 3513 0 \nL 2938 0 \nL 2938 2094 \nQ 2938 2591 2744 2837 \nQ 2550 3084 2163 3084 \nQ 1697 3084 1428 2787 \nQ 1159 2491 1159 1978 \nL 1159 0 \nL 581 0 \nL 581 3500 \nL 1159 3500 \nL 1159 2956 \nQ 1366 3272 1645 3428 \nQ 1925 3584 2291 3584 \nQ 2894 3584 3203 3211 \nQ 3513 2838 3513 2113 \nz\n\" transform=\"scale(0.015625)\"/>\n      </defs>\n      <use xlink:href=\"#DejaVuSans-43\"/>\n      <use xlink:href=\"#DejaVuSans-6f\" x=\"69.824219\"/>\n      <use xlink:href=\"#DejaVuSans-75\" x=\"131.005859\"/>\n      <use xlink:href=\"#DejaVuSans-6e\" x=\"194.384766\"/>\n      <use xlink:href=\"#DejaVuSans-74\" x=\"257.763672\"/>\n     </g>\n    </g>\n   </g>\n   <g id=\"patch_102\">\n    <path d=\"M 50.93375 194.98975 \nL 50.93375 24.14175 \n\" style=\"fill: none; stroke: #000000; stroke-width: 0.8; stroke-linejoin: miter; stroke-linecap: square\"/>\n   </g>\n   <g id=\"patch_103\">\n    <path d=\"M 332.670648 194.98975 \nL 332.670648 24.14175 \n\" style=\"fill: none; stroke: #000000; stroke-width: 0.8; stroke-linejoin: miter; stroke-linecap: square\"/>\n   </g>\n   <g id=\"patch_104\">\n    <path d=\"M 50.93375 194.98975 \nL 332.670648 194.98975 \n\" style=\"fill: none; stroke: #000000; stroke-width: 0.8; stroke-linejoin: miter; stroke-linecap: square\"/>\n   </g>\n   <g id=\"patch_105\">\n    <path d=\"M 50.93375 24.14175 \nL 332.670648 24.14175 \n\" style=\"fill: none; stroke: #000000; stroke-width: 0.8; stroke-linejoin: miter; stroke-linecap: square\"/>\n   </g>\n   <g id=\"text_12\">\n    <!-- Probability distribution -->\n    <g transform=\"translate(110.426449 18.14175) scale(0.144 -0.144)\">\n     <defs>\n      <path id=\"DejaVuSans-20\" transform=\"scale(0.015625)\"/>\n      <path id=\"DejaVuSans-64\" d=\"M 2906 2969 \nL 2906 4863 \nL 3481 4863 \nL 3481 0 \nL 2906 0 \nL 2906 525 \nQ 2725 213 2448 61 \nQ 2172 -91 1784 -91 \nQ 1150 -91 751 415 \nQ 353 922 353 1747 \nQ 353 2572 751 3078 \nQ 1150 3584 1784 3584 \nQ 2172 3584 2448 3432 \nQ 2725 3281 2906 2969 \nz\nM 947 1747 \nQ 947 1113 1208 752 \nQ 1469 391 1925 391 \nQ 2381 391 2643 752 \nQ 2906 1113 2906 1747 \nQ 2906 2381 2643 2742 \nQ 2381 3103 1925 3103 \nQ 1469 3103 1208 2742 \nQ 947 2381 947 1747 \nz\n\" transform=\"scale(0.015625)\"/>\n      <path id=\"DejaVuSans-73\" d=\"M 2834 3397 \nL 2834 2853 \nQ 2591 2978 2328 3040 \nQ 2066 3103 1784 3103 \nQ 1356 3103 1142 2972 \nQ 928 2841 928 2578 \nQ 928 2378 1081 2264 \nQ 1234 2150 1697 2047 \nL 1894 2003 \nQ 2506 1872 2764 1633 \nQ 3022 1394 3022 966 \nQ 3022 478 2636 193 \nQ 2250 -91 1575 -91 \nQ 1294 -91 989 -36 \nQ 684 19 347 128 \nL 347 722 \nQ 666 556 975 473 \nQ 1284 391 1588 391 \nQ 1994 391 2212 530 \nQ 2431 669 2431 922 \nQ 2431 1156 2273 1281 \nQ 2116 1406 1581 1522 \nL 1381 1569 \nQ 847 1681 609 1914 \nQ 372 2147 372 2553 \nQ 372 3047 722 3315 \nQ 1072 3584 1716 3584 \nQ 2034 3584 2315 3537 \nQ 2597 3491 2834 3397 \nz\n\" transform=\"scale(0.015625)\"/>\n     </defs>\n     <use xlink:href=\"#DejaVuSans-50\"/>\n     <use xlink:href=\"#DejaVuSans-72\" x=\"58.552734\"/>\n     <use xlink:href=\"#DejaVuSans-6f\" x=\"97.416016\"/>\n     <use xlink:href=\"#DejaVuSans-62\" x=\"158.597656\"/>\n     <use xlink:href=\"#DejaVuSans-61\" x=\"222.074219\"/>\n     <use xlink:href=\"#DejaVuSans-62\" x=\"283.353516\"/>\n     <use xlink:href=\"#DejaVuSans-69\" x=\"346.830078\"/>\n     <use xlink:href=\"#DejaVuSans-6c\" x=\"374.613281\"/>\n     <use xlink:href=\"#DejaVuSans-69\" x=\"402.396484\"/>\n     <use xlink:href=\"#DejaVuSans-74\" x=\"430.179688\"/>\n     <use xlink:href=\"#DejaVuSans-79\" x=\"469.388672\"/>\n     <use xlink:href=\"#DejaVuSans-20\" x=\"528.568359\"/>\n     <use xlink:href=\"#DejaVuSans-64\" x=\"560.355469\"/>\n     <use xlink:href=\"#DejaVuSans-69\" x=\"623.832031\"/>\n     <use xlink:href=\"#DejaVuSans-73\" x=\"651.615234\"/>\n     <use xlink:href=\"#DejaVuSans-74\" x=\"703.714844\"/>\n     <use xlink:href=\"#DejaVuSans-72\" x=\"742.923828\"/>\n     <use xlink:href=\"#DejaVuSans-69\" x=\"784.037109\"/>\n     <use xlink:href=\"#DejaVuSans-62\" x=\"811.820312\"/>\n     <use xlink:href=\"#DejaVuSans-75\" x=\"875.296875\"/>\n     <use xlink:href=\"#DejaVuSans-74\" x=\"938.675781\"/>\n     <use xlink:href=\"#DejaVuSans-69\" x=\"977.884766\"/>\n     <use xlink:href=\"#DejaVuSans-6f\" x=\"1005.667969\"/>\n     <use xlink:href=\"#DejaVuSans-6e\" x=\"1066.849609\"/>\n    </g>\n   </g>\n  </g>\n  <g id=\"axes_2\">\n   <g id=\"patch_106\">\n    <path d=\"M 398.815744 194.98975 \nL 680.552643 194.98975 \nL 680.552643 24.14175 \nL 398.815744 24.14175 \nz\n\" style=\"fill: #ffffff\"/>\n   </g>\n   <g id=\"matplotlib.axis_3\">\n    <g id=\"xtick_6\">\n     <g id=\"line2d_39\">\n      <g>\n       <use xlink:href=\"#m7572c160f8\" x=\"398.815744\" y=\"194.98975\" style=\"stroke: #000000; stroke-width: 0.8\"/>\n      </g>\n     </g>\n     <g id=\"text_13\">\n      <!-- 0 -->\n      <g transform=\"translate(394.998244 211.107875) scale(0.12 -0.12)\">\n       <use xlink:href=\"#DejaVuSans-30\"/>\n      </g>\n     </g>\n    </g>\n    <g id=\"xtick_7\">\n     <g id=\"line2d_40\">\n      <g>\n       <use xlink:href=\"#m7572c160f8\" x=\"455.163124\" y=\"194.98975\" style=\"stroke: #000000; stroke-width: 0.8\"/>\n      </g>\n     </g>\n     <g id=\"text_14\">\n      <!-- 2000 -->\n      <g transform=\"translate(439.893124 211.107875) scale(0.12 -0.12)\">\n       <use xlink:href=\"#DejaVuSans-32\"/>\n       <use xlink:href=\"#DejaVuSans-30\" x=\"63.623047\"/>\n       <use xlink:href=\"#DejaVuSans-30\" x=\"127.246094\"/>\n       <use xlink:href=\"#DejaVuSans-30\" x=\"190.869141\"/>\n      </g>\n     </g>\n    </g>\n    <g id=\"xtick_8\">\n     <g id=\"line2d_41\">\n      <g>\n       <use xlink:href=\"#m7572c160f8\" x=\"511.510504\" y=\"194.98975\" style=\"stroke: #000000; stroke-width: 0.8\"/>\n      </g>\n     </g>\n     <g id=\"text_15\">\n      <!-- 4000 -->\n      <g transform=\"translate(496.240504 211.107875) scale(0.12 -0.12)\">\n       <defs>\n        <path id=\"DejaVuSans-34\" d=\"M 2419 4116 \nL 825 1625 \nL 2419 1625 \nL 2419 4116 \nz\nM 2253 4666 \nL 3047 4666 \nL 3047 1625 \nL 3713 1625 \nL 3713 1100 \nL 3047 1100 \nL 3047 0 \nL 2419 0 \nL 2419 1100 \nL 313 1100 \nL 313 1709 \nL 2253 4666 \nz\n\" transform=\"scale(0.015625)\"/>\n       </defs>\n       <use xlink:href=\"#DejaVuSans-34\"/>\n       <use xlink:href=\"#DejaVuSans-30\" x=\"63.623047\"/>\n       <use xlink:href=\"#DejaVuSans-30\" x=\"127.246094\"/>\n       <use xlink:href=\"#DejaVuSans-30\" x=\"190.869141\"/>\n      </g>\n     </g>\n    </g>\n    <g id=\"xtick_9\">\n     <g id=\"line2d_42\">\n      <g>\n       <use xlink:href=\"#m7572c160f8\" x=\"567.857883\" y=\"194.98975\" style=\"stroke: #000000; stroke-width: 0.8\"/>\n      </g>\n     </g>\n     <g id=\"text_16\">\n      <!-- 6000 -->\n      <g transform=\"translate(552.587883 211.107875) scale(0.12 -0.12)\">\n       <defs>\n        <path id=\"DejaVuSans-36\" d=\"M 2113 2584 \nQ 1688 2584 1439 2293 \nQ 1191 2003 1191 1497 \nQ 1191 994 1439 701 \nQ 1688 409 2113 409 \nQ 2538 409 2786 701 \nQ 3034 994 3034 1497 \nQ 3034 2003 2786 2293 \nQ 2538 2584 2113 2584 \nz\nM 3366 4563 \nL 3366 3988 \nQ 3128 4100 2886 4159 \nQ 2644 4219 2406 4219 \nQ 1781 4219 1451 3797 \nQ 1122 3375 1075 2522 \nQ 1259 2794 1537 2939 \nQ 1816 3084 2150 3084 \nQ 2853 3084 3261 2657 \nQ 3669 2231 3669 1497 \nQ 3669 778 3244 343 \nQ 2819 -91 2113 -91 \nQ 1303 -91 875 529 \nQ 447 1150 447 2328 \nQ 447 3434 972 4092 \nQ 1497 4750 2381 4750 \nQ 2619 4750 2861 4703 \nQ 3103 4656 3366 4563 \nz\n\" transform=\"scale(0.015625)\"/>\n       </defs>\n       <use xlink:href=\"#DejaVuSans-36\"/>\n       <use xlink:href=\"#DejaVuSans-30\" x=\"63.623047\"/>\n       <use xlink:href=\"#DejaVuSans-30\" x=\"127.246094\"/>\n       <use xlink:href=\"#DejaVuSans-30\" x=\"190.869141\"/>\n      </g>\n     </g>\n    </g>\n    <g id=\"xtick_10\">\n     <g id=\"line2d_43\">\n      <g>\n       <use xlink:href=\"#m7572c160f8\" x=\"624.205263\" y=\"194.98975\" style=\"stroke: #000000; stroke-width: 0.8\"/>\n      </g>\n     </g>\n     <g id=\"text_17\">\n      <!-- 8000 -->\n      <g transform=\"translate(608.935263 211.107875) scale(0.12 -0.12)\">\n       <defs>\n        <path id=\"DejaVuSans-38\" d=\"M 2034 2216 \nQ 1584 2216 1326 1975 \nQ 1069 1734 1069 1313 \nQ 1069 891 1326 650 \nQ 1584 409 2034 409 \nQ 2484 409 2743 651 \nQ 3003 894 3003 1313 \nQ 3003 1734 2745 1975 \nQ 2488 2216 2034 2216 \nz\nM 1403 2484 \nQ 997 2584 770 2862 \nQ 544 3141 544 3541 \nQ 544 4100 942 4425 \nQ 1341 4750 2034 4750 \nQ 2731 4750 3128 4425 \nQ 3525 4100 3525 3541 \nQ 3525 3141 3298 2862 \nQ 3072 2584 2669 2484 \nQ 3125 2378 3379 2068 \nQ 3634 1759 3634 1313 \nQ 3634 634 3220 271 \nQ 2806 -91 2034 -91 \nQ 1263 -91 848 271 \nQ 434 634 434 1313 \nQ 434 1759 690 2068 \nQ 947 2378 1403 2484 \nz\nM 1172 3481 \nQ 1172 3119 1398 2916 \nQ 1625 2713 2034 2713 \nQ 2441 2713 2670 2916 \nQ 2900 3119 2900 3481 \nQ 2900 3844 2670 4047 \nQ 2441 4250 2034 4250 \nQ 1625 4250 1398 4047 \nQ 1172 3844 1172 3481 \nz\n\" transform=\"scale(0.015625)\"/>\n       </defs>\n       <use xlink:href=\"#DejaVuSans-38\"/>\n       <use xlink:href=\"#DejaVuSans-30\" x=\"63.623047\"/>\n       <use xlink:href=\"#DejaVuSans-30\" x=\"127.246094\"/>\n       <use xlink:href=\"#DejaVuSans-30\" x=\"190.869141\"/>\n      </g>\n     </g>\n    </g>\n    <g id=\"xtick_11\">\n     <g id=\"line2d_44\">\n      <g>\n       <use xlink:href=\"#m7572c160f8\" x=\"680.552643\" y=\"194.98975\" style=\"stroke: #000000; stroke-width: 0.8\"/>\n      </g>\n     </g>\n     <g id=\"text_18\">\n      <!-- 10000 -->\n      <g transform=\"translate(661.465143 211.107875) scale(0.12 -0.12)\">\n       <use xlink:href=\"#DejaVuSans-31\"/>\n       <use xlink:href=\"#DejaVuSans-30\" x=\"63.623047\"/>\n       <use xlink:href=\"#DejaVuSans-30\" x=\"127.246094\"/>\n       <use xlink:href=\"#DejaVuSans-30\" x=\"190.869141\"/>\n       <use xlink:href=\"#DejaVuSans-30\" x=\"254.492188\"/>\n      </g>\n     </g>\n    </g>\n    <g id=\"xtick_12\">\n     <g id=\"line2d_45\">\n      <defs>\n       <path id=\"m34137aed2e\" d=\"M 0 0 \nL 0 2 \n\" style=\"stroke: #000000; stroke-width: 0.6\"/>\n      </defs>\n      <g>\n       <use xlink:href=\"#m34137aed2e\" x=\"412.902589\" y=\"194.98975\" style=\"stroke: #000000; stroke-width: 0.6\"/>\n      </g>\n     </g>\n    </g>\n    <g id=\"xtick_13\">\n     <g id=\"line2d_46\">\n      <g>\n       <use xlink:href=\"#m34137aed2e\" x=\"426.989434\" y=\"194.98975\" style=\"stroke: #000000; stroke-width: 0.6\"/>\n      </g>\n     </g>\n    </g>\n    <g id=\"xtick_14\">\n     <g id=\"line2d_47\">\n      <g>\n       <use xlink:href=\"#m34137aed2e\" x=\"441.076279\" y=\"194.98975\" style=\"stroke: #000000; stroke-width: 0.6\"/>\n      </g>\n     </g>\n    </g>\n    <g id=\"xtick_15\">\n     <g id=\"line2d_48\">\n      <g>\n       <use xlink:href=\"#m34137aed2e\" x=\"469.249969\" y=\"194.98975\" style=\"stroke: #000000; stroke-width: 0.6\"/>\n      </g>\n     </g>\n    </g>\n    <g id=\"xtick_16\">\n     <g id=\"line2d_49\">\n      <g>\n       <use xlink:href=\"#m34137aed2e\" x=\"483.336814\" y=\"194.98975\" style=\"stroke: #000000; stroke-width: 0.6\"/>\n      </g>\n     </g>\n    </g>\n    <g id=\"xtick_17\">\n     <g id=\"line2d_50\">\n      <g>\n       <use xlink:href=\"#m34137aed2e\" x=\"497.423659\" y=\"194.98975\" style=\"stroke: #000000; stroke-width: 0.6\"/>\n      </g>\n     </g>\n    </g>\n    <g id=\"xtick_18\">\n     <g id=\"line2d_51\">\n      <g>\n       <use xlink:href=\"#m34137aed2e\" x=\"525.597348\" y=\"194.98975\" style=\"stroke: #000000; stroke-width: 0.6\"/>\n      </g>\n     </g>\n    </g>\n    <g id=\"xtick_19\">\n     <g id=\"line2d_52\">\n      <g>\n       <use xlink:href=\"#m34137aed2e\" x=\"539.684193\" y=\"194.98975\" style=\"stroke: #000000; stroke-width: 0.6\"/>\n      </g>\n     </g>\n    </g>\n    <g id=\"xtick_20\">\n     <g id=\"line2d_53\">\n      <g>\n       <use xlink:href=\"#m34137aed2e\" x=\"553.771038\" y=\"194.98975\" style=\"stroke: #000000; stroke-width: 0.6\"/>\n      </g>\n     </g>\n    </g>\n    <g id=\"xtick_21\">\n     <g id=\"line2d_54\">\n      <g>\n       <use xlink:href=\"#m34137aed2e\" x=\"581.944728\" y=\"194.98975\" style=\"stroke: #000000; stroke-width: 0.6\"/>\n      </g>\n     </g>\n    </g>\n    <g id=\"xtick_22\">\n     <g id=\"line2d_55\">\n      <g>\n       <use xlink:href=\"#m34137aed2e\" x=\"596.031573\" y=\"194.98975\" style=\"stroke: #000000; stroke-width: 0.6\"/>\n      </g>\n     </g>\n    </g>\n    <g id=\"xtick_23\">\n     <g id=\"line2d_56\">\n      <g>\n       <use xlink:href=\"#m34137aed2e\" x=\"610.118418\" y=\"194.98975\" style=\"stroke: #000000; stroke-width: 0.6\"/>\n      </g>\n     </g>\n    </g>\n    <g id=\"xtick_24\">\n     <g id=\"line2d_57\">\n      <g>\n       <use xlink:href=\"#m34137aed2e\" x=\"638.292108\" y=\"194.98975\" style=\"stroke: #000000; stroke-width: 0.6\"/>\n      </g>\n     </g>\n    </g>\n    <g id=\"xtick_25\">\n     <g id=\"line2d_58\">\n      <g>\n       <use xlink:href=\"#m34137aed2e\" x=\"652.378953\" y=\"194.98975\" style=\"stroke: #000000; stroke-width: 0.6\"/>\n      </g>\n     </g>\n    </g>\n    <g id=\"xtick_26\">\n     <g id=\"line2d_59\">\n      <g>\n       <use xlink:href=\"#m34137aed2e\" x=\"666.465798\" y=\"194.98975\" style=\"stroke: #000000; stroke-width: 0.6\"/>\n      </g>\n     </g>\n    </g>\n    <g id=\"text_19\">\n     <!-- Token (descending probability) -->\n     <g transform=\"translate(447.602943 226.721625) scale(0.12 -0.12)\">\n      <defs>\n       <path id=\"DejaVuSans-54\" d=\"M -19 4666 \nL 3928 4666 \nL 3928 4134 \nL 2272 4134 \nL 2272 0 \nL 1638 0 \nL 1638 4134 \nL -19 4134 \nL -19 4666 \nz\n\" transform=\"scale(0.015625)\"/>\n       <path id=\"DejaVuSans-6b\" d=\"M 581 4863 \nL 1159 4863 \nL 1159 1991 \nL 2875 3500 \nL 3609 3500 \nL 1753 1863 \nL 3688 0 \nL 2938 0 \nL 1159 1709 \nL 1159 0 \nL 581 0 \nL 581 4863 \nz\n\" transform=\"scale(0.015625)\"/>\n       <path id=\"DejaVuSans-65\" d=\"M 3597 1894 \nL 3597 1613 \nL 953 1613 \nQ 991 1019 1311 708 \nQ 1631 397 2203 397 \nQ 2534 397 2845 478 \nQ 3156 559 3463 722 \nL 3463 178 \nQ 3153 47 2828 -22 \nQ 2503 -91 2169 -91 \nQ 1331 -91 842 396 \nQ 353 884 353 1716 \nQ 353 2575 817 3079 \nQ 1281 3584 2069 3584 \nQ 2775 3584 3186 3129 \nQ 3597 2675 3597 1894 \nz\nM 3022 2063 \nQ 3016 2534 2758 2815 \nQ 2500 3097 2075 3097 \nQ 1594 3097 1305 2825 \nQ 1016 2553 972 2059 \nL 3022 2063 \nz\n\" transform=\"scale(0.015625)\"/>\n       <path id=\"DejaVuSans-28\" d=\"M 1984 4856 \nQ 1566 4138 1362 3434 \nQ 1159 2731 1159 2009 \nQ 1159 1288 1364 580 \nQ 1569 -128 1984 -844 \nL 1484 -844 \nQ 1016 -109 783 600 \nQ 550 1309 550 2009 \nQ 550 2706 781 3412 \nQ 1013 4119 1484 4856 \nL 1984 4856 \nz\n\" transform=\"scale(0.015625)\"/>\n       <path id=\"DejaVuSans-63\" d=\"M 3122 3366 \nL 3122 2828 \nQ 2878 2963 2633 3030 \nQ 2388 3097 2138 3097 \nQ 1578 3097 1268 2742 \nQ 959 2388 959 1747 \nQ 959 1106 1268 751 \nQ 1578 397 2138 397 \nQ 2388 397 2633 464 \nQ 2878 531 3122 666 \nL 3122 134 \nQ 2881 22 2623 -34 \nQ 2366 -91 2075 -91 \nQ 1284 -91 818 406 \nQ 353 903 353 1747 \nQ 353 2603 823 3093 \nQ 1294 3584 2113 3584 \nQ 2378 3584 2631 3529 \nQ 2884 3475 3122 3366 \nz\n\" transform=\"scale(0.015625)\"/>\n       <path id=\"DejaVuSans-67\" d=\"M 2906 1791 \nQ 2906 2416 2648 2759 \nQ 2391 3103 1925 3103 \nQ 1463 3103 1205 2759 \nQ 947 2416 947 1791 \nQ 947 1169 1205 825 \nQ 1463 481 1925 481 \nQ 2391 481 2648 825 \nQ 2906 1169 2906 1791 \nz\nM 3481 434 \nQ 3481 -459 3084 -895 \nQ 2688 -1331 1869 -1331 \nQ 1566 -1331 1297 -1286 \nQ 1028 -1241 775 -1147 \nL 775 -588 \nQ 1028 -725 1275 -790 \nQ 1522 -856 1778 -856 \nQ 2344 -856 2625 -561 \nQ 2906 -266 2906 331 \nL 2906 616 \nQ 2728 306 2450 153 \nQ 2172 0 1784 0 \nQ 1141 0 747 490 \nQ 353 981 353 1791 \nQ 353 2603 747 3093 \nQ 1141 3584 1784 3584 \nQ 2172 3584 2450 3431 \nQ 2728 3278 2906 2969 \nL 2906 3500 \nL 3481 3500 \nL 3481 434 \nz\n\" transform=\"scale(0.015625)\"/>\n       <path id=\"DejaVuSans-70\" d=\"M 1159 525 \nL 1159 -1331 \nL 581 -1331 \nL 581 3500 \nL 1159 3500 \nL 1159 2969 \nQ 1341 3281 1617 3432 \nQ 1894 3584 2278 3584 \nQ 2916 3584 3314 3078 \nQ 3713 2572 3713 1747 \nQ 3713 922 3314 415 \nQ 2916 -91 2278 -91 \nQ 1894 -91 1617 61 \nQ 1341 213 1159 525 \nz\nM 3116 1747 \nQ 3116 2381 2855 2742 \nQ 2594 3103 2138 3103 \nQ 1681 3103 1420 2742 \nQ 1159 2381 1159 1747 \nQ 1159 1113 1420 752 \nQ 1681 391 2138 391 \nQ 2594 391 2855 752 \nQ 3116 1113 3116 1747 \nz\n\" transform=\"scale(0.015625)\"/>\n       <path id=\"DejaVuSans-29\" d=\"M 513 4856 \nL 1013 4856 \nQ 1481 4119 1714 3412 \nQ 1947 2706 1947 2009 \nQ 1947 1309 1714 600 \nQ 1481 -109 1013 -844 \nL 513 -844 \nQ 928 -128 1133 580 \nQ 1338 1288 1338 2009 \nQ 1338 2731 1133 3434 \nQ 928 4138 513 4856 \nz\n\" transform=\"scale(0.015625)\"/>\n      </defs>\n      <use xlink:href=\"#DejaVuSans-54\"/>\n      <use xlink:href=\"#DejaVuSans-6f\" x=\"44.083984\"/>\n      <use xlink:href=\"#DejaVuSans-6b\" x=\"105.265625\"/>\n      <use xlink:href=\"#DejaVuSans-65\" x=\"159.550781\"/>\n      <use xlink:href=\"#DejaVuSans-6e\" x=\"221.074219\"/>\n      <use xlink:href=\"#DejaVuSans-20\" x=\"284.453125\"/>\n      <use xlink:href=\"#DejaVuSans-28\" x=\"316.240234\"/>\n      <use xlink:href=\"#DejaVuSans-64\" x=\"355.253906\"/>\n      <use xlink:href=\"#DejaVuSans-65\" x=\"418.730469\"/>\n      <use xlink:href=\"#DejaVuSans-73\" x=\"480.253906\"/>\n      <use xlink:href=\"#DejaVuSans-63\" x=\"532.353516\"/>\n      <use xlink:href=\"#DejaVuSans-65\" x=\"587.333984\"/>\n      <use xlink:href=\"#DejaVuSans-6e\" x=\"648.857422\"/>\n      <use xlink:href=\"#DejaVuSans-64\" x=\"712.236328\"/>\n      <use xlink:href=\"#DejaVuSans-69\" x=\"775.712891\"/>\n      <use xlink:href=\"#DejaVuSans-6e\" x=\"803.496094\"/>\n      <use xlink:href=\"#DejaVuSans-67\" x=\"866.875\"/>\n      <use xlink:href=\"#DejaVuSans-20\" x=\"930.351562\"/>\n      <use xlink:href=\"#DejaVuSans-70\" x=\"962.138672\"/>\n      <use xlink:href=\"#DejaVuSans-72\" x=\"1025.615234\"/>\n      <use xlink:href=\"#DejaVuSans-6f\" x=\"1064.478516\"/>\n      <use xlink:href=\"#DejaVuSans-62\" x=\"1125.660156\"/>\n      <use xlink:href=\"#DejaVuSans-61\" x=\"1189.136719\"/>\n      <use xlink:href=\"#DejaVuSans-62\" x=\"1250.416016\"/>\n      <use xlink:href=\"#DejaVuSans-69\" x=\"1313.892578\"/>\n      <use xlink:href=\"#DejaVuSans-6c\" x=\"1341.675781\"/>\n      <use xlink:href=\"#DejaVuSans-69\" x=\"1369.458984\"/>\n      <use xlink:href=\"#DejaVuSans-74\" x=\"1397.242188\"/>\n      <use xlink:href=\"#DejaVuSans-79\" x=\"1436.451172\"/>\n      <use xlink:href=\"#DejaVuSans-29\" x=\"1495.630859\"/>\n     </g>\n    </g>\n   </g>\n   <g id=\"matplotlib.axis_4\">\n    <g id=\"ytick_34\">\n     <g id=\"line2d_60\">\n      <g>\n       <use xlink:href=\"#m26ca0c3276\" x=\"398.815744\" y=\"194.98975\" style=\"stroke: #000000; stroke-width: 0.8\"/>\n      </g>\n     </g>\n     <g id=\"text_20\">\n      <!-- 0.75 -->\n      <g transform=\"translate(365.096994 199.548812) scale(0.12 -0.12)\">\n       <defs>\n        <path id=\"DejaVuSans-2e\" d=\"M 684 794 \nL 1344 794 \nL 1344 0 \nL 684 0 \nL 684 794 \nz\n\" transform=\"scale(0.015625)\"/>\n       </defs>\n       <use xlink:href=\"#DejaVuSans-30\"/>\n       <use xlink:href=\"#DejaVuSans-2e\" x=\"63.623047\"/>\n       <use xlink:href=\"#DejaVuSans-37\" x=\"95.410156\"/>\n       <use xlink:href=\"#DejaVuSans-35\" x=\"159.033203\"/>\n      </g>\n     </g>\n    </g>\n    <g id=\"ytick_35\">\n     <g id=\"line2d_61\">\n      <g>\n       <use xlink:href=\"#m26ca0c3276\" x=\"398.815744\" y=\"162.134365\" style=\"stroke: #000000; stroke-width: 0.8\"/>\n      </g>\n     </g>\n     <g id=\"text_21\">\n      <!-- 0.80 -->\n      <g transform=\"translate(365.096994 166.693428) scale(0.12 -0.12)\">\n       <use xlink:href=\"#DejaVuSans-30\"/>\n       <use xlink:href=\"#DejaVuSans-2e\" x=\"63.623047\"/>\n       <use xlink:href=\"#DejaVuSans-38\" x=\"95.410156\"/>\n       <use xlink:href=\"#DejaVuSans-30\" x=\"159.033203\"/>\n      </g>\n     </g>\n    </g>\n    <g id=\"ytick_36\">\n     <g id=\"line2d_62\">\n      <g>\n       <use xlink:href=\"#m26ca0c3276\" x=\"398.815744\" y=\"129.278981\" style=\"stroke: #000000; stroke-width: 0.8\"/>\n      </g>\n     </g>\n     <g id=\"text_22\">\n      <!-- 0.85 -->\n      <g transform=\"translate(365.096994 133.838043) scale(0.12 -0.12)\">\n       <use xlink:href=\"#DejaVuSans-30\"/>\n       <use xlink:href=\"#DejaVuSans-2e\" x=\"63.623047\"/>\n       <use xlink:href=\"#DejaVuSans-38\" x=\"95.410156\"/>\n       <use xlink:href=\"#DejaVuSans-35\" x=\"159.033203\"/>\n      </g>\n     </g>\n    </g>\n    <g id=\"ytick_37\">\n     <g id=\"line2d_63\">\n      <g>\n       <use xlink:href=\"#m26ca0c3276\" x=\"398.815744\" y=\"96.423596\" style=\"stroke: #000000; stroke-width: 0.8\"/>\n      </g>\n     </g>\n     <g id=\"text_23\">\n      <!-- 0.90 -->\n      <g transform=\"translate(365.096994 100.982659) scale(0.12 -0.12)\">\n       <use xlink:href=\"#DejaVuSans-30\"/>\n       <use xlink:href=\"#DejaVuSans-2e\" x=\"63.623047\"/>\n       <use xlink:href=\"#DejaVuSans-39\" x=\"95.410156\"/>\n       <use xlink:href=\"#DejaVuSans-30\" x=\"159.033203\"/>\n      </g>\n     </g>\n    </g>\n    <g id=\"ytick_38\">\n     <g id=\"line2d_64\">\n      <g>\n       <use xlink:href=\"#m26ca0c3276\" x=\"398.815744\" y=\"63.568212\" style=\"stroke: #000000; stroke-width: 0.8\"/>\n      </g>\n     </g>\n     <g id=\"text_24\">\n      <!-- 0.95 -->\n      <g transform=\"translate(365.096994 68.127274) scale(0.12 -0.12)\">\n       <use xlink:href=\"#DejaVuSans-30\"/>\n       <use xlink:href=\"#DejaVuSans-2e\" x=\"63.623047\"/>\n       <use xlink:href=\"#DejaVuSans-39\" x=\"95.410156\"/>\n       <use xlink:href=\"#DejaVuSans-35\" x=\"159.033203\"/>\n      </g>\n     </g>\n    </g>\n    <g id=\"ytick_39\">\n     <g id=\"line2d_65\">\n      <g>\n       <use xlink:href=\"#m26ca0c3276\" x=\"398.815744\" y=\"30.712827\" style=\"stroke: #000000; stroke-width: 0.8\"/>\n      </g>\n     </g>\n     <g id=\"text_25\">\n      <!-- 1.00 -->\n      <g transform=\"translate(365.096994 35.271889) scale(0.12 -0.12)\">\n       <use xlink:href=\"#DejaVuSans-31\"/>\n       <use xlink:href=\"#DejaVuSans-2e\" x=\"63.623047\"/>\n       <use xlink:href=\"#DejaVuSans-30\" x=\"95.410156\"/>\n       <use xlink:href=\"#DejaVuSans-30\" x=\"159.033203\"/>\n      </g>\n     </g>\n    </g>\n    <g id=\"ytick_40\">\n     <g id=\"line2d_66\">\n      <g>\n       <use xlink:href=\"#md841db9f40\" x=\"398.815744\" y=\"188.418673\" style=\"stroke: #000000; stroke-width: 0.6\"/>\n      </g>\n     </g>\n    </g>\n    <g id=\"ytick_41\">\n     <g id=\"line2d_67\">\n      <g>\n       <use xlink:href=\"#md841db9f40\" x=\"398.815744\" y=\"181.847596\" style=\"stroke: #000000; stroke-width: 0.6\"/>\n      </g>\n     </g>\n    </g>\n    <g id=\"ytick_42\">\n     <g id=\"line2d_68\">\n      <g>\n       <use xlink:href=\"#md841db9f40\" x=\"398.815744\" y=\"175.276519\" style=\"stroke: #000000; stroke-width: 0.6\"/>\n      </g>\n     </g>\n    </g>\n    <g id=\"ytick_43\">\n     <g id=\"line2d_69\">\n      <g>\n       <use xlink:href=\"#md841db9f40\" x=\"398.815744\" y=\"168.705442\" style=\"stroke: #000000; stroke-width: 0.6\"/>\n      </g>\n     </g>\n    </g>\n    <g id=\"ytick_44\">\n     <g id=\"line2d_70\">\n      <g>\n       <use xlink:href=\"#md841db9f40\" x=\"398.815744\" y=\"155.563288\" style=\"stroke: #000000; stroke-width: 0.6\"/>\n      </g>\n     </g>\n    </g>\n    <g id=\"ytick_45\">\n     <g id=\"line2d_71\">\n      <g>\n       <use xlink:href=\"#md841db9f40\" x=\"398.815744\" y=\"148.992212\" style=\"stroke: #000000; stroke-width: 0.6\"/>\n      </g>\n     </g>\n    </g>\n    <g id=\"ytick_46\">\n     <g id=\"line2d_72\">\n      <g>\n       <use xlink:href=\"#md841db9f40\" x=\"398.815744\" y=\"142.421135\" style=\"stroke: #000000; stroke-width: 0.6\"/>\n      </g>\n     </g>\n    </g>\n    <g id=\"ytick_47\">\n     <g id=\"line2d_73\">\n      <g>\n       <use xlink:href=\"#md841db9f40\" x=\"398.815744\" y=\"135.850058\" style=\"stroke: #000000; stroke-width: 0.6\"/>\n      </g>\n     </g>\n    </g>\n    <g id=\"ytick_48\">\n     <g id=\"line2d_74\">\n      <g>\n       <use xlink:href=\"#md841db9f40\" x=\"398.815744\" y=\"122.707904\" style=\"stroke: #000000; stroke-width: 0.6\"/>\n      </g>\n     </g>\n    </g>\n    <g id=\"ytick_49\">\n     <g id=\"line2d_75\">\n      <g>\n       <use xlink:href=\"#md841db9f40\" x=\"398.815744\" y=\"116.136827\" style=\"stroke: #000000; stroke-width: 0.6\"/>\n      </g>\n     </g>\n    </g>\n    <g id=\"ytick_50\">\n     <g id=\"line2d_76\">\n      <g>\n       <use xlink:href=\"#md841db9f40\" x=\"398.815744\" y=\"109.56575\" style=\"stroke: #000000; stroke-width: 0.6\"/>\n      </g>\n     </g>\n    </g>\n    <g id=\"ytick_51\">\n     <g id=\"line2d_77\">\n      <g>\n       <use xlink:href=\"#md841db9f40\" x=\"398.815744\" y=\"102.994673\" style=\"stroke: #000000; stroke-width: 0.6\"/>\n      </g>\n     </g>\n    </g>\n    <g id=\"ytick_52\">\n     <g id=\"line2d_78\">\n      <g>\n       <use xlink:href=\"#md841db9f40\" x=\"398.815744\" y=\"89.852519\" style=\"stroke: #000000; stroke-width: 0.6\"/>\n      </g>\n     </g>\n    </g>\n    <g id=\"ytick_53\">\n     <g id=\"line2d_79\">\n      <g>\n       <use xlink:href=\"#md841db9f40\" x=\"398.815744\" y=\"83.281442\" style=\"stroke: #000000; stroke-width: 0.6\"/>\n      </g>\n     </g>\n    </g>\n    <g id=\"ytick_54\">\n     <g id=\"line2d_80\">\n      <g>\n       <use xlink:href=\"#md841db9f40\" x=\"398.815744\" y=\"76.710365\" style=\"stroke: #000000; stroke-width: 0.6\"/>\n      </g>\n     </g>\n    </g>\n    <g id=\"ytick_55\">\n     <g id=\"line2d_81\">\n      <g>\n       <use xlink:href=\"#md841db9f40\" x=\"398.815744\" y=\"70.139288\" style=\"stroke: #000000; stroke-width: 0.6\"/>\n      </g>\n     </g>\n    </g>\n    <g id=\"ytick_56\">\n     <g id=\"line2d_82\">\n      <g>\n       <use xlink:href=\"#md841db9f40\" x=\"398.815744\" y=\"56.997135\" style=\"stroke: #000000; stroke-width: 0.6\"/>\n      </g>\n     </g>\n    </g>\n    <g id=\"ytick_57\">\n     <g id=\"line2d_83\">\n      <g>\n       <use xlink:href=\"#md841db9f40\" x=\"398.815744\" y=\"50.426058\" style=\"stroke: #000000; stroke-width: 0.6\"/>\n      </g>\n     </g>\n    </g>\n    <g id=\"ytick_58\">\n     <g id=\"line2d_84\">\n      <g>\n       <use xlink:href=\"#md841db9f40\" x=\"398.815744\" y=\"43.854981\" style=\"stroke: #000000; stroke-width: 0.6\"/>\n      </g>\n     </g>\n    </g>\n    <g id=\"ytick_59\">\n     <g id=\"line2d_85\">\n      <g>\n       <use xlink:href=\"#md841db9f40\" x=\"398.815744\" y=\"37.283904\" style=\"stroke: #000000; stroke-width: 0.6\"/>\n      </g>\n     </g>\n    </g>\n    <g id=\"ytick_60\">\n     <g id=\"line2d_86\">\n      <g>\n       <use xlink:href=\"#md841db9f40\" x=\"398.815744\" y=\"24.14175\" style=\"stroke: #000000; stroke-width: 0.6\"/>\n      </g>\n     </g>\n    </g>\n    <g id=\"text_26\">\n     <!-- Probability -->\n     <g transform=\"translate(358.601369 141.280438) rotate(-90) scale(0.12 -0.12)\">\n      <use xlink:href=\"#DejaVuSans-50\"/>\n      <use xlink:href=\"#DejaVuSans-72\" x=\"58.552734\"/>\n      <use xlink:href=\"#DejaVuSans-6f\" x=\"97.416016\"/>\n      <use xlink:href=\"#DejaVuSans-62\" x=\"158.597656\"/>\n      <use xlink:href=\"#DejaVuSans-61\" x=\"222.074219\"/>\n      <use xlink:href=\"#DejaVuSans-62\" x=\"283.353516\"/>\n      <use xlink:href=\"#DejaVuSans-69\" x=\"346.830078\"/>\n      <use xlink:href=\"#DejaVuSans-6c\" x=\"374.613281\"/>\n      <use xlink:href=\"#DejaVuSans-69\" x=\"402.396484\"/>\n      <use xlink:href=\"#DejaVuSans-74\" x=\"430.179688\"/>\n      <use xlink:href=\"#DejaVuSans-79\" x=\"469.388672\"/>\n     </g>\n    </g>\n   </g>\n   <g id=\"line2d_87\">\n    <path d=\"M 399.997104 237.41725 \nL 400.562513 207.985643 \nL 401.238682 183.41361 \nL 401.886676 167.915436 \nL 402.760061 153.110592 \nL 403.661619 140.772503 \nL 404.732219 129.290284 \nL 405.859167 119.520902 \nL 407.155156 110.23895 \nL 408.563841 101.909374 \nL 409.916178 95.361882 \nL 411.240341 89.985747 \nL 412.818068 84.581726 \nL 414.508489 79.582962 \nL 416.086216 75.569749 \nL 417.889332 71.614581 \nL 419.889664 67.71832 \nL 421.777301 64.538848 \nL 424.172065 60.959288 \nL 426.42596 57.979331 \nL 428.764377 55.246242 \nL 431.187314 52.755868 \nL 433.497556 50.673181 \nL 436.145883 48.582738 \nL 439.188642 46.472477 \nL 442.344095 44.572384 \nL 445.555896 42.911639 \nL 449.190302 41.281052 \nL 452.740187 39.920598 \nL 456.825372 38.595433 \nL 461.69942 37.261181 \nL 466.573468 36.155388 \nL 471.813775 35.204187 \nL 477.871118 34.322662 \nL 484.632803 33.579044 \nL 492.859521 32.912858 \nL 501.734233 32.406942 \nL 513.708051 31.951865 \nL 529.767055 31.59396 \nL 552.531396 31.325276 \nL 591.918214 31.107823 \nL 651.054789 30.972228 \nL 680.580816 30.931181 \nL 680.580816 30.931181 \n\" clip-path=\"url(#pa1920ae3f5)\" style=\"fill: none; stroke: #000000; stroke-width: 1.5; stroke-linecap: square\"/>\n   </g>\n   <g id=\"LineCollection_1\">\n    <path d=\"M 455.163124 237.41725 \nL 455.163124 -1 \n\" clip-path=\"url(#pa1920ae3f5)\" style=\"fill: none; stroke: #0071bc; stroke-width: 1.5\"/>\n   </g>\n   <g id=\"LineCollection_2\">\n    <path d=\"M 398.815744 63.568212 \nL 680.552643 63.568212 \n\" clip-path=\"url(#pa1920ae3f5)\" style=\"fill: none; stroke-dasharray: 5.55,2.4; stroke-dashoffset: 0; stroke: #f7931e; stroke-width: 1.5\"/>\n   </g>\n   <g id=\"patch_107\">\n    <path d=\"M 398.815744 194.98975 \nL 398.815744 24.14175 \n\" style=\"fill: none; stroke: #000000; stroke-width: 0.8; stroke-linejoin: miter; stroke-linecap: square\"/>\n   </g>\n   <g id=\"patch_108\">\n    <path d=\"M 680.552643 194.98975 \nL 680.552643 24.14175 \n\" style=\"fill: none; stroke: #000000; stroke-width: 0.8; stroke-linejoin: miter; stroke-linecap: square\"/>\n   </g>\n   <g id=\"patch_109\">\n    <path d=\"M 398.815744 194.98975 \nL 680.552643 194.98975 \n\" style=\"fill: none; stroke: #000000; stroke-width: 0.8; stroke-linejoin: miter; stroke-linecap: square\"/>\n   </g>\n   <g id=\"patch_110\">\n    <path d=\"M 398.815744 24.14175 \nL 680.552643 24.14175 \n\" style=\"fill: none; stroke: #000000; stroke-width: 0.8; stroke-linejoin: miter; stroke-linecap: square\"/>\n   </g>\n   <g id=\"text_27\">\n    <!-- Cumulative probability -->\n    <g transform=\"translate(457.888818 18.14175) scale(0.144 -0.144)\">\n     <defs>\n      <path id=\"DejaVuSans-6d\" d=\"M 3328 2828 \nQ 3544 3216 3844 3400 \nQ 4144 3584 4550 3584 \nQ 5097 3584 5394 3201 \nQ 5691 2819 5691 2113 \nL 5691 0 \nL 5113 0 \nL 5113 2094 \nQ 5113 2597 4934 2840 \nQ 4756 3084 4391 3084 \nQ 3944 3084 3684 2787 \nQ 3425 2491 3425 1978 \nL 3425 0 \nL 2847 0 \nL 2847 2094 \nQ 2847 2600 2669 2842 \nQ 2491 3084 2119 3084 \nQ 1678 3084 1418 2786 \nQ 1159 2488 1159 1978 \nL 1159 0 \nL 581 0 \nL 581 3500 \nL 1159 3500 \nL 1159 2956 \nQ 1356 3278 1631 3431 \nQ 1906 3584 2284 3584 \nQ 2666 3584 2933 3390 \nQ 3200 3197 3328 2828 \nz\n\" transform=\"scale(0.015625)\"/>\n      <path id=\"DejaVuSans-76\" d=\"M 191 3500 \nL 800 3500 \nL 1894 563 \nL 2988 3500 \nL 3597 3500 \nL 2284 0 \nL 1503 0 \nL 191 3500 \nz\n\" transform=\"scale(0.015625)\"/>\n     </defs>\n     <use xlink:href=\"#DejaVuSans-43\"/>\n     <use xlink:href=\"#DejaVuSans-75\" x=\"69.824219\"/>\n     <use xlink:href=\"#DejaVuSans-6d\" x=\"133.203125\"/>\n     <use xlink:href=\"#DejaVuSans-75\" x=\"230.615234\"/>\n     <use xlink:href=\"#DejaVuSans-6c\" x=\"293.994141\"/>\n     <use xlink:href=\"#DejaVuSans-61\" x=\"321.777344\"/>\n     <use xlink:href=\"#DejaVuSans-74\" x=\"383.056641\"/>\n     <use xlink:href=\"#DejaVuSans-69\" x=\"422.265625\"/>\n     <use xlink:href=\"#DejaVuSans-76\" x=\"450.048828\"/>\n     <use xlink:href=\"#DejaVuSans-65\" x=\"509.228516\"/>\n     <use xlink:href=\"#DejaVuSans-20\" x=\"570.751953\"/>\n     <use xlink:href=\"#DejaVuSans-70\" x=\"602.539062\"/>\n     <use xlink:href=\"#DejaVuSans-72\" x=\"666.015625\"/>\n     <use xlink:href=\"#DejaVuSans-6f\" x=\"704.878906\"/>\n     <use xlink:href=\"#DejaVuSans-62\" x=\"766.060547\"/>\n     <use xlink:href=\"#DejaVuSans-61\" x=\"829.537109\"/>\n     <use xlink:href=\"#DejaVuSans-62\" x=\"890.816406\"/>\n     <use xlink:href=\"#DejaVuSans-69\" x=\"954.292969\"/>\n     <use xlink:href=\"#DejaVuSans-6c\" x=\"982.076172\"/>\n     <use xlink:href=\"#DejaVuSans-69\" x=\"1009.859375\"/>\n     <use xlink:href=\"#DejaVuSans-74\" x=\"1037.642578\"/>\n     <use xlink:href=\"#DejaVuSans-79\" x=\"1076.851562\"/>\n    </g>\n   </g>\n   <g id=\"legend_1\">\n    <g id=\"patch_111\">\n     <path d=\"M 469.480143 188.98975 \nL 672.152643 188.98975 \nQ 674.552643 188.98975 674.552643 186.58975 \nL 674.552643 152.56225 \nQ 674.552643 150.16225 672.152643 150.16225 \nL 469.480143 150.16225 \nQ 467.080143 150.16225 467.080143 152.56225 \nL 467.080143 186.58975 \nQ 467.080143 188.98975 469.480143 188.98975 \nz\n\" style=\"fill: #ffffff; opacity: 0.8; stroke: #cccccc; stroke-linejoin: miter\"/>\n    </g>\n    <g id=\"line2d_88\">\n     <path d=\"M 471.880143 159.880375 \nL 495.880143 159.880375 \n\" style=\"fill: none; stroke: #0071bc; stroke-width: 1.5\"/>\n    </g>\n    <g id=\"text_28\">\n     <!-- top-k threshold (k=2000) -->\n     <g transform=\"translate(505.480143 164.080375) scale(0.12 -0.12)\">\n      <defs>\n       <path id=\"DejaVuSans-2d\" d=\"M 313 2009 \nL 1997 2009 \nL 1997 1497 \nL 313 1497 \nL 313 2009 \nz\n\" transform=\"scale(0.015625)\"/>\n       <path id=\"DejaVuSans-68\" d=\"M 3513 2113 \nL 3513 0 \nL 2938 0 \nL 2938 2094 \nQ 2938 2591 2744 2837 \nQ 2550 3084 2163 3084 \nQ 1697 3084 1428 2787 \nQ 1159 2491 1159 1978 \nL 1159 0 \nL 581 0 \nL 581 4863 \nL 1159 4863 \nL 1159 2956 \nQ 1366 3272 1645 3428 \nQ 1925 3584 2291 3584 \nQ 2894 3584 3203 3211 \nQ 3513 2838 3513 2113 \nz\n\" transform=\"scale(0.015625)\"/>\n       <path id=\"DejaVuSans-3d\" d=\"M 678 2906 \nL 4684 2906 \nL 4684 2381 \nL 678 2381 \nL 678 2906 \nz\nM 678 1631 \nL 4684 1631 \nL 4684 1100 \nL 678 1100 \nL 678 1631 \nz\n\" transform=\"scale(0.015625)\"/>\n      </defs>\n      <use xlink:href=\"#DejaVuSans-74\"/>\n      <use xlink:href=\"#DejaVuSans-6f\" x=\"39.208984\"/>\n      <use xlink:href=\"#DejaVuSans-70\" x=\"100.390625\"/>\n      <use xlink:href=\"#DejaVuSans-2d\" x=\"163.867188\"/>\n      <use xlink:href=\"#DejaVuSans-6b\" x=\"199.951172\"/>\n      <use xlink:href=\"#DejaVuSans-20\" x=\"257.861328\"/>\n      <use xlink:href=\"#DejaVuSans-74\" x=\"289.648438\"/>\n      <use xlink:href=\"#DejaVuSans-68\" x=\"328.857422\"/>\n      <use xlink:href=\"#DejaVuSans-72\" x=\"392.236328\"/>\n      <use xlink:href=\"#DejaVuSans-65\" x=\"431.099609\"/>\n      <use xlink:href=\"#DejaVuSans-73\" x=\"492.623047\"/>\n      <use xlink:href=\"#DejaVuSans-68\" x=\"544.722656\"/>\n      <use xlink:href=\"#DejaVuSans-6f\" x=\"608.101562\"/>\n      <use xlink:href=\"#DejaVuSans-6c\" x=\"669.283203\"/>\n      <use xlink:href=\"#DejaVuSans-64\" x=\"697.066406\"/>\n      <use xlink:href=\"#DejaVuSans-20\" x=\"760.542969\"/>\n      <use xlink:href=\"#DejaVuSans-28\" x=\"792.330078\"/>\n      <use xlink:href=\"#DejaVuSans-6b\" x=\"831.34375\"/>\n      <use xlink:href=\"#DejaVuSans-3d\" x=\"889.253906\"/>\n      <use xlink:href=\"#DejaVuSans-32\" x=\"973.042969\"/>\n      <use xlink:href=\"#DejaVuSans-30\" x=\"1036.666016\"/>\n      <use xlink:href=\"#DejaVuSans-30\" x=\"1100.289062\"/>\n      <use xlink:href=\"#DejaVuSans-30\" x=\"1163.912109\"/>\n      <use xlink:href=\"#DejaVuSans-29\" x=\"1227.535156\"/>\n     </g>\n    </g>\n    <g id=\"line2d_89\">\n     <path d=\"M 471.880143 177.494125 \nL 495.880143 177.494125 \n\" style=\"fill: none; stroke-dasharray: 5.55,2.4; stroke-dashoffset: 0; stroke: #f7931e; stroke-width: 1.5\"/>\n    </g>\n    <g id=\"text_29\">\n     <!-- nucleus threshold (p=0.95) -->\n     <g transform=\"translate(505.480143 181.694125) scale(0.12 -0.12)\">\n      <use xlink:href=\"#DejaVuSans-6e\"/>\n      <use xlink:href=\"#DejaVuSans-75\" x=\"63.378906\"/>\n      <use xlink:href=\"#DejaVuSans-63\" x=\"126.757812\"/>\n      <use xlink:href=\"#DejaVuSans-6c\" x=\"181.738281\"/>\n      <use xlink:href=\"#DejaVuSans-65\" x=\"209.521484\"/>\n      <use xlink:href=\"#DejaVuSans-75\" x=\"271.044922\"/>\n      <use xlink:href=\"#DejaVuSans-73\" x=\"334.423828\"/>\n      <use xlink:href=\"#DejaVuSans-20\" x=\"386.523438\"/>\n      <use xlink:href=\"#DejaVuSans-74\" x=\"418.310547\"/>\n      <use xlink:href=\"#DejaVuSans-68\" x=\"457.519531\"/>\n      <use xlink:href=\"#DejaVuSans-72\" x=\"520.898438\"/>\n      <use xlink:href=\"#DejaVuSans-65\" x=\"559.761719\"/>\n      <use xlink:href=\"#DejaVuSans-73\" x=\"621.285156\"/>\n      <use xlink:href=\"#DejaVuSans-68\" x=\"673.384766\"/>\n      <use xlink:href=\"#DejaVuSans-6f\" x=\"736.763672\"/>\n      <use xlink:href=\"#DejaVuSans-6c\" x=\"797.945312\"/>\n      <use xlink:href=\"#DejaVuSans-64\" x=\"825.728516\"/>\n      <use xlink:href=\"#DejaVuSans-20\" x=\"889.205078\"/>\n      <use xlink:href=\"#DejaVuSans-28\" x=\"920.992188\"/>\n      <use xlink:href=\"#DejaVuSans-70\" x=\"960.005859\"/>\n      <use xlink:href=\"#DejaVuSans-3d\" x=\"1023.482422\"/>\n      <use xlink:href=\"#DejaVuSans-30\" x=\"1107.271484\"/>\n      <use xlink:href=\"#DejaVuSans-2e\" x=\"1170.894531\"/>\n      <use xlink:href=\"#DejaVuSans-39\" x=\"1202.681641\"/>\n      <use xlink:href=\"#DejaVuSans-35\" x=\"1266.304688\"/>\n      <use xlink:href=\"#DejaVuSans-29\" x=\"1329.927734\"/>\n     </g>\n    </g>\n   </g>\n  </g>\n </g>\n <defs>\n  <clipPath id=\"pd3bb76bd1d\">\n   <rect x=\"50.93375\" y=\"24.14175\" width=\"281.736898\" height=\"170.848\"/>\n  </clipPath>\n  <clipPath id=\"pa1920ae3f5\">\n   <rect x=\"398.815744\" y=\"24.14175\" width=\"281.736898\" height=\"170.848\"/>\n  </clipPath>\n </defs>\n</svg>\n",
            "application/pdf": "[encoded data removed]"
          },
          "metadata": {}
        }
      ],
      "source": [
        "# hide_input\n",
        "\n",
        "#id distribution\n",
        "#alt Probability distribution of next token prediction.\n",
        "#caption Probability distribution of next token prediction (left) and cumulative distribution of descending token probabilities\n",
        "\n",
        "import matplotlib.pyplot as plt\n",
        "import numpy as np\n",
        "\n",
        "fig, axes = plt.subplots(1, 2, figsize=(10, 3.5))\n",
        "\n",
        "axes[0].hist(probs[0], bins=np.logspace(-10, -1, 100), color=\"C0\", edgecolor=\"C0\")\n",
        "axes[0].set_xscale(\"log\")\n",
        "axes[0].set_yscale(\"log\")\n",
        "axes[0].set_title(\"Probability distribution\")\n",
        "axes[0].set_xlabel(\"Probability\")\n",
        "axes[0].set_ylabel(\"Count\")\n",
        "#axes[0].grid(which=\"major\")\n",
        "\n",
        "axes[1].plot(np.cumsum(np.sort(probs[0])[::-1]), color=\"black\")\n",
        "axes[1].set_xlim([0, 10000])\n",
        "axes[1].set_ylim([0.75, 1.01])\n",
        "axes[1].set_title(\"Cumulative probability\")\n",
        "axes[1].set_ylabel(\"Probability\")\n",
        "axes[1].set_xlabel(\"Token (descending probability)\")\n",
        "#axes[1].grid(which=\"major\")\n",
        "axes[1].minorticks_on()\n",
        "#axes[1].grid(which='minor', linewidth='0.5')\n",
        "top_k_label = 'top-k threshold (k=2000)'\n",
        "top_p_label = 'nucleus threshold (p=0.95)'\n",
        "axes[1].vlines(x=2000, ymin=0, ymax=2, color='C0', label=top_k_label)\n",
        "axes[1].hlines(y=0.95, xmin=0, xmax=10000, color='C1', label=top_p_label, linestyle='--')\n",
        "axes[1].legend(loc='lower right')\n",
        "plt.tight_layout()"
      ]
    },
    {
      "cell_type": "code",
      "execution_count": 23,
      "metadata": {
        "id": "0X5Ef0-NWQwf"
      },
      "outputs": [],
      "source": [
        "# hide\n",
        "torch.manual_seed(42);"
      ]
    },
    {
      "cell_type": "code",
      "execution_count": 24,
      "metadata": {
        "id": "bWMBrC2BWQwg",
        "outputId": "102220b9-2449-42b3-94c0-25deb06d7107",
        "colab": {
          "base_uri": "https://localhost:8080/"
        }
      },
      "outputs": [
        {
          "output_type": "stream",
          "name": "stdout",
          "text": [
            "In a shocking finding, scientist discovered a herd of unicorns living in a\n",
            "remote, previously unexplored valley, in the Andes Mountains. Even more\n",
            "surprising to the researchers was the fact that the unicorns spoke perfect\n",
            "English.\n",
            "\n",
            "\n",
            "The wild unicorns roam the Andes Mountains in the region of Cajamarca, on the\n",
            "border with Argentina (Picture: Alamy/Ecole Nationale Supérieure d'Histoire\n",
            "Naturelle)\n",
            "\n",
            "The researchers came across about 50 of the animals in the valley. They had\n",
            "lived in such a remote and isolated area at that location for nearly a thousand\n",
            "years that\n"
          ]
        }
      ],
      "source": [
        "output_topk = model.generate(input_ids, max_length=max_length, do_sample=True, \n",
        "                             top_k=50)\n",
        "print(tokenizer.decode(output_topk[0]))"
      ]
    },
    {
      "cell_type": "code",
      "execution_count": 25,
      "metadata": {
        "id": "qEixw9m4WQwh"
      },
      "outputs": [],
      "source": [
        "# hide\n",
        "torch.manual_seed(42);"
      ]
    },
    {
      "cell_type": "code",
      "execution_count": 26,
      "metadata": {
        "id": "vm4608NgWQwh",
        "outputId": "d15ffe1f-662f-46f9-fb46-ef2b97a07da6",
        "colab": {
          "base_uri": "https://localhost:8080/"
        }
      },
      "outputs": [
        {
          "output_type": "stream",
          "name": "stdout",
          "text": [
            "In a shocking finding, scientist discovered a herd of unicorns living in a\n",
            "remote, previously unexplored valley, in the Andes Mountains. Even more\n",
            "surprising to the researchers was the fact that the unicorns spoke perfect\n",
            "English.\n",
            "\n",
            "\n",
            "The scientists studied the DNA of the animals and came to the conclusion that\n",
            "the herd are descendants of a prehistoric herd that lived in Argentina about\n",
            "50,000 years ago.\n",
            "\n",
            "\n",
            "According to the scientific analysis, the first humans who migrated to South\n",
            "America migrated into the Andes Mountains from South Africa and Australia, after\n",
            "the last ice age had ended.\n",
            "\n",
            "\n",
            "Since their migration, the animals have been adapting to\n"
          ]
        }
      ],
      "source": [
        "output_topp = model.generate(input_ids, max_length=max_length, do_sample=True, \n",
        "                             top_p=0.90)\n",
        "print(tokenizer.decode(output_topp[0]))"
      ]
    },
    {
      "cell_type": "markdown",
      "metadata": {
        "id": "flR9hHXMWQwj"
      },
      "source": [
        "## Which Decoding Method Is Best?"
      ]
    },
    {
      "cell_type": "markdown",
      "metadata": {
        "id": "N2NFFh88WQwk"
      },
      "source": [
        "## Conclusion"
      ]
    }
  ],
  "metadata": {
    "kernelspec": {
      "display_name": "Python 3 (ipykernel)",
      "language": "python",
      "name": "python3"
    },
    "colab": {
      "provenance": [],
      "machine_shape": "hm"
    },
    "accelerator": "GPU",
    "gpuClass": "premium",
    "widgets": {
      "application/vnd.jupyter.widget-state+json": {
        "ec0f9b9ce54d478ea11930c060879259": {
          "model_module": "@jupyter-widgets/controls",
          "model_name": "HBoxModel",
          "model_module_version": "1.5.0",
          "state": {
            "_dom_classes": [],
            "_model_module": "@jupyter-widgets/controls",
            "_model_module_version": "1.5.0",
            "_model_name": "HBoxModel",
            "_view_count": null,
            "_view_module": "@jupyter-widgets/controls",
            "_view_module_version": "1.5.0",
            "_view_name": "HBoxView",
            "box_style": "",
            "children": [
              "IPY_MODEL_692896d606974105a21c603f14a75952",
              "IPY_MODEL_da5563b8dd994c968bd6ebc1351223cd",
              "IPY_MODEL_c6bccc75f39d4a38aa5bbcad9e17ed60"
            ],
            "layout": "IPY_MODEL_a61f1d759d8b461c823aa374e2a333a1"
          }
        },
        "692896d606974105a21c603f14a75952": {
          "model_module": "@jupyter-widgets/controls",
          "model_name": "HTMLModel",
          "model_module_version": "1.5.0",
          "state": {
            "_dom_classes": [],
            "_model_module": "@jupyter-widgets/controls",
            "_model_module_version": "1.5.0",
            "_model_name": "HTMLModel",
            "_view_count": null,
            "_view_module": "@jupyter-widgets/controls",
            "_view_module_version": "1.5.0",
            "_view_name": "HTMLView",
            "description": "",
            "description_tooltip": null,
            "layout": "IPY_MODEL_59f2081d91524a149a52fb720d9e33ce",
            "placeholder": "​",
            "style": "IPY_MODEL_4812c7d38a754832a751190ae0ce9dd9",
            "value": "Downloading: 100%"
          }
        },
        "da5563b8dd994c968bd6ebc1351223cd": {
          "model_module": "@jupyter-widgets/controls",
          "model_name": "FloatProgressModel",
          "model_module_version": "1.5.0",
          "state": {
            "_dom_classes": [],
            "_model_module": "@jupyter-widgets/controls",
            "_model_module_version": "1.5.0",
            "_model_name": "FloatProgressModel",
            "_view_count": null,
            "_view_module": "@jupyter-widgets/controls",
            "_view_module_version": "1.5.0",
            "_view_name": "ProgressView",
            "bar_style": "success",
            "description": "",
            "description_tooltip": null,
            "layout": "IPY_MODEL_9014a1183f1742658e754ba37288c0ad",
            "max": 689,
            "min": 0,
            "orientation": "horizontal",
            "style": "IPY_MODEL_3892452568cc4abd82c4a5a8cf908f10",
            "value": 689
          }
        },
        "c6bccc75f39d4a38aa5bbcad9e17ed60": {
          "model_module": "@jupyter-widgets/controls",
          "model_name": "HTMLModel",
          "model_module_version": "1.5.0",
          "state": {
            "_dom_classes": [],
            "_model_module": "@jupyter-widgets/controls",
            "_model_module_version": "1.5.0",
            "_model_name": "HTMLModel",
            "_view_count": null,
            "_view_module": "@jupyter-widgets/controls",
            "_view_module_version": "1.5.0",
            "_view_name": "HTMLView",
            "description": "",
            "description_tooltip": null,
            "layout": "IPY_MODEL_20b52a35c8174d5f97efe28ef2f82107",
            "placeholder": "​",
            "style": "IPY_MODEL_2572c1e6dfc04ef2b13b4497b07f87a4",
            "value": " 689/689 [00:00&lt;00:00, 47.0kB/s]"
          }
        },
        "a61f1d759d8b461c823aa374e2a333a1": {
          "model_module": "@jupyter-widgets/base",
          "model_name": "LayoutModel",
          "model_module_version": "1.2.0",
          "state": {
            "_model_module": "@jupyter-widgets/base",
            "_model_module_version": "1.2.0",
            "_model_name": "LayoutModel",
            "_view_count": null,
            "_view_module": "@jupyter-widgets/base",
            "_view_module_version": "1.2.0",
            "_view_name": "LayoutView",
            "align_content": null,
            "align_items": null,
            "align_self": null,
            "border": null,
            "bottom": null,
            "display": null,
            "flex": null,
            "flex_flow": null,
            "grid_area": null,
            "grid_auto_columns": null,
            "grid_auto_flow": null,
            "grid_auto_rows": null,
            "grid_column": null,
            "grid_gap": null,
            "grid_row": null,
            "grid_template_areas": null,
            "grid_template_columns": null,
            "grid_template_rows": null,
            "height": null,
            "justify_content": null,
            "justify_items": null,
            "left": null,
            "margin": null,
            "max_height": null,
            "max_width": null,
            "min_height": null,
            "min_width": null,
            "object_fit": null,
            "object_position": null,
            "order": null,
            "overflow": null,
            "overflow_x": null,
            "overflow_y": null,
            "padding": null,
            "right": null,
            "top": null,
            "visibility": null,
            "width": null
          }
        },
        "59f2081d91524a149a52fb720d9e33ce": {
          "model_module": "@jupyter-widgets/base",
          "model_name": "LayoutModel",
          "model_module_version": "1.2.0",
          "state": {
            "_model_module": "@jupyter-widgets/base",
            "_model_module_version": "1.2.0",
            "_model_name": "LayoutModel",
            "_view_count": null,
            "_view_module": "@jupyter-widgets/base",
            "_view_module_version": "1.2.0",
            "_view_name": "LayoutView",
            "align_content": null,
            "align_items": null,
            "align_self": null,
            "border": null,
            "bottom": null,
            "display": null,
            "flex": null,
            "flex_flow": null,
            "grid_area": null,
            "grid_auto_columns": null,
            "grid_auto_flow": null,
            "grid_auto_rows": null,
            "grid_column": null,
            "grid_gap": null,
            "grid_row": null,
            "grid_template_areas": null,
            "grid_template_columns": null,
            "grid_template_rows": null,
            "height": null,
            "justify_content": null,
            "justify_items": null,
            "left": null,
            "margin": null,
            "max_height": null,
            "max_width": null,
            "min_height": null,
            "min_width": null,
            "object_fit": null,
            "object_position": null,
            "order": null,
            "overflow": null,
            "overflow_x": null,
            "overflow_y": null,
            "padding": null,
            "right": null,
            "top": null,
            "visibility": null,
            "width": null
          }
        },
        "4812c7d38a754832a751190ae0ce9dd9": {
          "model_module": "@jupyter-widgets/controls",
          "model_name": "DescriptionStyleModel",
          "model_module_version": "1.5.0",
          "state": {
            "_model_module": "@jupyter-widgets/controls",
            "_model_module_version": "1.5.0",
            "_model_name": "DescriptionStyleModel",
            "_view_count": null,
            "_view_module": "@jupyter-widgets/base",
            "_view_module_version": "1.2.0",
            "_view_name": "StyleView",
            "description_width": ""
          }
        },
        "9014a1183f1742658e754ba37288c0ad": {
          "model_module": "@jupyter-widgets/base",
          "model_name": "LayoutModel",
          "model_module_version": "1.2.0",
          "state": {
            "_model_module": "@jupyter-widgets/base",
            "_model_module_version": "1.2.0",
            "_model_name": "LayoutModel",
            "_view_count": null,
            "_view_module": "@jupyter-widgets/base",
            "_view_module_version": "1.2.0",
            "_view_name": "LayoutView",
            "align_content": null,
            "align_items": null,
            "align_self": null,
            "border": null,
            "bottom": null,
            "display": null,
            "flex": null,
            "flex_flow": null,
            "grid_area": null,
            "grid_auto_columns": null,
            "grid_auto_flow": null,
            "grid_auto_rows": null,
            "grid_column": null,
            "grid_gap": null,
            "grid_row": null,
            "grid_template_areas": null,
            "grid_template_columns": null,
            "grid_template_rows": null,
            "height": null,
            "justify_content": null,
            "justify_items": null,
            "left": null,
            "margin": null,
            "max_height": null,
            "max_width": null,
            "min_height": null,
            "min_width": null,
            "object_fit": null,
            "object_position": null,
            "order": null,
            "overflow": null,
            "overflow_x": null,
            "overflow_y": null,
            "padding": null,
            "right": null,
            "top": null,
            "visibility": null,
            "width": null
          }
        },
        "3892452568cc4abd82c4a5a8cf908f10": {
          "model_module": "@jupyter-widgets/controls",
          "model_name": "ProgressStyleModel",
          "model_module_version": "1.5.0",
          "state": {
            "_model_module": "@jupyter-widgets/controls",
            "_model_module_version": "1.5.0",
            "_model_name": "ProgressStyleModel",
            "_view_count": null,
            "_view_module": "@jupyter-widgets/base",
            "_view_module_version": "1.2.0",
            "_view_name": "StyleView",
            "bar_color": null,
            "description_width": ""
          }
        },
        "20b52a35c8174d5f97efe28ef2f82107": {
          "model_module": "@jupyter-widgets/base",
          "model_name": "LayoutModel",
          "model_module_version": "1.2.0",
          "state": {
            "_model_module": "@jupyter-widgets/base",
            "_model_module_version": "1.2.0",
            "_model_name": "LayoutModel",
            "_view_count": null,
            "_view_module": "@jupyter-widgets/base",
            "_view_module_version": "1.2.0",
            "_view_name": "LayoutView",
            "align_content": null,
            "align_items": null,
            "align_self": null,
            "border": null,
            "bottom": null,
            "display": null,
            "flex": null,
            "flex_flow": null,
            "grid_area": null,
            "grid_auto_columns": null,
            "grid_auto_flow": null,
            "grid_auto_rows": null,
            "grid_column": null,
            "grid_gap": null,
            "grid_row": null,
            "grid_template_areas": null,
            "grid_template_columns": null,
            "grid_template_rows": null,
            "height": null,
            "justify_content": null,
            "justify_items": null,
            "left": null,
            "margin": null,
            "max_height": null,
            "max_width": null,
            "min_height": null,
            "min_width": null,
            "object_fit": null,
            "object_position": null,
            "order": null,
            "overflow": null,
            "overflow_x": null,
            "overflow_y": null,
            "padding": null,
            "right": null,
            "top": null,
            "visibility": null,
            "width": null
          }
        },
        "2572c1e6dfc04ef2b13b4497b07f87a4": {
          "model_module": "@jupyter-widgets/controls",
          "model_name": "DescriptionStyleModel",
          "model_module_version": "1.5.0",
          "state": {
            "_model_module": "@jupyter-widgets/controls",
            "_model_module_version": "1.5.0",
            "_model_name": "DescriptionStyleModel",
            "_view_count": null,
            "_view_module": "@jupyter-widgets/base",
            "_view_module_version": "1.2.0",
            "_view_name": "StyleView",
            "description_width": ""
          }
        },
        "1ba2f340bc1243628bd0b772414db33d": {
          "model_module": "@jupyter-widgets/controls",
          "model_name": "HBoxModel",
          "model_module_version": "1.5.0",
          "state": {
            "_dom_classes": [],
            "_model_module": "@jupyter-widgets/controls",
            "_model_module_version": "1.5.0",
            "_model_name": "HBoxModel",
            "_view_count": null,
            "_view_module": "@jupyter-widgets/controls",
            "_view_module_version": "1.5.0",
            "_view_name": "HBoxView",
            "box_style": "",
            "children": [
              "IPY_MODEL_51fa41e746594570a50d2c54cc08f0bd",
              "IPY_MODEL_9dce45198c9f40e3b4c11d4eaf4a83b2",
              "IPY_MODEL_621ee89871fd4afeb97b7efbe6a8a093"
            ],
            "layout": "IPY_MODEL_d430a1d09ee8482ea6e12910088a9399"
          }
        },
        "51fa41e746594570a50d2c54cc08f0bd": {
          "model_module": "@jupyter-widgets/controls",
          "model_name": "HTMLModel",
          "model_module_version": "1.5.0",
          "state": {
            "_dom_classes": [],
            "_model_module": "@jupyter-widgets/controls",
            "_model_module_version": "1.5.0",
            "_model_name": "HTMLModel",
            "_view_count": null,
            "_view_module": "@jupyter-widgets/controls",
            "_view_module_version": "1.5.0",
            "_view_name": "HTMLView",
            "description": "",
            "description_tooltip": null,
            "layout": "IPY_MODEL_c9f5297766614ad087526a9cc315d5a6",
            "placeholder": "​",
            "style": "IPY_MODEL_6046aea91cf44b13b773ebd55e6a2570",
            "value": "Downloading: 100%"
          }
        },
        "9dce45198c9f40e3b4c11d4eaf4a83b2": {
          "model_module": "@jupyter-widgets/controls",
          "model_name": "FloatProgressModel",
          "model_module_version": "1.5.0",
          "state": {
            "_dom_classes": [],
            "_model_module": "@jupyter-widgets/controls",
            "_model_module_version": "1.5.0",
            "_model_name": "FloatProgressModel",
            "_view_count": null,
            "_view_module": "@jupyter-widgets/controls",
            "_view_module_version": "1.5.0",
            "_view_name": "ProgressView",
            "bar_style": "success",
            "description": "",
            "description_tooltip": null,
            "layout": "IPY_MODEL_94d06556dcc844899eb02ebc192480da",
            "max": 1042301,
            "min": 0,
            "orientation": "horizontal",
            "style": "IPY_MODEL_889f8d11b7534bba8fee95aad0d037b4",
            "value": 1042301
          }
        },
        "621ee89871fd4afeb97b7efbe6a8a093": {
          "model_module": "@jupyter-widgets/controls",
          "model_name": "HTMLModel",
          "model_module_version": "1.5.0",
          "state": {
            "_dom_classes": [],
            "_model_module": "@jupyter-widgets/controls",
            "_model_module_version": "1.5.0",
            "_model_name": "HTMLModel",
            "_view_count": null,
            "_view_module": "@jupyter-widgets/controls",
            "_view_module_version": "1.5.0",
            "_view_name": "HTMLView",
            "description": "",
            "description_tooltip": null,
            "layout": "IPY_MODEL_c7d2419dc09e4ef2af5145714fb05d0a",
            "placeholder": "​",
            "style": "IPY_MODEL_339382e7a66b4b46919a486a01814cbf",
            "value": " 0.99M/0.99M [00:00&lt;00:00, 1.01MB/s]"
          }
        },
        "d430a1d09ee8482ea6e12910088a9399": {
          "model_module": "@jupyter-widgets/base",
          "model_name": "LayoutModel",
          "model_module_version": "1.2.0",
          "state": {
            "_model_module": "@jupyter-widgets/base",
            "_model_module_version": "1.2.0",
            "_model_name": "LayoutModel",
            "_view_count": null,
            "_view_module": "@jupyter-widgets/base",
            "_view_module_version": "1.2.0",
            "_view_name": "LayoutView",
            "align_content": null,
            "align_items": null,
            "align_self": null,
            "border": null,
            "bottom": null,
            "display": null,
            "flex": null,
            "flex_flow": null,
            "grid_area": null,
            "grid_auto_columns": null,
            "grid_auto_flow": null,
            "grid_auto_rows": null,
            "grid_column": null,
            "grid_gap": null,
            "grid_row": null,
            "grid_template_areas": null,
            "grid_template_columns": null,
            "grid_template_rows": null,
            "height": null,
            "justify_content": null,
            "justify_items": null,
            "left": null,
            "margin": null,
            "max_height": null,
            "max_width": null,
            "min_height": null,
            "min_width": null,
            "object_fit": null,
            "object_position": null,
            "order": null,
            "overflow": null,
            "overflow_x": null,
            "overflow_y": null,
            "padding": null,
            "right": null,
            "top": null,
            "visibility": null,
            "width": null
          }
        },
        "c9f5297766614ad087526a9cc315d5a6": {
          "model_module": "@jupyter-widgets/base",
          "model_name": "LayoutModel",
          "model_module_version": "1.2.0",
          "state": {
            "_model_module": "@jupyter-widgets/base",
            "_model_module_version": "1.2.0",
            "_model_name": "LayoutModel",
            "_view_count": null,
            "_view_module": "@jupyter-widgets/base",
            "_view_module_version": "1.2.0",
            "_view_name": "LayoutView",
            "align_content": null,
            "align_items": null,
            "align_self": null,
            "border": null,
            "bottom": null,
            "display": null,
            "flex": null,
            "flex_flow": null,
            "grid_area": null,
            "grid_auto_columns": null,
            "grid_auto_flow": null,
            "grid_auto_rows": null,
            "grid_column": null,
            "grid_gap": null,
            "grid_row": null,
            "grid_template_areas": null,
            "grid_template_columns": null,
            "grid_template_rows": null,
            "height": null,
            "justify_content": null,
            "justify_items": null,
            "left": null,
            "margin": null,
            "max_height": null,
            "max_width": null,
            "min_height": null,
            "min_width": null,
            "object_fit": null,
            "object_position": null,
            "order": null,
            "overflow": null,
            "overflow_x": null,
            "overflow_y": null,
            "padding": null,
            "right": null,
            "top": null,
            "visibility": null,
            "width": null
          }
        },
        "6046aea91cf44b13b773ebd55e6a2570": {
          "model_module": "@jupyter-widgets/controls",
          "model_name": "DescriptionStyleModel",
          "model_module_version": "1.5.0",
          "state": {
            "_model_module": "@jupyter-widgets/controls",
            "_model_module_version": "1.5.0",
            "_model_name": "DescriptionStyleModel",
            "_view_count": null,
            "_view_module": "@jupyter-widgets/base",
            "_view_module_version": "1.2.0",
            "_view_name": "StyleView",
            "description_width": ""
          }
        },
        "94d06556dcc844899eb02ebc192480da": {
          "model_module": "@jupyter-widgets/base",
          "model_name": "LayoutModel",
          "model_module_version": "1.2.0",
          "state": {
            "_model_module": "@jupyter-widgets/base",
            "_model_module_version": "1.2.0",
            "_model_name": "LayoutModel",
            "_view_count": null,
            "_view_module": "@jupyter-widgets/base",
            "_view_module_version": "1.2.0",
            "_view_name": "LayoutView",
            "align_content": null,
            "align_items": null,
            "align_self": null,
            "border": null,
            "bottom": null,
            "display": null,
            "flex": null,
            "flex_flow": null,
            "grid_area": null,
            "grid_auto_columns": null,
            "grid_auto_flow": null,
            "grid_auto_rows": null,
            "grid_column": null,
            "grid_gap": null,
            "grid_row": null,
            "grid_template_areas": null,
            "grid_template_columns": null,
            "grid_template_rows": null,
            "height": null,
            "justify_content": null,
            "justify_items": null,
            "left": null,
            "margin": null,
            "max_height": null,
            "max_width": null,
            "min_height": null,
            "min_width": null,
            "object_fit": null,
            "object_position": null,
            "order": null,
            "overflow": null,
            "overflow_x": null,
            "overflow_y": null,
            "padding": null,
            "right": null,
            "top": null,
            "visibility": null,
            "width": null
          }
        },
        "889f8d11b7534bba8fee95aad0d037b4": {
          "model_module": "@jupyter-widgets/controls",
          "model_name": "ProgressStyleModel",
          "model_module_version": "1.5.0",
          "state": {
            "_model_module": "@jupyter-widgets/controls",
            "_model_module_version": "1.5.0",
            "_model_name": "ProgressStyleModel",
            "_view_count": null,
            "_view_module": "@jupyter-widgets/base",
            "_view_module_version": "1.2.0",
            "_view_name": "StyleView",
            "bar_color": null,
            "description_width": ""
          }
        },
        "c7d2419dc09e4ef2af5145714fb05d0a": {
          "model_module": "@jupyter-widgets/base",
          "model_name": "LayoutModel",
          "model_module_version": "1.2.0",
          "state": {
            "_model_module": "@jupyter-widgets/base",
            "_model_module_version": "1.2.0",
            "_model_name": "LayoutModel",
            "_view_count": null,
            "_view_module": "@jupyter-widgets/base",
            "_view_module_version": "1.2.0",
            "_view_name": "LayoutView",
            "align_content": null,
            "align_items": null,
            "align_self": null,
            "border": null,
            "bottom": null,
            "display": null,
            "flex": null,
            "flex_flow": null,
            "grid_area": null,
            "grid_auto_columns": null,
            "grid_auto_flow": null,
            "grid_auto_rows": null,
            "grid_column": null,
            "grid_gap": null,
            "grid_row": null,
            "grid_template_areas": null,
            "grid_template_columns": null,
            "grid_template_rows": null,
            "height": null,
            "justify_content": null,
            "justify_items": null,
            "left": null,
            "margin": null,
            "max_height": null,
            "max_width": null,
            "min_height": null,
            "min_width": null,
            "object_fit": null,
            "object_position": null,
            "order": null,
            "overflow": null,
            "overflow_x": null,
            "overflow_y": null,
            "padding": null,
            "right": null,
            "top": null,
            "visibility": null,
            "width": null
          }
        },
        "339382e7a66b4b46919a486a01814cbf": {
          "model_module": "@jupyter-widgets/controls",
          "model_name": "DescriptionStyleModel",
          "model_module_version": "1.5.0",
          "state": {
            "_model_module": "@jupyter-widgets/controls",
            "_model_module_version": "1.5.0",
            "_model_name": "DescriptionStyleModel",
            "_view_count": null,
            "_view_module": "@jupyter-widgets/base",
            "_view_module_version": "1.2.0",
            "_view_name": "StyleView",
            "description_width": ""
          }
        },
        "6cbb3eb2940d4f19905cced6b8a9438f": {
          "model_module": "@jupyter-widgets/controls",
          "model_name": "HBoxModel",
          "model_module_version": "1.5.0",
          "state": {
            "_dom_classes": [],
            "_model_module": "@jupyter-widgets/controls",
            "_model_module_version": "1.5.0",
            "_model_name": "HBoxModel",
            "_view_count": null,
            "_view_module": "@jupyter-widgets/controls",
            "_view_module_version": "1.5.0",
            "_view_name": "HBoxView",
            "box_style": "",
            "children": [
              "IPY_MODEL_9749c59e68934eb4a6dccc630e91ea3f",
              "IPY_MODEL_f7703addda794378acaeed4217695c24",
              "IPY_MODEL_a78e043f9a6443d996d82767e62a6dc4"
            ],
            "layout": "IPY_MODEL_bea1c734624141179d95d3c8726e7019"
          }
        },
        "9749c59e68934eb4a6dccc630e91ea3f": {
          "model_module": "@jupyter-widgets/controls",
          "model_name": "HTMLModel",
          "model_module_version": "1.5.0",
          "state": {
            "_dom_classes": [],
            "_model_module": "@jupyter-widgets/controls",
            "_model_module_version": "1.5.0",
            "_model_name": "HTMLModel",
            "_view_count": null,
            "_view_module": "@jupyter-widgets/controls",
            "_view_module_version": "1.5.0",
            "_view_name": "HTMLView",
            "description": "",
            "description_tooltip": null,
            "layout": "IPY_MODEL_bf507fec59d2422cbedfa111851f1e04",
            "placeholder": "​",
            "style": "IPY_MODEL_f2f0ca47dee94a6893a1d1b7f187aaca",
            "value": "Downloading: 100%"
          }
        },
        "f7703addda794378acaeed4217695c24": {
          "model_module": "@jupyter-widgets/controls",
          "model_name": "FloatProgressModel",
          "model_module_version": "1.5.0",
          "state": {
            "_dom_classes": [],
            "_model_module": "@jupyter-widgets/controls",
            "_model_module_version": "1.5.0",
            "_model_name": "FloatProgressModel",
            "_view_count": null,
            "_view_module": "@jupyter-widgets/controls",
            "_view_module_version": "1.5.0",
            "_view_name": "ProgressView",
            "bar_style": "success",
            "description": "",
            "description_tooltip": null,
            "layout": "IPY_MODEL_df06fae481384547979ecfcf65701f52",
            "max": 456318,
            "min": 0,
            "orientation": "horizontal",
            "style": "IPY_MODEL_6070ec00a8654fc9a5d0926b5f50d257",
            "value": 456318
          }
        },
        "a78e043f9a6443d996d82767e62a6dc4": {
          "model_module": "@jupyter-widgets/controls",
          "model_name": "HTMLModel",
          "model_module_version": "1.5.0",
          "state": {
            "_dom_classes": [],
            "_model_module": "@jupyter-widgets/controls",
            "_model_module_version": "1.5.0",
            "_model_name": "HTMLModel",
            "_view_count": null,
            "_view_module": "@jupyter-widgets/controls",
            "_view_module_version": "1.5.0",
            "_view_name": "HTMLView",
            "description": "",
            "description_tooltip": null,
            "layout": "IPY_MODEL_9e484f8a2a75421ab250e399606180fa",
            "placeholder": "​",
            "style": "IPY_MODEL_13b9cc7a6a544c648d530bc4bc0d2d2e",
            "value": " 446k/446k [00:00&lt;00:00, 441kB/s]"
          }
        },
        "bea1c734624141179d95d3c8726e7019": {
          "model_module": "@jupyter-widgets/base",
          "model_name": "LayoutModel",
          "model_module_version": "1.2.0",
          "state": {
            "_model_module": "@jupyter-widgets/base",
            "_model_module_version": "1.2.0",
            "_model_name": "LayoutModel",
            "_view_count": null,
            "_view_module": "@jupyter-widgets/base",
            "_view_module_version": "1.2.0",
            "_view_name": "LayoutView",
            "align_content": null,
            "align_items": null,
            "align_self": null,
            "border": null,
            "bottom": null,
            "display": null,
            "flex": null,
            "flex_flow": null,
            "grid_area": null,
            "grid_auto_columns": null,
            "grid_auto_flow": null,
            "grid_auto_rows": null,
            "grid_column": null,
            "grid_gap": null,
            "grid_row": null,
            "grid_template_areas": null,
            "grid_template_columns": null,
            "grid_template_rows": null,
            "height": null,
            "justify_content": null,
            "justify_items": null,
            "left": null,
            "margin": null,
            "max_height": null,
            "max_width": null,
            "min_height": null,
            "min_width": null,
            "object_fit": null,
            "object_position": null,
            "order": null,
            "overflow": null,
            "overflow_x": null,
            "overflow_y": null,
            "padding": null,
            "right": null,
            "top": null,
            "visibility": null,
            "width": null
          }
        },
        "bf507fec59d2422cbedfa111851f1e04": {
          "model_module": "@jupyter-widgets/base",
          "model_name": "LayoutModel",
          "model_module_version": "1.2.0",
          "state": {
            "_model_module": "@jupyter-widgets/base",
            "_model_module_version": "1.2.0",
            "_model_name": "LayoutModel",
            "_view_count": null,
            "_view_module": "@jupyter-widgets/base",
            "_view_module_version": "1.2.0",
            "_view_name": "LayoutView",
            "align_content": null,
            "align_items": null,
            "align_self": null,
            "border": null,
            "bottom": null,
            "display": null,
            "flex": null,
            "flex_flow": null,
            "grid_area": null,
            "grid_auto_columns": null,
            "grid_auto_flow": null,
            "grid_auto_rows": null,
            "grid_column": null,
            "grid_gap": null,
            "grid_row": null,
            "grid_template_areas": null,
            "grid_template_columns": null,
            "grid_template_rows": null,
            "height": null,
            "justify_content": null,
            "justify_items": null,
            "left": null,
            "margin": null,
            "max_height": null,
            "max_width": null,
            "min_height": null,
            "min_width": null,
            "object_fit": null,
            "object_position": null,
            "order": null,
            "overflow": null,
            "overflow_x": null,
            "overflow_y": null,
            "padding": null,
            "right": null,
            "top": null,
            "visibility": null,
            "width": null
          }
        },
        "f2f0ca47dee94a6893a1d1b7f187aaca": {
          "model_module": "@jupyter-widgets/controls",
          "model_name": "DescriptionStyleModel",
          "model_module_version": "1.5.0",
          "state": {
            "_model_module": "@jupyter-widgets/controls",
            "_model_module_version": "1.5.0",
            "_model_name": "DescriptionStyleModel",
            "_view_count": null,
            "_view_module": "@jupyter-widgets/base",
            "_view_module_version": "1.2.0",
            "_view_name": "StyleView",
            "description_width": ""
          }
        },
        "df06fae481384547979ecfcf65701f52": {
          "model_module": "@jupyter-widgets/base",
          "model_name": "LayoutModel",
          "model_module_version": "1.2.0",
          "state": {
            "_model_module": "@jupyter-widgets/base",
            "_model_module_version": "1.2.0",
            "_model_name": "LayoutModel",
            "_view_count": null,
            "_view_module": "@jupyter-widgets/base",
            "_view_module_version": "1.2.0",
            "_view_name": "LayoutView",
            "align_content": null,
            "align_items": null,
            "align_self": null,
            "border": null,
            "bottom": null,
            "display": null,
            "flex": null,
            "flex_flow": null,
            "grid_area": null,
            "grid_auto_columns": null,
            "grid_auto_flow": null,
            "grid_auto_rows": null,
            "grid_column": null,
            "grid_gap": null,
            "grid_row": null,
            "grid_template_areas": null,
            "grid_template_columns": null,
            "grid_template_rows": null,
            "height": null,
            "justify_content": null,
            "justify_items": null,
            "left": null,
            "margin": null,
            "max_height": null,
            "max_width": null,
            "min_height": null,
            "min_width": null,
            "object_fit": null,
            "object_position": null,
            "order": null,
            "overflow": null,
            "overflow_x": null,
            "overflow_y": null,
            "padding": null,
            "right": null,
            "top": null,
            "visibility": null,
            "width": null
          }
        },
        "6070ec00a8654fc9a5d0926b5f50d257": {
          "model_module": "@jupyter-widgets/controls",
          "model_name": "ProgressStyleModel",
          "model_module_version": "1.5.0",
          "state": {
            "_model_module": "@jupyter-widgets/controls",
            "_model_module_version": "1.5.0",
            "_model_name": "ProgressStyleModel",
            "_view_count": null,
            "_view_module": "@jupyter-widgets/base",
            "_view_module_version": "1.2.0",
            "_view_name": "StyleView",
            "bar_color": null,
            "description_width": ""
          }
        },
        "9e484f8a2a75421ab250e399606180fa": {
          "model_module": "@jupyter-widgets/base",
          "model_name": "LayoutModel",
          "model_module_version": "1.2.0",
          "state": {
            "_model_module": "@jupyter-widgets/base",
            "_model_module_version": "1.2.0",
            "_model_name": "LayoutModel",
            "_view_count": null,
            "_view_module": "@jupyter-widgets/base",
            "_view_module_version": "1.2.0",
            "_view_name": "LayoutView",
            "align_content": null,
            "align_items": null,
            "align_self": null,
            "border": null,
            "bottom": null,
            "display": null,
            "flex": null,
            "flex_flow": null,
            "grid_area": null,
            "grid_auto_columns": null,
            "grid_auto_flow": null,
            "grid_auto_rows": null,
            "grid_column": null,
            "grid_gap": null,
            "grid_row": null,
            "grid_template_areas": null,
            "grid_template_columns": null,
            "grid_template_rows": null,
            "height": null,
            "justify_content": null,
            "justify_items": null,
            "left": null,
            "margin": null,
            "max_height": null,
            "max_width": null,
            "min_height": null,
            "min_width": null,
            "object_fit": null,
            "object_position": null,
            "order": null,
            "overflow": null,
            "overflow_x": null,
            "overflow_y": null,
            "padding": null,
            "right": null,
            "top": null,
            "visibility": null,
            "width": null
          }
        },
        "13b9cc7a6a544c648d530bc4bc0d2d2e": {
          "model_module": "@jupyter-widgets/controls",
          "model_name": "DescriptionStyleModel",
          "model_module_version": "1.5.0",
          "state": {
            "_model_module": "@jupyter-widgets/controls",
            "_model_module_version": "1.5.0",
            "_model_name": "DescriptionStyleModel",
            "_view_count": null,
            "_view_module": "@jupyter-widgets/base",
            "_view_module_version": "1.2.0",
            "_view_name": "StyleView",
            "description_width": ""
          }
        },
        "ddb4e3c62bfb475faa7cac06be39801a": {
          "model_module": "@jupyter-widgets/controls",
          "model_name": "HBoxModel",
          "model_module_version": "1.5.0",
          "state": {
            "_dom_classes": [],
            "_model_module": "@jupyter-widgets/controls",
            "_model_module_version": "1.5.0",
            "_model_name": "HBoxModel",
            "_view_count": null,
            "_view_module": "@jupyter-widgets/controls",
            "_view_module_version": "1.5.0",
            "_view_name": "HBoxView",
            "box_style": "",
            "children": [
              "IPY_MODEL_a46424ca040d42679aac04a130c681b2",
              "IPY_MODEL_3342695805fd4f458c09d296cf5c181f",
              "IPY_MODEL_4a13157c98284a2e990602ea8fd7a252"
            ],
            "layout": "IPY_MODEL_6e3570f333cb4d9ea6daf46539dba013"
          }
        },
        "a46424ca040d42679aac04a130c681b2": {
          "model_module": "@jupyter-widgets/controls",
          "model_name": "HTMLModel",
          "model_module_version": "1.5.0",
          "state": {
            "_dom_classes": [],
            "_model_module": "@jupyter-widgets/controls",
            "_model_module_version": "1.5.0",
            "_model_name": "HTMLModel",
            "_view_count": null,
            "_view_module": "@jupyter-widgets/controls",
            "_view_module_version": "1.5.0",
            "_view_name": "HTMLView",
            "description": "",
            "description_tooltip": null,
            "layout": "IPY_MODEL_ac8bd31592ef4ae68d331663d4e7d75e",
            "placeholder": "​",
            "style": "IPY_MODEL_64445749e17043c08331a053cfd3e6dd",
            "value": "Downloading: 100%"
          }
        },
        "3342695805fd4f458c09d296cf5c181f": {
          "model_module": "@jupyter-widgets/controls",
          "model_name": "FloatProgressModel",
          "model_module_version": "1.5.0",
          "state": {
            "_dom_classes": [],
            "_model_module": "@jupyter-widgets/controls",
            "_model_module_version": "1.5.0",
            "_model_name": "FloatProgressModel",
            "_view_count": null,
            "_view_module": "@jupyter-widgets/controls",
            "_view_module_version": "1.5.0",
            "_view_name": "ProgressView",
            "bar_style": "success",
            "description": "",
            "description_tooltip": null,
            "layout": "IPY_MODEL_3df62a4407de4689b53a927902b3ec65",
            "max": 1355256,
            "min": 0,
            "orientation": "horizontal",
            "style": "IPY_MODEL_2a1256df39d242b18ae7b4d461cded16",
            "value": 1355256
          }
        },
        "4a13157c98284a2e990602ea8fd7a252": {
          "model_module": "@jupyter-widgets/controls",
          "model_name": "HTMLModel",
          "model_module_version": "1.5.0",
          "state": {
            "_dom_classes": [],
            "_model_module": "@jupyter-widgets/controls",
            "_model_module_version": "1.5.0",
            "_model_name": "HTMLModel",
            "_view_count": null,
            "_view_module": "@jupyter-widgets/controls",
            "_view_module_version": "1.5.0",
            "_view_name": "HTMLView",
            "description": "",
            "description_tooltip": null,
            "layout": "IPY_MODEL_5827845ed64c462db2c645a378e2454b",
            "placeholder": "​",
            "style": "IPY_MODEL_46e4da87ce7b432cb620b7200e18fa3a",
            "value": " 1.29M/1.29M [00:01&lt;00:00, 1.51MB/s]"
          }
        },
        "6e3570f333cb4d9ea6daf46539dba013": {
          "model_module": "@jupyter-widgets/base",
          "model_name": "LayoutModel",
          "model_module_version": "1.2.0",
          "state": {
            "_model_module": "@jupyter-widgets/base",
            "_model_module_version": "1.2.0",
            "_model_name": "LayoutModel",
            "_view_count": null,
            "_view_module": "@jupyter-widgets/base",
            "_view_module_version": "1.2.0",
            "_view_name": "LayoutView",
            "align_content": null,
            "align_items": null,
            "align_self": null,
            "border": null,
            "bottom": null,
            "display": null,
            "flex": null,
            "flex_flow": null,
            "grid_area": null,
            "grid_auto_columns": null,
            "grid_auto_flow": null,
            "grid_auto_rows": null,
            "grid_column": null,
            "grid_gap": null,
            "grid_row": null,
            "grid_template_areas": null,
            "grid_template_columns": null,
            "grid_template_rows": null,
            "height": null,
            "justify_content": null,
            "justify_items": null,
            "left": null,
            "margin": null,
            "max_height": null,
            "max_width": null,
            "min_height": null,
            "min_width": null,
            "object_fit": null,
            "object_position": null,
            "order": null,
            "overflow": null,
            "overflow_x": null,
            "overflow_y": null,
            "padding": null,
            "right": null,
            "top": null,
            "visibility": null,
            "width": null
          }
        },
        "ac8bd31592ef4ae68d331663d4e7d75e": {
          "model_module": "@jupyter-widgets/base",
          "model_name": "LayoutModel",
          "model_module_version": "1.2.0",
          "state": {
            "_model_module": "@jupyter-widgets/base",
            "_model_module_version": "1.2.0",
            "_model_name": "LayoutModel",
            "_view_count": null,
            "_view_module": "@jupyter-widgets/base",
            "_view_module_version": "1.2.0",
            "_view_name": "LayoutView",
            "align_content": null,
            "align_items": null,
            "align_self": null,
            "border": null,
            "bottom": null,
            "display": null,
            "flex": null,
            "flex_flow": null,
            "grid_area": null,
            "grid_auto_columns": null,
            "grid_auto_flow": null,
            "grid_auto_rows": null,
            "grid_column": null,
            "grid_gap": null,
            "grid_row": null,
            "grid_template_areas": null,
            "grid_template_columns": null,
            "grid_template_rows": null,
            "height": null,
            "justify_content": null,
            "justify_items": null,
            "left": null,
            "margin": null,
            "max_height": null,
            "max_width": null,
            "min_height": null,
            "min_width": null,
            "object_fit": null,
            "object_position": null,
            "order": null,
            "overflow": null,
            "overflow_x": null,
            "overflow_y": null,
            "padding": null,
            "right": null,
            "top": null,
            "visibility": null,
            "width": null
          }
        },
        "64445749e17043c08331a053cfd3e6dd": {
          "model_module": "@jupyter-widgets/controls",
          "model_name": "DescriptionStyleModel",
          "model_module_version": "1.5.0",
          "state": {
            "_model_module": "@jupyter-widgets/controls",
            "_model_module_version": "1.5.0",
            "_model_name": "DescriptionStyleModel",
            "_view_count": null,
            "_view_module": "@jupyter-widgets/base",
            "_view_module_version": "1.2.0",
            "_view_name": "StyleView",
            "description_width": ""
          }
        },
        "3df62a4407de4689b53a927902b3ec65": {
          "model_module": "@jupyter-widgets/base",
          "model_name": "LayoutModel",
          "model_module_version": "1.2.0",
          "state": {
            "_model_module": "@jupyter-widgets/base",
            "_model_module_version": "1.2.0",
            "_model_name": "LayoutModel",
            "_view_count": null,
            "_view_module": "@jupyter-widgets/base",
            "_view_module_version": "1.2.0",
            "_view_name": "LayoutView",
            "align_content": null,
            "align_items": null,
            "align_self": null,
            "border": null,
            "bottom": null,
            "display": null,
            "flex": null,
            "flex_flow": null,
            "grid_area": null,
            "grid_auto_columns": null,
            "grid_auto_flow": null,
            "grid_auto_rows": null,
            "grid_column": null,
            "grid_gap": null,
            "grid_row": null,
            "grid_template_areas": null,
            "grid_template_columns": null,
            "grid_template_rows": null,
            "height": null,
            "justify_content": null,
            "justify_items": null,
            "left": null,
            "margin": null,
            "max_height": null,
            "max_width": null,
            "min_height": null,
            "min_width": null,
            "object_fit": null,
            "object_position": null,
            "order": null,
            "overflow": null,
            "overflow_x": null,
            "overflow_y": null,
            "padding": null,
            "right": null,
            "top": null,
            "visibility": null,
            "width": null
          }
        },
        "2a1256df39d242b18ae7b4d461cded16": {
          "model_module": "@jupyter-widgets/controls",
          "model_name": "ProgressStyleModel",
          "model_module_version": "1.5.0",
          "state": {
            "_model_module": "@jupyter-widgets/controls",
            "_model_module_version": "1.5.0",
            "_model_name": "ProgressStyleModel",
            "_view_count": null,
            "_view_module": "@jupyter-widgets/base",
            "_view_module_version": "1.2.0",
            "_view_name": "StyleView",
            "bar_color": null,
            "description_width": ""
          }
        },
        "5827845ed64c462db2c645a378e2454b": {
          "model_module": "@jupyter-widgets/base",
          "model_name": "LayoutModel",
          "model_module_version": "1.2.0",
          "state": {
            "_model_module": "@jupyter-widgets/base",
            "_model_module_version": "1.2.0",
            "_model_name": "LayoutModel",
            "_view_count": null,
            "_view_module": "@jupyter-widgets/base",
            "_view_module_version": "1.2.0",
            "_view_name": "LayoutView",
            "align_content": null,
            "align_items": null,
            "align_self": null,
            "border": null,
            "bottom": null,
            "display": null,
            "flex": null,
            "flex_flow": null,
            "grid_area": null,
            "grid_auto_columns": null,
            "grid_auto_flow": null,
            "grid_auto_rows": null,
            "grid_column": null,
            "grid_gap": null,
            "grid_row": null,
            "grid_template_areas": null,
            "grid_template_columns": null,
            "grid_template_rows": null,
            "height": null,
            "justify_content": null,
            "justify_items": null,
            "left": null,
            "margin": null,
            "max_height": null,
            "max_width": null,
            "min_height": null,
            "min_width": null,
            "object_fit": null,
            "object_position": null,
            "order": null,
            "overflow": null,
            "overflow_x": null,
            "overflow_y": null,
            "padding": null,
            "right": null,
            "top": null,
            "visibility": null,
            "width": null
          }
        },
        "46e4da87ce7b432cb620b7200e18fa3a": {
          "model_module": "@jupyter-widgets/controls",
          "model_name": "DescriptionStyleModel",
          "model_module_version": "1.5.0",
          "state": {
            "_model_module": "@jupyter-widgets/controls",
            "_model_module_version": "1.5.0",
            "_model_name": "DescriptionStyleModel",
            "_view_count": null,
            "_view_module": "@jupyter-widgets/base",
            "_view_module_version": "1.2.0",
            "_view_name": "StyleView",
            "description_width": ""
          }
        },
        "a9c4c2a7b2284353b19f1638a4a53621": {
          "model_module": "@jupyter-widgets/controls",
          "model_name": "HBoxModel",
          "model_module_version": "1.5.0",
          "state": {
            "_dom_classes": [],
            "_model_module": "@jupyter-widgets/controls",
            "_model_module_version": "1.5.0",
            "_model_name": "HBoxModel",
            "_view_count": null,
            "_view_module": "@jupyter-widgets/controls",
            "_view_module_version": "1.5.0",
            "_view_name": "HBoxView",
            "box_style": "",
            "children": [
              "IPY_MODEL_21e2d4d4463b4f9d9b9cb189adc890da",
              "IPY_MODEL_3bba29ff6651433dad4ef4119580f84d",
              "IPY_MODEL_59aaa40a1d514f718375961b3107b932"
            ],
            "layout": "IPY_MODEL_b8d02107816c4ec58b2caa6e82eb3708"
          }
        },
        "21e2d4d4463b4f9d9b9cb189adc890da": {
          "model_module": "@jupyter-widgets/controls",
          "model_name": "HTMLModel",
          "model_module_version": "1.5.0",
          "state": {
            "_dom_classes": [],
            "_model_module": "@jupyter-widgets/controls",
            "_model_module_version": "1.5.0",
            "_model_name": "HTMLModel",
            "_view_count": null,
            "_view_module": "@jupyter-widgets/controls",
            "_view_module_version": "1.5.0",
            "_view_name": "HTMLView",
            "description": "",
            "description_tooltip": null,
            "layout": "IPY_MODEL_ae8332f354d3432792bb0756f5ff2f6d",
            "placeholder": "​",
            "style": "IPY_MODEL_872a20ff81304faa9df5ea440cbda9c8",
            "value": "Downloading: 100%"
          }
        },
        "3bba29ff6651433dad4ef4119580f84d": {
          "model_module": "@jupyter-widgets/controls",
          "model_name": "FloatProgressModel",
          "model_module_version": "1.5.0",
          "state": {
            "_dom_classes": [],
            "_model_module": "@jupyter-widgets/controls",
            "_model_module_version": "1.5.0",
            "_model_name": "FloatProgressModel",
            "_view_count": null,
            "_view_module": "@jupyter-widgets/controls",
            "_view_module_version": "1.5.0",
            "_view_name": "ProgressView",
            "bar_style": "success",
            "description": "",
            "description_tooltip": null,
            "layout": "IPY_MODEL_e95c4e76398a4b0897ce69856a9be511",
            "max": 6431878936,
            "min": 0,
            "orientation": "horizontal",
            "style": "IPY_MODEL_9a585d50ce704a789a140c58de8379f1",
            "value": 6431878936
          }
        },
        "59aaa40a1d514f718375961b3107b932": {
          "model_module": "@jupyter-widgets/controls",
          "model_name": "HTMLModel",
          "model_module_version": "1.5.0",
          "state": {
            "_dom_classes": [],
            "_model_module": "@jupyter-widgets/controls",
            "_model_module_version": "1.5.0",
            "_model_name": "HTMLModel",
            "_view_count": null,
            "_view_module": "@jupyter-widgets/controls",
            "_view_module_version": "1.5.0",
            "_view_name": "HTMLView",
            "description": "",
            "description_tooltip": null,
            "layout": "IPY_MODEL_3e8e4ad7656541c2bb1f30b1b1e70cb3",
            "placeholder": "​",
            "style": "IPY_MODEL_ae571b29d1444dcb9925b30f6a2d8736",
            "value": " 5.99G/5.99G [01:28&lt;00:00, 81.7MB/s]"
          }
        },
        "b8d02107816c4ec58b2caa6e82eb3708": {
          "model_module": "@jupyter-widgets/base",
          "model_name": "LayoutModel",
          "model_module_version": "1.2.0",
          "state": {
            "_model_module": "@jupyter-widgets/base",
            "_model_module_version": "1.2.0",
            "_model_name": "LayoutModel",
            "_view_count": null,
            "_view_module": "@jupyter-widgets/base",
            "_view_module_version": "1.2.0",
            "_view_name": "LayoutView",
            "align_content": null,
            "align_items": null,
            "align_self": null,
            "border": null,
            "bottom": null,
            "display": null,
            "flex": null,
            "flex_flow": null,
            "grid_area": null,
            "grid_auto_columns": null,
            "grid_auto_flow": null,
            "grid_auto_rows": null,
            "grid_column": null,
            "grid_gap": null,
            "grid_row": null,
            "grid_template_areas": null,
            "grid_template_columns": null,
            "grid_template_rows": null,
            "height": null,
            "justify_content": null,
            "justify_items": null,
            "left": null,
            "margin": null,
            "max_height": null,
            "max_width": null,
            "min_height": null,
            "min_width": null,
            "object_fit": null,
            "object_position": null,
            "order": null,
            "overflow": null,
            "overflow_x": null,
            "overflow_y": null,
            "padding": null,
            "right": null,
            "top": null,
            "visibility": null,
            "width": null
          }
        },
        "ae8332f354d3432792bb0756f5ff2f6d": {
          "model_module": "@jupyter-widgets/base",
          "model_name": "LayoutModel",
          "model_module_version": "1.2.0",
          "state": {
            "_model_module": "@jupyter-widgets/base",
            "_model_module_version": "1.2.0",
            "_model_name": "LayoutModel",
            "_view_count": null,
            "_view_module": "@jupyter-widgets/base",
            "_view_module_version": "1.2.0",
            "_view_name": "LayoutView",
            "align_content": null,
            "align_items": null,
            "align_self": null,
            "border": null,
            "bottom": null,
            "display": null,
            "flex": null,
            "flex_flow": null,
            "grid_area": null,
            "grid_auto_columns": null,
            "grid_auto_flow": null,
            "grid_auto_rows": null,
            "grid_column": null,
            "grid_gap": null,
            "grid_row": null,
            "grid_template_areas": null,
            "grid_template_columns": null,
            "grid_template_rows": null,
            "height": null,
            "justify_content": null,
            "justify_items": null,
            "left": null,
            "margin": null,
            "max_height": null,
            "max_width": null,
            "min_height": null,
            "min_width": null,
            "object_fit": null,
            "object_position": null,
            "order": null,
            "overflow": null,
            "overflow_x": null,
            "overflow_y": null,
            "padding": null,
            "right": null,
            "top": null,
            "visibility": null,
            "width": null
          }
        },
        "872a20ff81304faa9df5ea440cbda9c8": {
          "model_module": "@jupyter-widgets/controls",
          "model_name": "DescriptionStyleModel",
          "model_module_version": "1.5.0",
          "state": {
            "_model_module": "@jupyter-widgets/controls",
            "_model_module_version": "1.5.0",
            "_model_name": "DescriptionStyleModel",
            "_view_count": null,
            "_view_module": "@jupyter-widgets/base",
            "_view_module_version": "1.2.0",
            "_view_name": "StyleView",
            "description_width": ""
          }
        },
        "e95c4e76398a4b0897ce69856a9be511": {
          "model_module": "@jupyter-widgets/base",
          "model_name": "LayoutModel",
          "model_module_version": "1.2.0",
          "state": {
            "_model_module": "@jupyter-widgets/base",
            "_model_module_version": "1.2.0",
            "_model_name": "LayoutModel",
            "_view_count": null,
            "_view_module": "@jupyter-widgets/base",
            "_view_module_version": "1.2.0",
            "_view_name": "LayoutView",
            "align_content": null,
            "align_items": null,
            "align_self": null,
            "border": null,
            "bottom": null,
            "display": null,
            "flex": null,
            "flex_flow": null,
            "grid_area": null,
            "grid_auto_columns": null,
            "grid_auto_flow": null,
            "grid_auto_rows": null,
            "grid_column": null,
            "grid_gap": null,
            "grid_row": null,
            "grid_template_areas": null,
            "grid_template_columns": null,
            "grid_template_rows": null,
            "height": null,
            "justify_content": null,
            "justify_items": null,
            "left": null,
            "margin": null,
            "max_height": null,
            "max_width": null,
            "min_height": null,
            "min_width": null,
            "object_fit": null,
            "object_position": null,
            "order": null,
            "overflow": null,
            "overflow_x": null,
            "overflow_y": null,
            "padding": null,
            "right": null,
            "top": null,
            "visibility": null,
            "width": null
          }
        },
        "9a585d50ce704a789a140c58de8379f1": {
          "model_module": "@jupyter-widgets/controls",
          "model_name": "ProgressStyleModel",
          "model_module_version": "1.5.0",
          "state": {
            "_model_module": "@jupyter-widgets/controls",
            "_model_module_version": "1.5.0",
            "_model_name": "ProgressStyleModel",
            "_view_count": null,
            "_view_module": "@jupyter-widgets/base",
            "_view_module_version": "1.2.0",
            "_view_name": "StyleView",
            "bar_color": null,
            "description_width": ""
          }
        },
        "3e8e4ad7656541c2bb1f30b1b1e70cb3": {
          "model_module": "@jupyter-widgets/base",
          "model_name": "LayoutModel",
          "model_module_version": "1.2.0",
          "state": {
            "_model_module": "@jupyter-widgets/base",
            "_model_module_version": "1.2.0",
            "_model_name": "LayoutModel",
            "_view_count": null,
            "_view_module": "@jupyter-widgets/base",
            "_view_module_version": "1.2.0",
            "_view_name": "LayoutView",
            "align_content": null,
            "align_items": null,
            "align_self": null,
            "border": null,
            "bottom": null,
            "display": null,
            "flex": null,
            "flex_flow": null,
            "grid_area": null,
            "grid_auto_columns": null,
            "grid_auto_flow": null,
            "grid_auto_rows": null,
            "grid_column": null,
            "grid_gap": null,
            "grid_row": null,
            "grid_template_areas": null,
            "grid_template_columns": null,
            "grid_template_rows": null,
            "height": null,
            "justify_content": null,
            "justify_items": null,
            "left": null,
            "margin": null,
            "max_height": null,
            "max_width": null,
            "min_height": null,
            "min_width": null,
            "object_fit": null,
            "object_position": null,
            "order": null,
            "overflow": null,
            "overflow_x": null,
            "overflow_y": null,
            "padding": null,
            "right": null,
            "top": null,
            "visibility": null,
            "width": null
          }
        },
        "ae571b29d1444dcb9925b30f6a2d8736": {
          "model_module": "@jupyter-widgets/controls",
          "model_name": "DescriptionStyleModel",
          "model_module_version": "1.5.0",
          "state": {
            "_model_module": "@jupyter-widgets/controls",
            "_model_module_version": "1.5.0",
            "_model_name": "DescriptionStyleModel",
            "_view_count": null,
            "_view_module": "@jupyter-widgets/base",
            "_view_module_version": "1.2.0",
            "_view_name": "StyleView",
            "description_width": ""
          }
        }
      }
    }
  },
  "nbformat": 4,
  "nbformat_minor": 0
}